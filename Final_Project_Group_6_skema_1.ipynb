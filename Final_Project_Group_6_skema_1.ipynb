{
  "nbformat": 4,
  "nbformat_minor": 0,
  "metadata": {
    "colab": {
      "name": "Final_Project_Group_6.ipynb",
      "provenance": [],
      "collapsed_sections": []
    },
    "kernelspec": {
      "name": "python3",
      "display_name": "Python 3"
    },
    "language_info": {
      "name": "python"
    }
  },
  "cells": [
    {
      "cell_type": "markdown",
      "source": [
        "# **FINAL PROJECT GROUP 6**"
      ],
      "metadata": {
        "id": "R_U63nlagkr4"
      }
    },
    {
      "cell_type": "markdown",
      "source": [
        "Skema 1"
      ],
      "metadata": {
        "id": "dM3wIoJ-aD1b"
      }
    },
    {
      "cell_type": "markdown",
      "source": [
        "Contributor:\n",
        "1. Andreean Dharma Arisandi\n",
        "2. Reynaldi Marchiano\n",
        "3. Sanggeni Gali Whardana\n",
        "4. Teza Marlevi Fajar"
      ],
      "metadata": {
        "id": "kjiW000-g1ix"
      }
    },
    {
      "cell_type": "markdown",
      "source": [
        "# **IMPORTING LIBRARY**\n"
      ],
      "metadata": {
        "id": "egbpP4ofnHHf"
      }
    },
    {
      "cell_type": "markdown",
      "source": [
        "Pada Bagian ini kita akan melakukan importing library yang dibutuh kan dalam pembuatan model"
      ],
      "metadata": {
        "id": "WzSgBznscTmF"
      }
    },
    {
      "cell_type": "code",
      "source": [
        "!pip install pysastrawi"
      ],
      "metadata": {
        "colab": {
          "base_uri": "https://localhost:8080/"
        },
        "id": "j3vPyy7pxgHw",
        "outputId": "6d46a835-f0fe-4600-a780-b06bbd5328d0"
      },
      "execution_count": null,
      "outputs": [
        {
          "output_type": "stream",
          "name": "stdout",
          "text": [
            "Looking in indexes: https://pypi.org/simple, https://us-python.pkg.dev/colab-wheels/public/simple/\n",
            "Collecting pysastrawi\n",
            "  Downloading PySastrawi-1.2.0-py2.py3-none-any.whl (210 kB)\n",
            "\u001b[K     |████████████████████████████████| 210 kB 9.1 MB/s \n",
            "\u001b[?25hInstalling collected packages: pysastrawi\n",
            "Successfully installed pysastrawi-1.2.0\n"
          ]
        }
      ]
    },
    {
      "cell_type": "code",
      "execution_count": null,
      "metadata": {
        "id": "eTuTGW3BlxRh"
      },
      "outputs": [],
      "source": [
        "import warnings\n",
        "warnings.filterwarnings(\"ignore\")\n",
        "\n",
        "import pandas as pd\n",
        "import numpy as np\n",
        "import matplotlib.pyplot as plt\n",
        "import re\n",
        "import nltk\n",
        "import gensim\n",
        "\n",
        "from nltk import tokenize\n",
        "from nltk.cluster.util import cosine_distance\n",
        "from nltk.corpus import stopwords\n",
        "from Sastrawi.Stemmer.StemmerFactory import StemmerFactory\n",
        "from Sastrawi.StopWordRemover.StopWordRemoverFactory import StopWordRemoverFactory\n",
        "from wordcloud import WordCloud\n",
        "from gensim.models import Word2Vec"
      ]
    },
    {
      "cell_type": "code",
      "source": [
        "nltk.download('stopwords')"
      ],
      "metadata": {
        "colab": {
          "base_uri": "https://localhost:8080/"
        },
        "id": "M1SRHs9_zznA",
        "outputId": "94580e4e-8884-4660-f457-f2a45e7d6bbe"
      },
      "execution_count": null,
      "outputs": [
        {
          "output_type": "stream",
          "name": "stderr",
          "text": [
            "[nltk_data] Downloading package stopwords to /root/nltk_data...\n",
            "[nltk_data]   Unzipping corpora/stopwords.zip.\n"
          ]
        },
        {
          "output_type": "execute_result",
          "data": {
            "text/plain": [
              "True"
            ]
          },
          "metadata": {},
          "execution_count": 3
        }
      ]
    },
    {
      "cell_type": "markdown",
      "source": [
        "# **DATA LOADING**"
      ],
      "metadata": {
        "id": "Z41s3NeanMCJ"
      }
    },
    {
      "cell_type": "code",
      "source": [
        "# Loading dataset\n",
        "data = pd.read_csv('https://raw.githubusercontent.com/H8-Assignments-Bay/p2---final-project-group-006/main/Dataset_final_project_grup6.csv')"
      ],
      "metadata": {
        "id": "7eXj3er6mczR"
      },
      "execution_count": null,
      "outputs": []
    },
    {
      "cell_type": "code",
      "source": [
        "data.head()"
      ],
      "metadata": {
        "colab": {
          "base_uri": "https://localhost:8080/",
          "height": 206
        },
        "id": "v0fDTh5nnO-X",
        "outputId": "d9eeba2d-1aab-4dbb-e74b-16170b970f31"
      },
      "execution_count": null,
      "outputs": [
        {
          "output_type": "execute_result",
          "data": {
            "text/plain": [
              "   No                    Nama Restaurant  Rating  Price  \\\n",
              "0   1  KAKAW Fine Chocolate & Patisserie     3.4  20000   \n",
              "1   2                 Join Kopi Bulungan     3.9  20000   \n",
              "2   3                          Kopi Coga     4.0  25000   \n",
              "3   4     Mie Keriting Benhil \"Mas Pujo\"     3.4  25000   \n",
              "4   5                      Rocky Rooster     4.2  25000   \n",
              "\n",
              "                     Daerah              Tipe_1    Tipe_2 Tipe_3  \\\n",
              "0          Senayan, Jakarta                Kafe  Desserts      -   \n",
              "1           Blok M, Jakarta                Kopi         -      -   \n",
              "2  Bendungan Hilir, Jakarta                Kafe      Kopi    Tea   \n",
              "3  Bendungan Hilir, Jakarta               Bakmi         -      -   \n",
              "4         Palmerah, Jakarta  Makanan Cepat Saji         -      -   \n",
              "\n",
              "                                              Review  \n",
              "0  [('Fine Chocolate & Pattiserie ini tempatnya t...  \n",
              "1  [('Kopinya enak. Kental dan terasa kopinya. Ad...  \n",
              "2  [('Tempatnya mungil dengan nuansa berwarna bir...  \n",
              "3  [('mie yamin manis special enak sih lebih enak...  \n",
              "4  [('Kulitnya Enak Crispy Trs Dagingnya Juicy Bu...  "
            ],
            "text/html": [
              "\n",
              "  <div id=\"df-d684b4fa-7cf0-4e88-8abc-0e0a715f4c6f\">\n",
              "    <div class=\"colab-df-container\">\n",
              "      <div>\n",
              "<style scoped>\n",
              "    .dataframe tbody tr th:only-of-type {\n",
              "        vertical-align: middle;\n",
              "    }\n",
              "\n",
              "    .dataframe tbody tr th {\n",
              "        vertical-align: top;\n",
              "    }\n",
              "\n",
              "    .dataframe thead th {\n",
              "        text-align: right;\n",
              "    }\n",
              "</style>\n",
              "<table border=\"1\" class=\"dataframe\">\n",
              "  <thead>\n",
              "    <tr style=\"text-align: right;\">\n",
              "      <th></th>\n",
              "      <th>No</th>\n",
              "      <th>Nama Restaurant</th>\n",
              "      <th>Rating</th>\n",
              "      <th>Price</th>\n",
              "      <th>Daerah</th>\n",
              "      <th>Tipe_1</th>\n",
              "      <th>Tipe_2</th>\n",
              "      <th>Tipe_3</th>\n",
              "      <th>Review</th>\n",
              "    </tr>\n",
              "  </thead>\n",
              "  <tbody>\n",
              "    <tr>\n",
              "      <th>0</th>\n",
              "      <td>1</td>\n",
              "      <td>KAKAW Fine Chocolate &amp; Patisserie</td>\n",
              "      <td>3.4</td>\n",
              "      <td>20000</td>\n",
              "      <td>Senayan, Jakarta</td>\n",
              "      <td>Kafe</td>\n",
              "      <td>Desserts</td>\n",
              "      <td>-</td>\n",
              "      <td>[('Fine Chocolate &amp; Pattiserie ini tempatnya t...</td>\n",
              "    </tr>\n",
              "    <tr>\n",
              "      <th>1</th>\n",
              "      <td>2</td>\n",
              "      <td>Join Kopi Bulungan</td>\n",
              "      <td>3.9</td>\n",
              "      <td>20000</td>\n",
              "      <td>Blok M, Jakarta</td>\n",
              "      <td>Kopi</td>\n",
              "      <td>-</td>\n",
              "      <td>-</td>\n",
              "      <td>[('Kopinya enak. Kental dan terasa kopinya. Ad...</td>\n",
              "    </tr>\n",
              "    <tr>\n",
              "      <th>2</th>\n",
              "      <td>3</td>\n",
              "      <td>Kopi Coga</td>\n",
              "      <td>4.0</td>\n",
              "      <td>25000</td>\n",
              "      <td>Bendungan Hilir, Jakarta</td>\n",
              "      <td>Kafe</td>\n",
              "      <td>Kopi</td>\n",
              "      <td>Tea</td>\n",
              "      <td>[('Tempatnya mungil dengan nuansa berwarna bir...</td>\n",
              "    </tr>\n",
              "    <tr>\n",
              "      <th>3</th>\n",
              "      <td>4</td>\n",
              "      <td>Mie Keriting Benhil \"Mas Pujo\"</td>\n",
              "      <td>3.4</td>\n",
              "      <td>25000</td>\n",
              "      <td>Bendungan Hilir, Jakarta</td>\n",
              "      <td>Bakmi</td>\n",
              "      <td>-</td>\n",
              "      <td>-</td>\n",
              "      <td>[('mie yamin manis special enak sih lebih enak...</td>\n",
              "    </tr>\n",
              "    <tr>\n",
              "      <th>4</th>\n",
              "      <td>5</td>\n",
              "      <td>Rocky Rooster</td>\n",
              "      <td>4.2</td>\n",
              "      <td>25000</td>\n",
              "      <td>Palmerah, Jakarta</td>\n",
              "      <td>Makanan Cepat Saji</td>\n",
              "      <td>-</td>\n",
              "      <td>-</td>\n",
              "      <td>[('Kulitnya Enak Crispy Trs Dagingnya Juicy Bu...</td>\n",
              "    </tr>\n",
              "  </tbody>\n",
              "</table>\n",
              "</div>\n",
              "      <button class=\"colab-df-convert\" onclick=\"convertToInteractive('df-d684b4fa-7cf0-4e88-8abc-0e0a715f4c6f')\"\n",
              "              title=\"Convert this dataframe to an interactive table.\"\n",
              "              style=\"display:none;\">\n",
              "        \n",
              "  <svg xmlns=\"http://www.w3.org/2000/svg\" height=\"24px\"viewBox=\"0 0 24 24\"\n",
              "       width=\"24px\">\n",
              "    <path d=\"M0 0h24v24H0V0z\" fill=\"none\"/>\n",
              "    <path d=\"M18.56 5.44l.94 2.06.94-2.06 2.06-.94-2.06-.94-.94-2.06-.94 2.06-2.06.94zm-11 1L8.5 8.5l.94-2.06 2.06-.94-2.06-.94L8.5 2.5l-.94 2.06-2.06.94zm10 10l.94 2.06.94-2.06 2.06-.94-2.06-.94-.94-2.06-.94 2.06-2.06.94z\"/><path d=\"M17.41 7.96l-1.37-1.37c-.4-.4-.92-.59-1.43-.59-.52 0-1.04.2-1.43.59L10.3 9.45l-7.72 7.72c-.78.78-.78 2.05 0 2.83L4 21.41c.39.39.9.59 1.41.59.51 0 1.02-.2 1.41-.59l7.78-7.78 2.81-2.81c.8-.78.8-2.07 0-2.86zM5.41 20L4 18.59l7.72-7.72 1.47 1.35L5.41 20z\"/>\n",
              "  </svg>\n",
              "      </button>\n",
              "      \n",
              "  <style>\n",
              "    .colab-df-container {\n",
              "      display:flex;\n",
              "      flex-wrap:wrap;\n",
              "      gap: 12px;\n",
              "    }\n",
              "\n",
              "    .colab-df-convert {\n",
              "      background-color: #E8F0FE;\n",
              "      border: none;\n",
              "      border-radius: 50%;\n",
              "      cursor: pointer;\n",
              "      display: none;\n",
              "      fill: #1967D2;\n",
              "      height: 32px;\n",
              "      padding: 0 0 0 0;\n",
              "      width: 32px;\n",
              "    }\n",
              "\n",
              "    .colab-df-convert:hover {\n",
              "      background-color: #E2EBFA;\n",
              "      box-shadow: 0px 1px 2px rgba(60, 64, 67, 0.3), 0px 1px 3px 1px rgba(60, 64, 67, 0.15);\n",
              "      fill: #174EA6;\n",
              "    }\n",
              "\n",
              "    [theme=dark] .colab-df-convert {\n",
              "      background-color: #3B4455;\n",
              "      fill: #D2E3FC;\n",
              "    }\n",
              "\n",
              "    [theme=dark] .colab-df-convert:hover {\n",
              "      background-color: #434B5C;\n",
              "      box-shadow: 0px 1px 3px 1px rgba(0, 0, 0, 0.15);\n",
              "      filter: drop-shadow(0px 1px 2px rgba(0, 0, 0, 0.3));\n",
              "      fill: #FFFFFF;\n",
              "    }\n",
              "  </style>\n",
              "\n",
              "      <script>\n",
              "        const buttonEl =\n",
              "          document.querySelector('#df-d684b4fa-7cf0-4e88-8abc-0e0a715f4c6f button.colab-df-convert');\n",
              "        buttonEl.style.display =\n",
              "          google.colab.kernel.accessAllowed ? 'block' : 'none';\n",
              "\n",
              "        async function convertToInteractive(key) {\n",
              "          const element = document.querySelector('#df-d684b4fa-7cf0-4e88-8abc-0e0a715f4c6f');\n",
              "          const dataTable =\n",
              "            await google.colab.kernel.invokeFunction('convertToInteractive',\n",
              "                                                     [key], {});\n",
              "          if (!dataTable) return;\n",
              "\n",
              "          const docLinkHtml = 'Like what you see? Visit the ' +\n",
              "            '<a target=\"_blank\" href=https://colab.research.google.com/notebooks/data_table.ipynb>data table notebook</a>'\n",
              "            + ' to learn more about interactive tables.';\n",
              "          element.innerHTML = '';\n",
              "          dataTable['output_type'] = 'display_data';\n",
              "          await google.colab.output.renderOutput(dataTable, element);\n",
              "          const docLink = document.createElement('div');\n",
              "          docLink.innerHTML = docLinkHtml;\n",
              "          element.appendChild(docLink);\n",
              "        }\n",
              "      </script>\n",
              "    </div>\n",
              "  </div>\n",
              "  "
            ]
          },
          "metadata": {},
          "execution_count": 5
        }
      ]
    },
    {
      "cell_type": "code",
      "source": [
        "data.info()"
      ],
      "metadata": {
        "colab": {
          "base_uri": "https://localhost:8080/"
        },
        "id": "qUD3Y8ognP8_",
        "outputId": "1fd9aaf7-93a7-42df-98b4-95ecb1d2c2b8"
      },
      "execution_count": null,
      "outputs": [
        {
          "output_type": "stream",
          "name": "stdout",
          "text": [
            "<class 'pandas.core.frame.DataFrame'>\n",
            "RangeIndex: 120 entries, 0 to 119\n",
            "Data columns (total 9 columns):\n",
            " #   Column           Non-Null Count  Dtype  \n",
            "---  ------           --------------  -----  \n",
            " 0   No               120 non-null    int64  \n",
            " 1   Nama Restaurant  120 non-null    object \n",
            " 2   Rating           120 non-null    float64\n",
            " 3   Price            120 non-null    int64  \n",
            " 4   Daerah           120 non-null    object \n",
            " 5   Tipe_1           120 non-null    object \n",
            " 6   Tipe_2           120 non-null    object \n",
            " 7   Tipe_3           120 non-null    object \n",
            " 8   Review           120 non-null    object \n",
            "dtypes: float64(1), int64(2), object(6)\n",
            "memory usage: 8.6+ KB\n"
          ]
        }
      ]
    },
    {
      "cell_type": "code",
      "source": [
        "data.drop('No', axis=1, inplace=True)"
      ],
      "metadata": {
        "id": "4fHUSC5ath7c"
      },
      "execution_count": null,
      "outputs": []
    },
    {
      "cell_type": "markdown",
      "source": [
        "# **EXPLORATORY DATA ANALYSIS**"
      ],
      "metadata": {
        "id": "8MCHhQz8nYeg"
      }
    },
    {
      "cell_type": "markdown",
      "source": [
        "Pada bagian ini kita akan melakukan exploratiry data analysis terhadap dataset yang kita punya"
      ],
      "metadata": {
        "id": "yCm66UENaUs_"
      }
    },
    {
      "cell_type": "code",
      "source": [
        "corpus = \" \".join(data['Daerah'])\n",
        "word_cloud = WordCloud(max_words=100, background_color='white', min_font_size=10).generate(corpus)\n",
        "img = word_cloud.to_image()\n",
        "\n",
        "fig = plt.figure(1)\n",
        "plt.imshow(img)\n",
        "plt.axis('off')\n",
        "plt.show()"
      ],
      "metadata": {
        "colab": {
          "base_uri": "https://localhost:8080/",
          "height": 198
        },
        "id": "dqjRYvj8nU0N",
        "outputId": "7392aede-497e-4406-8f0c-bc79e9cddcb4"
      },
      "execution_count": null,
      "outputs": [
        {
          "output_type": "display_data",
          "data": {
            "text/plain": [
              "<Figure size 432x288 with 1 Axes>"
            ],
            "image/png": "[encoded data removed]"
          },
          "metadata": {
            "needs_background": "light"
          }
        }
      ]
    },
    {
      "cell_type": "code",
      "source": [
        "corpus = \" \".join(data['Review'])\n",
        "word_cloud = WordCloud(max_words=100, background_color='white', min_font_size=10).generate(corpus)\n",
        "img = word_cloud.to_image()\n",
        "\n",
        "fig = plt.figure(1)\n",
        "plt.imshow(img)\n",
        "plt.axis('off')\n",
        "plt.show()"
      ],
      "metadata": {
        "colab": {
          "base_uri": "https://localhost:8080/",
          "height": 198
        },
        "id": "XWvB9qUMoE_Z",
        "outputId": "66efe263-95e1-4c44-8211-6eaed65097f6"
      },
      "execution_count": null,
      "outputs": [
        {
          "output_type": "display_data",
          "data": {
            "text/plain": [
              "<Figure size 432x288 with 1 Axes>"
            ],
            "image/png": "[encoded data removed]"
          },
          "metadata": {
            "needs_background": "light"
          }
        }
      ]
    },
    {
      "cell_type": "markdown",
      "source": [
        "# **DATA PREPROCESSING**"
      ],
      "metadata": {
        "id": "qoSExlImogQf"
      }
    },
    {
      "cell_type": "markdown",
      "source": [
        "Pada bagian ini kita akan melakukan text preprocessing\n",
        "\n",
        "Melakukan text preprocessing bahasa indonesia mempunyai kesulitan tersindiri, yang dimana kita harus bisa melakukan preprocessing kata-kata yang tidak umum, atau slang. Disini saya mempunyai 2 kamus formalize, yang dimana ada Colloquial Indonesian Lexicon dari paper publikasi bernama Nikmatun Aliyah Salsabila dan ada file Formalize yang saya buat sendiri setelah menemukan kata kata yang tidak umum.\n",
        "\n",
        "\n",
        "Berikut adalah link dari Colloquial Indonesian Lexicon\n",
        "https://ieeexplore.ieee.org/abstract/document/8629151"
      ],
      "metadata": {
        "id": "BE6hOLjwpe0r"
      }
    },
    {
      "cell_type": "markdown",
      "source": [
        "loading 2 kamus"
      ],
      "metadata": {
        "id": "ojDj5DFC5iZy"
      }
    },
    {
      "cell_type": "code",
      "source": [
        "lexicon = pd.read_csv('https://raw.githubusercontent.com/H8-Assignments-Bay/p2---final-project-group-006/main/Text%20Preprocessing/colloquial-indonesian-lexicon.csv')\n",
        "formalize = pd.read_csv('https://raw.githubusercontent.com/H8-Assignments-Bay/p2---final-project-group-006/main/Text%20Preprocessing/formalize_word.csv')"
      ],
      "metadata": {
        "id": "ucFRVFVEojlU"
      },
      "execution_count": null,
      "outputs": []
    },
    {
      "cell_type": "code",
      "source": [
        "# Display Lexicon\n",
        "lexicon"
      ],
      "metadata": {
        "colab": {
          "base_uri": "https://localhost:8080/",
          "height": 424
        },
        "id": "WiuLZ4iQp13E",
        "outputId": "3196dbae-c564-4b4b-bd97-6f160c408359"
      },
      "execution_count": null,
      "outputs": [
        {
          "output_type": "execute_result",
          "data": {
            "text/plain": [
              "          slang        formal  In-dictionary  \\\n",
              "0          woww           wow              1   \n",
              "1         aminn          amin              1   \n",
              "2           met       selamat              1   \n",
              "3        netaas       menetas              1   \n",
              "4       keberpa      keberapa              0   \n",
              "...         ...           ...            ...   \n",
              "15001  gataunya  tidak taunya              0   \n",
              "15002      gtau     tidak tau              0   \n",
              "15003     gatau     tidak tau              0   \n",
              "15004     fans2       fan-fan              0   \n",
              "15005   gaharus   tidak harus              0   \n",
              "\n",
              "                                                 context    category1  \\\n",
              "0                                                    wow     elongasi   \n",
              "1      Selamat ulang tahun kakak tulus semoga panjang...     elongasi   \n",
              "2      Met hari netaas kak!? Wish you all the best @t...    abreviasi   \n",
              "3      Met hari netaas kak!? Wish you all the best @t...     afiksasi   \n",
              "4                               Birthday yg keberpa kak?    abreviasi   \n",
              "...                                                  ...          ...   \n",
              "15001  Ini kaya nenek2 ya beb gataunya agnezz @yugime...      akronim   \n",
              "15002  Stidaknya mrka may berkarya Dan berusaha yg tr...      akronim   \n",
              "15003                                      Ih gatau malu      akronim   \n",
              "15004  Jkt48 adalah tempat di mana sesama fans saling...  reduplikasi   \n",
              "15005  belajar tuh bisa dimana aja gaharus belajar di...      akronim   \n",
              "\n",
              "          category2 category3  \n",
              "0                 0         0  \n",
              "1                 0         0  \n",
              "2                 0         0  \n",
              "3          elongasi         0  \n",
              "4                 0         0  \n",
              "...             ...       ...  \n",
              "15001             0         0  \n",
              "15002     abreviasi         0  \n",
              "15003             0         0  \n",
              "15004  naturalisasi         0  \n",
              "15005             0         0  \n",
              "\n",
              "[15006 rows x 7 columns]"
            ],
            "text/html": [
              "\n",
              "  <div id=\"df-4d57aebf-e64f-4151-b825-19e4d1cddef0\">\n",
              "    <div class=\"colab-df-container\">\n",
              "      <div>\n",
              "<style scoped>\n",
              "    .dataframe tbody tr th:only-of-type {\n",
              "        vertical-align: middle;\n",
              "    }\n",
              "\n",
              "    .dataframe tbody tr th {\n",
              "        vertical-align: top;\n",
              "    }\n",
              "\n",
              "    .dataframe thead th {\n",
              "        text-align: right;\n",
              "    }\n",
              "</style>\n",
              "<table border=\"1\" class=\"dataframe\">\n",
              "  <thead>\n",
              "    <tr style=\"text-align: right;\">\n",
              "      <th></th>\n",
              "      <th>slang</th>\n",
              "      <th>formal</th>\n",
              "      <th>In-dictionary</th>\n",
              "      <th>context</th>\n",
              "      <th>category1</th>\n",
              "      <th>category2</th>\n",
              "      <th>category3</th>\n",
              "    </tr>\n",
              "  </thead>\n",
              "  <tbody>\n",
              "    <tr>\n",
              "      <th>0</th>\n",
              "      <td>woww</td>\n",
              "      <td>wow</td>\n",
              "      <td>1</td>\n",
              "      <td>wow</td>\n",
              "      <td>elongasi</td>\n",
              "      <td>0</td>\n",
              "      <td>0</td>\n",
              "    </tr>\n",
              "    <tr>\n",
              "      <th>1</th>\n",
              "      <td>aminn</td>\n",
              "      <td>amin</td>\n",
              "      <td>1</td>\n",
              "      <td>Selamat ulang tahun kakak tulus semoga panjang...</td>\n",
              "      <td>elongasi</td>\n",
              "      <td>0</td>\n",
              "      <td>0</td>\n",
              "    </tr>\n",
              "    <tr>\n",
              "      <th>2</th>\n",
              "      <td>met</td>\n",
              "      <td>selamat</td>\n",
              "      <td>1</td>\n",
              "      <td>Met hari netaas kak!? Wish you all the best @t...</td>\n",
              "      <td>abreviasi</td>\n",
              "      <td>0</td>\n",
              "      <td>0</td>\n",
              "    </tr>\n",
              "    <tr>\n",
              "      <th>3</th>\n",
              "      <td>netaas</td>\n",
              "      <td>menetas</td>\n",
              "      <td>1</td>\n",
              "      <td>Met hari netaas kak!? Wish you all the best @t...</td>\n",
              "      <td>afiksasi</td>\n",
              "      <td>elongasi</td>\n",
              "      <td>0</td>\n",
              "    </tr>\n",
              "    <tr>\n",
              "      <th>4</th>\n",
              "      <td>keberpa</td>\n",
              "      <td>keberapa</td>\n",
              "      <td>0</td>\n",
              "      <td>Birthday yg keberpa kak?</td>\n",
              "      <td>abreviasi</td>\n",
              "      <td>0</td>\n",
              "      <td>0</td>\n",
              "    </tr>\n",
              "    <tr>\n",
              "      <th>...</th>\n",
              "      <td>...</td>\n",
              "      <td>...</td>\n",
              "      <td>...</td>\n",
              "      <td>...</td>\n",
              "      <td>...</td>\n",
              "      <td>...</td>\n",
              "      <td>...</td>\n",
              "    </tr>\n",
              "    <tr>\n",
              "      <th>15001</th>\n",
              "      <td>gataunya</td>\n",
              "      <td>tidak taunya</td>\n",
              "      <td>0</td>\n",
              "      <td>Ini kaya nenek2 ya beb gataunya agnezz @yugime...</td>\n",
              "      <td>akronim</td>\n",
              "      <td>0</td>\n",
              "      <td>0</td>\n",
              "    </tr>\n",
              "    <tr>\n",
              "      <th>15002</th>\n",
              "      <td>gtau</td>\n",
              "      <td>tidak tau</td>\n",
              "      <td>0</td>\n",
              "      <td>Stidaknya mrka may berkarya Dan berusaha yg tr...</td>\n",
              "      <td>akronim</td>\n",
              "      <td>abreviasi</td>\n",
              "      <td>0</td>\n",
              "    </tr>\n",
              "    <tr>\n",
              "      <th>15003</th>\n",
              "      <td>gatau</td>\n",
              "      <td>tidak tau</td>\n",
              "      <td>0</td>\n",
              "      <td>Ih gatau malu</td>\n",
              "      <td>akronim</td>\n",
              "      <td>0</td>\n",
              "      <td>0</td>\n",
              "    </tr>\n",
              "    <tr>\n",
              "      <th>15004</th>\n",
              "      <td>fans2</td>\n",
              "      <td>fan-fan</td>\n",
              "      <td>0</td>\n",
              "      <td>Jkt48 adalah tempat di mana sesama fans saling...</td>\n",
              "      <td>reduplikasi</td>\n",
              "      <td>naturalisasi</td>\n",
              "      <td>0</td>\n",
              "    </tr>\n",
              "    <tr>\n",
              "      <th>15005</th>\n",
              "      <td>gaharus</td>\n",
              "      <td>tidak harus</td>\n",
              "      <td>0</td>\n",
              "      <td>belajar tuh bisa dimana aja gaharus belajar di...</td>\n",
              "      <td>akronim</td>\n",
              "      <td>0</td>\n",
              "      <td>0</td>\n",
              "    </tr>\n",
              "  </tbody>\n",
              "</table>\n",
              "<p>15006 rows × 7 columns</p>\n",
              "</div>\n",
              "      <button class=\"colab-df-convert\" onclick=\"convertToInteractive('df-4d57aebf-e64f-4151-b825-19e4d1cddef0')\"\n",
              "              title=\"Convert this dataframe to an interactive table.\"\n",
              "              style=\"display:none;\">\n",
              "        \n",
              "  <svg xmlns=\"http://www.w3.org/2000/svg\" height=\"24px\"viewBox=\"0 0 24 24\"\n",
              "       width=\"24px\">\n",
              "    <path d=\"M0 0h24v24H0V0z\" fill=\"none\"/>\n",
              "    <path d=\"M18.56 5.44l.94 2.06.94-2.06 2.06-.94-2.06-.94-.94-2.06-.94 2.06-2.06.94zm-11 1L8.5 8.5l.94-2.06 2.06-.94-2.06-.94L8.5 2.5l-.94 2.06-2.06.94zm10 10l.94 2.06.94-2.06 2.06-.94-2.06-.94-.94-2.06-.94 2.06-2.06.94z\"/><path d=\"M17.41 7.96l-1.37-1.37c-.4-.4-.92-.59-1.43-.59-.52 0-1.04.2-1.43.59L10.3 9.45l-7.72 7.72c-.78.78-.78 2.05 0 2.83L4 21.41c.39.39.9.59 1.41.59.51 0 1.02-.2 1.41-.59l7.78-7.78 2.81-2.81c.8-.78.8-2.07 0-2.86zM5.41 20L4 18.59l7.72-7.72 1.47 1.35L5.41 20z\"/>\n",
              "  </svg>\n",
              "      </button>\n",
              "      \n",
              "  <style>\n",
              "    .colab-df-container {\n",
              "      display:flex;\n",
              "      flex-wrap:wrap;\n",
              "      gap: 12px;\n",
              "    }\n",
              "\n",
              "    .colab-df-convert {\n",
              "      background-color: #E8F0FE;\n",
              "      border: none;\n",
              "      border-radius: 50%;\n",
              "      cursor: pointer;\n",
              "      display: none;\n",
              "      fill: #1967D2;\n",
              "      height: 32px;\n",
              "      padding: 0 0 0 0;\n",
              "      width: 32px;\n",
              "    }\n",
              "\n",
              "    .colab-df-convert:hover {\n",
              "      background-color: #E2EBFA;\n",
              "      box-shadow: 0px 1px 2px rgba(60, 64, 67, 0.3), 0px 1px 3px 1px rgba(60, 64, 67, 0.15);\n",
              "      fill: #174EA6;\n",
              "    }\n",
              "\n",
              "    [theme=dark] .colab-df-convert {\n",
              "      background-color: #3B4455;\n",
              "      fill: #D2E3FC;\n",
              "    }\n",
              "\n",
              "    [theme=dark] .colab-df-convert:hover {\n",
              "      background-color: #434B5C;\n",
              "      box-shadow: 0px 1px 3px 1px rgba(0, 0, 0, 0.15);\n",
              "      filter: drop-shadow(0px 1px 2px rgba(0, 0, 0, 0.3));\n",
              "      fill: #FFFFFF;\n",
              "    }\n",
              "  </style>\n",
              "\n",
              "      <script>\n",
              "        const buttonEl =\n",
              "          document.querySelector('#df-4d57aebf-e64f-4151-b825-19e4d1cddef0 button.colab-df-convert');\n",
              "        buttonEl.style.display =\n",
              "          google.colab.kernel.accessAllowed ? 'block' : 'none';\n",
              "\n",
              "        async function convertToInteractive(key) {\n",
              "          const element = document.querySelector('#df-4d57aebf-e64f-4151-b825-19e4d1cddef0');\n",
              "          const dataTable =\n",
              "            await google.colab.kernel.invokeFunction('convertToInteractive',\n",
              "                                                     [key], {});\n",
              "          if (!dataTable) return;\n",
              "\n",
              "          const docLinkHtml = 'Like what you see? Visit the ' +\n",
              "            '<a target=\"_blank\" href=https://colab.research.google.com/notebooks/data_table.ipynb>data table notebook</a>'\n",
              "            + ' to learn more about interactive tables.';\n",
              "          element.innerHTML = '';\n",
              "          dataTable['output_type'] = 'display_data';\n",
              "          await google.colab.output.renderOutput(dataTable, element);\n",
              "          const docLink = document.createElement('div');\n",
              "          docLink.innerHTML = docLinkHtml;\n",
              "          element.appendChild(docLink);\n",
              "        }\n",
              "      </script>\n",
              "    </div>\n",
              "  </div>\n",
              "  "
            ]
          },
          "metadata": {},
          "execution_count": 11
        }
      ]
    },
    {
      "cell_type": "code",
      "source": [
        "# Display Formalize\n",
        "formalize"
      ],
      "metadata": {
        "colab": {
          "base_uri": "https://localhost:8080/",
          "height": 645
        },
        "id": "l-VxrOZop3jF",
        "outputId": "3c17ffff-d63e-4e48-f38e-4891e0c99365"
      },
      "execution_count": null,
      "outputs": [
        {
          "output_type": "execute_result",
          "data": {
            "text/plain": [
              "    Slang       Formal\n",
              "0     bgs        bagus\n",
              "1      jg         juga\n",
              "2      Hy          hai\n",
              "3     dlm        dalam\n",
              "4    Mgkn      mungkin\n",
              "5     krn       karena\n",
              "6      hr         hari\n",
              "7     dgn       dengan\n",
              "8     utk        untuk\n",
              "9     kek      seperti\n",
              "10  kayak      seperti\n",
              "11    kyk      seperti\n",
              "12     gt       begitu\n",
              "13    udh        sudah\n",
              "14     ga        tidak\n",
              "15     gw         saya\n",
              "16     sm         sama\n",
              "17    tmn        teman\n",
              "18   bday  Ulang Tahun"
            ],
            "text/html": [
              "\n",
              "  <div id=\"df-6cba194e-669d-4708-bd05-df8cbc260a95\">\n",
              "    <div class=\"colab-df-container\">\n",
              "      <div>\n",
              "<style scoped>\n",
              "    .dataframe tbody tr th:only-of-type {\n",
              "        vertical-align: middle;\n",
              "    }\n",
              "\n",
              "    .dataframe tbody tr th {\n",
              "        vertical-align: top;\n",
              "    }\n",
              "\n",
              "    .dataframe thead th {\n",
              "        text-align: right;\n",
              "    }\n",
              "</style>\n",
              "<table border=\"1\" class=\"dataframe\">\n",
              "  <thead>\n",
              "    <tr style=\"text-align: right;\">\n",
              "      <th></th>\n",
              "      <th>Slang</th>\n",
              "      <th>Formal</th>\n",
              "    </tr>\n",
              "  </thead>\n",
              "  <tbody>\n",
              "    <tr>\n",
              "      <th>0</th>\n",
              "      <td>bgs</td>\n",
              "      <td>bagus</td>\n",
              "    </tr>\n",
              "    <tr>\n",
              "      <th>1</th>\n",
              "      <td>jg</td>\n",
              "      <td>juga</td>\n",
              "    </tr>\n",
              "    <tr>\n",
              "      <th>2</th>\n",
              "      <td>Hy</td>\n",
              "      <td>hai</td>\n",
              "    </tr>\n",
              "    <tr>\n",
              "      <th>3</th>\n",
              "      <td>dlm</td>\n",
              "      <td>dalam</td>\n",
              "    </tr>\n",
              "    <tr>\n",
              "      <th>4</th>\n",
              "      <td>Mgkn</td>\n",
              "      <td>mungkin</td>\n",
              "    </tr>\n",
              "    <tr>\n",
              "      <th>5</th>\n",
              "      <td>krn</td>\n",
              "      <td>karena</td>\n",
              "    </tr>\n",
              "    <tr>\n",
              "      <th>6</th>\n",
              "      <td>hr</td>\n",
              "      <td>hari</td>\n",
              "    </tr>\n",
              "    <tr>\n",
              "      <th>7</th>\n",
              "      <td>dgn</td>\n",
              "      <td>dengan</td>\n",
              "    </tr>\n",
              "    <tr>\n",
              "      <th>8</th>\n",
              "      <td>utk</td>\n",
              "      <td>untuk</td>\n",
              "    </tr>\n",
              "    <tr>\n",
              "      <th>9</th>\n",
              "      <td>kek</td>\n",
              "      <td>seperti</td>\n",
              "    </tr>\n",
              "    <tr>\n",
              "      <th>10</th>\n",
              "      <td>kayak</td>\n",
              "      <td>seperti</td>\n",
              "    </tr>\n",
              "    <tr>\n",
              "      <th>11</th>\n",
              "      <td>kyk</td>\n",
              "      <td>seperti</td>\n",
              "    </tr>\n",
              "    <tr>\n",
              "      <th>12</th>\n",
              "      <td>gt</td>\n",
              "      <td>begitu</td>\n",
              "    </tr>\n",
              "    <tr>\n",
              "      <th>13</th>\n",
              "      <td>udh</td>\n",
              "      <td>sudah</td>\n",
              "    </tr>\n",
              "    <tr>\n",
              "      <th>14</th>\n",
              "      <td>ga</td>\n",
              "      <td>tidak</td>\n",
              "    </tr>\n",
              "    <tr>\n",
              "      <th>15</th>\n",
              "      <td>gw</td>\n",
              "      <td>saya</td>\n",
              "    </tr>\n",
              "    <tr>\n",
              "      <th>16</th>\n",
              "      <td>sm</td>\n",
              "      <td>sama</td>\n",
              "    </tr>\n",
              "    <tr>\n",
              "      <th>17</th>\n",
              "      <td>tmn</td>\n",
              "      <td>teman</td>\n",
              "    </tr>\n",
              "    <tr>\n",
              "      <th>18</th>\n",
              "      <td>bday</td>\n",
              "      <td>Ulang Tahun</td>\n",
              "    </tr>\n",
              "  </tbody>\n",
              "</table>\n",
              "</div>\n",
              "      <button class=\"colab-df-convert\" onclick=\"convertToInteractive('df-6cba194e-669d-4708-bd05-df8cbc260a95')\"\n",
              "              title=\"Convert this dataframe to an interactive table.\"\n",
              "              style=\"display:none;\">\n",
              "        \n",
              "  <svg xmlns=\"http://www.w3.org/2000/svg\" height=\"24px\"viewBox=\"0 0 24 24\"\n",
              "       width=\"24px\">\n",
              "    <path d=\"M0 0h24v24H0V0z\" fill=\"none\"/>\n",
              "    <path d=\"M18.56 5.44l.94 2.06.94-2.06 2.06-.94-2.06-.94-.94-2.06-.94 2.06-2.06.94zm-11 1L8.5 8.5l.94-2.06 2.06-.94-2.06-.94L8.5 2.5l-.94 2.06-2.06.94zm10 10l.94 2.06.94-2.06 2.06-.94-2.06-.94-.94-2.06-.94 2.06-2.06.94z\"/><path d=\"M17.41 7.96l-1.37-1.37c-.4-.4-.92-.59-1.43-.59-.52 0-1.04.2-1.43.59L10.3 9.45l-7.72 7.72c-.78.78-.78 2.05 0 2.83L4 21.41c.39.39.9.59 1.41.59.51 0 1.02-.2 1.41-.59l7.78-7.78 2.81-2.81c.8-.78.8-2.07 0-2.86zM5.41 20L4 18.59l7.72-7.72 1.47 1.35L5.41 20z\"/>\n",
              "  </svg>\n",
              "      </button>\n",
              "      \n",
              "  <style>\n",
              "    .colab-df-container {\n",
              "      display:flex;\n",
              "      flex-wrap:wrap;\n",
              "      gap: 12px;\n",
              "    }\n",
              "\n",
              "    .colab-df-convert {\n",
              "      background-color: #E8F0FE;\n",
              "      border: none;\n",
              "      border-radius: 50%;\n",
              "      cursor: pointer;\n",
              "      display: none;\n",
              "      fill: #1967D2;\n",
              "      height: 32px;\n",
              "      padding: 0 0 0 0;\n",
              "      width: 32px;\n",
              "    }\n",
              "\n",
              "    .colab-df-convert:hover {\n",
              "      background-color: #E2EBFA;\n",
              "      box-shadow: 0px 1px 2px rgba(60, 64, 67, 0.3), 0px 1px 3px 1px rgba(60, 64, 67, 0.15);\n",
              "      fill: #174EA6;\n",
              "    }\n",
              "\n",
              "    [theme=dark] .colab-df-convert {\n",
              "      background-color: #3B4455;\n",
              "      fill: #D2E3FC;\n",
              "    }\n",
              "\n",
              "    [theme=dark] .colab-df-convert:hover {\n",
              "      background-color: #434B5C;\n",
              "      box-shadow: 0px 1px 3px 1px rgba(0, 0, 0, 0.15);\n",
              "      filter: drop-shadow(0px 1px 2px rgba(0, 0, 0, 0.3));\n",
              "      fill: #FFFFFF;\n",
              "    }\n",
              "  </style>\n",
              "\n",
              "      <script>\n",
              "        const buttonEl =\n",
              "          document.querySelector('#df-6cba194e-669d-4708-bd05-df8cbc260a95 button.colab-df-convert');\n",
              "        buttonEl.style.display =\n",
              "          google.colab.kernel.accessAllowed ? 'block' : 'none';\n",
              "\n",
              "        async function convertToInteractive(key) {\n",
              "          const element = document.querySelector('#df-6cba194e-669d-4708-bd05-df8cbc260a95');\n",
              "          const dataTable =\n",
              "            await google.colab.kernel.invokeFunction('convertToInteractive',\n",
              "                                                     [key], {});\n",
              "          if (!dataTable) return;\n",
              "\n",
              "          const docLinkHtml = 'Like what you see? Visit the ' +\n",
              "            '<a target=\"_blank\" href=https://colab.research.google.com/notebooks/data_table.ipynb>data table notebook</a>'\n",
              "            + ' to learn more about interactive tables.';\n",
              "          element.innerHTML = '';\n",
              "          dataTable['output_type'] = 'display_data';\n",
              "          await google.colab.output.renderOutput(dataTable, element);\n",
              "          const docLink = document.createElement('div');\n",
              "          docLink.innerHTML = docLinkHtml;\n",
              "          element.appendChild(docLink);\n",
              "        }\n",
              "      </script>\n",
              "    </div>\n",
              "  </div>\n",
              "  "
            ]
          },
          "metadata": {},
          "execution_count": 12
        }
      ]
    },
    {
      "cell_type": "code",
      "source": [
        "# Melihat 10 data awal lexicon\n",
        "dict_lexicon = pd.Series(lexicon.formal.values,index=lexicon.slang).to_dict()\n",
        "dict_lexicon['brg'] = 'barang'\n",
        "dict_lexicon['kw']='tiruan'\n",
        "dict(list(dict_lexicon.items())[:10])"
      ],
      "metadata": {
        "colab": {
          "base_uri": "https://localhost:8080/"
        },
        "id": "XfPNTQuLqT-N",
        "outputId": "3a124ccc-8447-48d7-9738-c31e8b64695f"
      },
      "execution_count": null,
      "outputs": [
        {
          "output_type": "execute_result",
          "data": {
            "text/plain": [
              "{'aminn': 'amin',\n",
              " 'eeeehhhh': 'eh',\n",
              " 'hallo': 'halo',\n",
              " 'ka': 'kak',\n",
              " 'kaka': 'kakak',\n",
              " 'kata2nyaaa': 'kata-katanya',\n",
              " 'keberpa': 'keberapa',\n",
              " 'met': 'selamat',\n",
              " 'netaas': 'menetas',\n",
              " 'woww': 'wow'}"
            ]
          },
          "metadata": {},
          "execution_count": 13
        }
      ]
    },
    {
      "cell_type": "code",
      "source": [
        "# Melihat 10 data awal\n",
        "dict_formalize = pd.Series(formalize.Formal.values,index=formalize.Slang).to_dict()\n",
        "dict(list(dict_formalize.items())[:10])"
      ],
      "metadata": {
        "colab": {
          "base_uri": "https://localhost:8080/"
        },
        "id": "9L5TMTRyquQO",
        "outputId": "84f601b0-5093-45b5-fea9-0d763e36295c"
      },
      "execution_count": null,
      "outputs": [
        {
          "output_type": "execute_result",
          "data": {
            "text/plain": [
              "{'Hy': 'hai',\n",
              " 'Mgkn': 'mungkin',\n",
              " 'bgs': 'bagus',\n",
              " 'dgn': 'dengan',\n",
              " 'dlm': 'dalam',\n",
              " 'hr': 'hari',\n",
              " 'jg': 'juga',\n",
              " 'kek': 'seperti',\n",
              " 'krn': 'karena',\n",
              " 'utk': 'untuk'}"
            ]
          },
          "metadata": {},
          "execution_count": 14
        }
      ]
    },
    {
      "cell_type": "markdown",
      "source": [
        "Selanjutnya kita akan membuat function untuk melakukan text preprocessing terhadap kolom review"
      ],
      "metadata": {
        "id": "E2L7g6T-5tW8"
      }
    },
    {
      "cell_type": "code",
      "source": [
        "def clean_text(text):\n",
        "    emoj = re.compile(\"[\"\n",
        "        u\"\\U0001F600-\\U0001F64F\"    \n",
        "        u\"\\U0001F300-\\U0001F5FF\"    \n",
        "        u\"\\U0001F680-\\U0001F6FF\"   \n",
        "        u\"\\U0001F1E0-\\U0001F1FF\"    \n",
        "        u\"\\U00002500-\\U00002BEF\"  \n",
        "        u\"\\U00002702-\\U000027B0\"\n",
        "        u\"\\U00002702-\\U000027B0\"\n",
        "        u\"\\U000024C2-\\U0001F251\"\n",
        "        u\"\\U0001f926-\\U0001f937\"\n",
        "        u\"\\U00010000-\\U0010ffff\"\n",
        "        u\"\\u2640-\\u2642\" \n",
        "        u\"\\u2600-\\u2B55\"\n",
        "        u\"\\u200d\"\n",
        "        u\"\\u23cf\"\n",
        "        u\"\\u23e9\"\n",
        "        u\"\\u231a\"\n",
        "        u\"\\ufe0f\"                   \n",
        "        u\"\\u3030\"\n",
        "                      \"]+\", re.UNICODE)\n",
        "\n",
        "    text = text.lower()                                                                                 # membuat huruf menjadi kecil\n",
        "    text = re.sub(emoj, '', text)                                                                       # remove emoji\n",
        "    text = re.sub(r'(.)\\1{2,}', r'\\1', text)                                                            # mengubah huruf berulang diatas 2 kali menjadi 1 saja\n",
        "    text = re.sub(\"[0-9]\", \" \", text)                                                                   # remove numbers\n",
        "    text = re.sub(\"(Diterjemahkan oleh Google)\", \" \", text)                                                                   \n",
        "    text = re.sub(\"'s\", \" \", text) \n",
        "    text = re.sub(\"[¹²³¹⁰ⁱ⁴⁵⁶⁷⁸⁹⁺⁻⁼⁽⁾ⁿ]\", \"\", text)                                                     # remove power character\n",
        "    text = re.sub(\"[^A-Za-z\\s']\",\" \", text)  \n",
        "    text = re.sub(\"[^\\w\\s]*[_,.!?#&;:><+-/)/(\\'\\\"]\", \" \", text)                                         # remove bukan string dan whitespace\n",
        "    text = ' '.join([re.sub(r'nya$|ny$', '', i) for i in text.split()])                                 # menghapus akhir kata 'nya' atau 'ny'\n",
        "    text = \" \".join(dict_lexicon[w] if w in dict_lexicon else w for w in text.split())                  # replace sesuai dict_lexicon\n",
        "    text = \" \".join(dict_formalize[w] if w in dict_formalize else w for w in text.split())              # replace sesuai dict_formalize\n",
        "    text = re.sub(\" +\", \" \", text.strip())                                                              # Remove unnecessary white space\n",
        "    return text\n",
        "\n",
        "def cleaned(data):\n",
        "    data['text_preprocessed'] = data['Review'].apply(clean_text)\n",
        "    return data"
      ],
      "metadata": {
        "id": "Qvuk2m5GrKkt"
      },
      "execution_count": null,
      "outputs": []
    },
    {
      "cell_type": "markdown",
      "source": [
        "Selanjutnya kita akan melakukan clean data menggunakan function yang telah dibuat"
      ],
      "metadata": {
        "id": "Lc5wPdEw6CeQ"
      }
    },
    {
      "cell_type": "code",
      "source": [
        "cleaned(data)\n",
        "data.head()"
      ],
      "metadata": {
        "colab": {
          "base_uri": "https://localhost:8080/",
          "height": 337
        },
        "id": "gpOYnn3fsLft",
        "outputId": "a2e2305b-8087-4bd0-bdcc-eca645445c1f"
      },
      "execution_count": null,
      "outputs": [
        {
          "output_type": "execute_result",
          "data": {
            "text/plain": [
              "                     Nama Restaurant  Rating  Price                    Daerah  \\\n",
              "0  KAKAW Fine Chocolate & Patisserie     3.4  20000          Senayan, Jakarta   \n",
              "1                 Join Kopi Bulungan     3.9  20000           Blok M, Jakarta   \n",
              "2                          Kopi Coga     4.0  25000  Bendungan Hilir, Jakarta   \n",
              "3     Mie Keriting Benhil \"Mas Pujo\"     3.4  25000  Bendungan Hilir, Jakarta   \n",
              "4                      Rocky Rooster     4.2  25000         Palmerah, Jakarta   \n",
              "\n",
              "               Tipe_1    Tipe_2 Tipe_3  \\\n",
              "0                Kafe  Desserts      -   \n",
              "1                Kopi         -      -   \n",
              "2                Kafe      Kopi    Tea   \n",
              "3               Bakmi         -      -   \n",
              "4  Makanan Cepat Saji         -      -   \n",
              "\n",
              "                                              Review  \\\n",
              "0  [('Fine Chocolate & Pattiserie ini tempatnya t...   \n",
              "1  [('Kopinya enak. Kental dan terasa kopinya. Ad...   \n",
              "2  [('Tempatnya mungil dengan nuansa berwarna bir...   \n",
              "3  [('mie yamin manis special enak sih lebih enak...   \n",
              "4  [('Kulitnya Enak Crispy Trs Dagingnya Juicy Bu...   \n",
              "\n",
              "                                   text_preprocessed  \n",
              "0  fine chocolate pattiserie ini tempat tidak ter...  \n",
              "1  kopi enak kental dan terasa kopi ada berbagai ...  \n",
              "2  tempat mungil dengan nuansa berwarna biru lucu...  \n",
              "3  mie yamin manis special enak sih lebih enak ya...  \n",
              "4  kulit enak crispy terus daging juicy bumbu mer...  "
            ],
            "text/html": [
              "\n",
              "  <div id=\"df-c67c5f08-bb90-489d-855e-be9177735620\">\n",
              "    <div class=\"colab-df-container\">\n",
              "      <div>\n",
              "<style scoped>\n",
              "    .dataframe tbody tr th:only-of-type {\n",
              "        vertical-align: middle;\n",
              "    }\n",
              "\n",
              "    .dataframe tbody tr th {\n",
              "        vertical-align: top;\n",
              "    }\n",
              "\n",
              "    .dataframe thead th {\n",
              "        text-align: right;\n",
              "    }\n",
              "</style>\n",
              "<table border=\"1\" class=\"dataframe\">\n",
              "  <thead>\n",
              "    <tr style=\"text-align: right;\">\n",
              "      <th></th>\n",
              "      <th>Nama Restaurant</th>\n",
              "      <th>Rating</th>\n",
              "      <th>Price</th>\n",
              "      <th>Daerah</th>\n",
              "      <th>Tipe_1</th>\n",
              "      <th>Tipe_2</th>\n",
              "      <th>Tipe_3</th>\n",
              "      <th>Review</th>\n",
              "      <th>text_preprocessed</th>\n",
              "    </tr>\n",
              "  </thead>\n",
              "  <tbody>\n",
              "    <tr>\n",
              "      <th>0</th>\n",
              "      <td>KAKAW Fine Chocolate &amp; Patisserie</td>\n",
              "      <td>3.4</td>\n",
              "      <td>20000</td>\n",
              "      <td>Senayan, Jakarta</td>\n",
              "      <td>Kafe</td>\n",
              "      <td>Desserts</td>\n",
              "      <td>-</td>\n",
              "      <td>[('Fine Chocolate &amp; Pattiserie ini tempatnya t...</td>\n",
              "      <td>fine chocolate pattiserie ini tempat tidak ter...</td>\n",
              "    </tr>\n",
              "    <tr>\n",
              "      <th>1</th>\n",
              "      <td>Join Kopi Bulungan</td>\n",
              "      <td>3.9</td>\n",
              "      <td>20000</td>\n",
              "      <td>Blok M, Jakarta</td>\n",
              "      <td>Kopi</td>\n",
              "      <td>-</td>\n",
              "      <td>-</td>\n",
              "      <td>[('Kopinya enak. Kental dan terasa kopinya. Ad...</td>\n",
              "      <td>kopi enak kental dan terasa kopi ada berbagai ...</td>\n",
              "    </tr>\n",
              "    <tr>\n",
              "      <th>2</th>\n",
              "      <td>Kopi Coga</td>\n",
              "      <td>4.0</td>\n",
              "      <td>25000</td>\n",
              "      <td>Bendungan Hilir, Jakarta</td>\n",
              "      <td>Kafe</td>\n",
              "      <td>Kopi</td>\n",
              "      <td>Tea</td>\n",
              "      <td>[('Tempatnya mungil dengan nuansa berwarna bir...</td>\n",
              "      <td>tempat mungil dengan nuansa berwarna biru lucu...</td>\n",
              "    </tr>\n",
              "    <tr>\n",
              "      <th>3</th>\n",
              "      <td>Mie Keriting Benhil \"Mas Pujo\"</td>\n",
              "      <td>3.4</td>\n",
              "      <td>25000</td>\n",
              "      <td>Bendungan Hilir, Jakarta</td>\n",
              "      <td>Bakmi</td>\n",
              "      <td>-</td>\n",
              "      <td>-</td>\n",
              "      <td>[('mie yamin manis special enak sih lebih enak...</td>\n",
              "      <td>mie yamin manis special enak sih lebih enak ya...</td>\n",
              "    </tr>\n",
              "    <tr>\n",
              "      <th>4</th>\n",
              "      <td>Rocky Rooster</td>\n",
              "      <td>4.2</td>\n",
              "      <td>25000</td>\n",
              "      <td>Palmerah, Jakarta</td>\n",
              "      <td>Makanan Cepat Saji</td>\n",
              "      <td>-</td>\n",
              "      <td>-</td>\n",
              "      <td>[('Kulitnya Enak Crispy Trs Dagingnya Juicy Bu...</td>\n",
              "      <td>kulit enak crispy terus daging juicy bumbu mer...</td>\n",
              "    </tr>\n",
              "  </tbody>\n",
              "</table>\n",
              "</div>\n",
              "      <button class=\"colab-df-convert\" onclick=\"convertToInteractive('df-c67c5f08-bb90-489d-855e-be9177735620')\"\n",
              "              title=\"Convert this dataframe to an interactive table.\"\n",
              "              style=\"display:none;\">\n",
              "        \n",
              "  <svg xmlns=\"http://www.w3.org/2000/svg\" height=\"24px\"viewBox=\"0 0 24 24\"\n",
              "       width=\"24px\">\n",
              "    <path d=\"M0 0h24v24H0V0z\" fill=\"none\"/>\n",
              "    <path d=\"M18.56 5.44l.94 2.06.94-2.06 2.06-.94-2.06-.94-.94-2.06-.94 2.06-2.06.94zm-11 1L8.5 8.5l.94-2.06 2.06-.94-2.06-.94L8.5 2.5l-.94 2.06-2.06.94zm10 10l.94 2.06.94-2.06 2.06-.94-2.06-.94-.94-2.06-.94 2.06-2.06.94z\"/><path d=\"M17.41 7.96l-1.37-1.37c-.4-.4-.92-.59-1.43-.59-.52 0-1.04.2-1.43.59L10.3 9.45l-7.72 7.72c-.78.78-.78 2.05 0 2.83L4 21.41c.39.39.9.59 1.41.59.51 0 1.02-.2 1.41-.59l7.78-7.78 2.81-2.81c.8-.78.8-2.07 0-2.86zM5.41 20L4 18.59l7.72-7.72 1.47 1.35L5.41 20z\"/>\n",
              "  </svg>\n",
              "      </button>\n",
              "      \n",
              "  <style>\n",
              "    .colab-df-container {\n",
              "      display:flex;\n",
              "      flex-wrap:wrap;\n",
              "      gap: 12px;\n",
              "    }\n",
              "\n",
              "    .colab-df-convert {\n",
              "      background-color: #E8F0FE;\n",
              "      border: none;\n",
              "      border-radius: 50%;\n",
              "      cursor: pointer;\n",
              "      display: none;\n",
              "      fill: #1967D2;\n",
              "      height: 32px;\n",
              "      padding: 0 0 0 0;\n",
              "      width: 32px;\n",
              "    }\n",
              "\n",
              "    .colab-df-convert:hover {\n",
              "      background-color: #E2EBFA;\n",
              "      box-shadow: 0px 1px 2px rgba(60, 64, 67, 0.3), 0px 1px 3px 1px rgba(60, 64, 67, 0.15);\n",
              "      fill: #174EA6;\n",
              "    }\n",
              "\n",
              "    [theme=dark] .colab-df-convert {\n",
              "      background-color: #3B4455;\n",
              "      fill: #D2E3FC;\n",
              "    }\n",
              "\n",
              "    [theme=dark] .colab-df-convert:hover {\n",
              "      background-color: #434B5C;\n",
              "      box-shadow: 0px 1px 3px 1px rgba(0, 0, 0, 0.15);\n",
              "      filter: drop-shadow(0px 1px 2px rgba(0, 0, 0, 0.3));\n",
              "      fill: #FFFFFF;\n",
              "    }\n",
              "  </style>\n",
              "\n",
              "      <script>\n",
              "        const buttonEl =\n",
              "          document.querySelector('#df-c67c5f08-bb90-489d-855e-be9177735620 button.colab-df-convert');\n",
              "        buttonEl.style.display =\n",
              "          google.colab.kernel.accessAllowed ? 'block' : 'none';\n",
              "\n",
              "        async function convertToInteractive(key) {\n",
              "          const element = document.querySelector('#df-c67c5f08-bb90-489d-855e-be9177735620');\n",
              "          const dataTable =\n",
              "            await google.colab.kernel.invokeFunction('convertToInteractive',\n",
              "                                                     [key], {});\n",
              "          if (!dataTable) return;\n",
              "\n",
              "          const docLinkHtml = 'Like what you see? Visit the ' +\n",
              "            '<a target=\"_blank\" href=https://colab.research.google.com/notebooks/data_table.ipynb>data table notebook</a>'\n",
              "            + ' to learn more about interactive tables.';\n",
              "          element.innerHTML = '';\n",
              "          dataTable['output_type'] = 'display_data';\n",
              "          await google.colab.output.renderOutput(dataTable, element);\n",
              "          const docLink = document.createElement('div');\n",
              "          docLink.innerHTML = docLinkHtml;\n",
              "          element.appendChild(docLink);\n",
              "        }\n",
              "      </script>\n",
              "    </div>\n",
              "  </div>\n",
              "  "
            ]
          },
          "metadata": {},
          "execution_count": 16
        }
      ]
    },
    {
      "cell_type": "markdown",
      "source": [
        "setelah melakukan clean data, selanjutnya kita kan melihat hasil kata yang telah dilakukan preproses menggunakna word cloud"
      ],
      "metadata": {
        "id": "1EN10h1O6B7p"
      }
    },
    {
      "cell_type": "code",
      "source": [
        "corpus = \" \".join(data['text_preprocessed'])\n",
        "word_cloud = WordCloud(max_words=100, background_color='white', min_font_size=10).generate(corpus)\n",
        "img = word_cloud.to_image()\n",
        "\n",
        "fig = plt.figure(1)\n",
        "plt.imshow(img)\n",
        "plt.axis('off')\n",
        "plt.show()"
      ],
      "metadata": {
        "colab": {
          "base_uri": "https://localhost:8080/",
          "height": 198
        },
        "id": "dU49t1_ts8mL",
        "outputId": "8751afe3-0680-462e-a4eb-71b84ea0e558"
      },
      "execution_count": null,
      "outputs": [
        {
          "output_type": "display_data",
          "data": {
            "text/plain": [
              "<Figure size 432x288 with 1 Axes>"
            ],
            "image/png": "[encoded data removed]"
          },
          "metadata": {
            "needs_background": "light"
          }
        }
      ]
    },
    {
      "cell_type": "markdown",
      "source": [
        "Kita bisa melihat bahwa kata dan masih menjadi kata yang sring muncul dalam text prepocessed"
      ],
      "metadata": {
        "id": "9K8wf7Di6lZs"
      }
    },
    {
      "cell_type": "code",
      "source": [
        "for i in list(np.random.randint(0,len(data),1)):\n",
        "    print('Original: ', data.iloc[i,7])\n",
        "    print('Preprocessed: ', data.iloc[i,8])\n",
        "    print('-'*50)"
      ],
      "metadata": {
        "colab": {
          "base_uri": "https://localhost:8080/"
        },
        "id": "k8sf3OzzuJGh",
        "outputId": "67aabc44-3afb-4791-d2ec-f716f31336a0"
      },
      "execution_count": null,
      "outputs": [
        {
          "output_type": "stream",
          "name": "stdout",
          "text": [
            "Original:  [('Lokasinya tidak jauh dari stasiun tebet, depannya biasa aja disebelah indomaret. Pas masuk memiliki tempat cozy banget ada ikannya gede2 dan masakan Indonesia banget tapi harga tetap terjangkau'); ('Design resto yg uniq, tepatnya di belakang mini market, masuk lewat lorong dan kamu akan menemukan tempat nyaman untuk melepas lapar dan dahaga dengan hidangan berbagai macam olahan ikan dan daging bersama orang orang terdekat kalian...reach it and enjoy the meals'); ('Pelayananny ramah...suasana sdkt dapat...tp memang kerasa bedany saung d jkrta sama saung d luar.jkrta..suasanany lbh berasa. Tuk mknn just get 7 poin from me...sambel goangny nampol bnget..tuk yg lainny B aj..tuk hrga worth it lah'); ('Pesan makanan jam 13.30, makanan baru datang jam 15.00. Pesan bebek goreng ternyata dalemnya masih dingin beku. Pesan lalapan+sambal tapi baru dateng pas kita beres makan padahal kan ga perlu dimasak. Rasa makanan biasa aja.'); ('letaknya di depan seberang starbucks tebet, pintu masuk sebelah indomaret. tempatnya saung-saung gitu. ditengah jakarta tuh cucok meong. untuk makanan, not so bad lah. bakwan/perkedel jagungnya reccomended banget! daripada pesen mendoan, …'); ('Kaget banget masih ada tempat kaya gini di padatnya kota jakarta.. Makan disini serasa ada di kampung.. Makanannya juga enak dan harganya sesuai.. Saya ber6 cukup ngeluarin budget ±400k udah pada kenyang hehe.. Worth it lah dibanding ke …'); ('Dari luar hanya koridor sempit dalamnya tenyata cukup luas, rasa makanan lumayan dan harga ekonomis..maksimal nongkrong 4 jam..lebih dari itu dikenakan 100rb perjam..ada jual makanan ikan 5rb rupiah..overall cukup baik hanya saran toilet agak kotor dan gelap'); ('Saung rasa Tebet, merupakan restoran yang berkonsep saung - saung yang didekatnya terdapat aneka tanaman dan kolam ikan. Untuk lokasi berada di Tebet disamping Indomaret. Saat dari luar hanya terlihat pintu masuk yang kecil dengan papan …'); ('Suka banget makan di sini. Tempat nya nyaman. Tadi makan pesen ikan gurame saung rasa bener2 maknyus rasanya layak dapet bintang 5 dan bikin kita balik lagi ke sini. Es cendolnya juga enak manisnya pas. Tempe mendoan jg enak banget. …'); ('Staffnya kurang ramah, suami saya tanya di depan kasir ada 3 orang, ini makanan ikan di jual? tidak ada yg menjawab. ditanya sekali lagi baru di jawab. terkesan acuh ya. Harganya mahal sih tapi gak worth it. Cukup 1 kali sih ke sana. Menang tempatnya aja yg OK.'); ('Tempatnya cukup terpencil, jlaan masuknya spt gang kecil di sebelah indomaret or alfamart gitu deh. Tp klao udah masuk ke dalam ternyata tempatnya luas, ada kolam ikannya juga. Tempatnya nyaman. …'); ('Very good food. Lokasi ada di belakang Indomaret. Kami makan Gurame Saung Rasa dan SOP Buntut. Nasi timbelnya enak.\n",
            " Restonya berkonsep taman, sayang lagi hujan besar jadinya banyak tempat yang kebasahan tapi pelayanannya mantap sekali.'); ('Tempat agak tersembunyi karena terletak di belakang bangunan minimarket. Kami datang hari minggu malam dan kondisi cukup sepi. Parkir kendaraan cukup luas. …'); ('Lokasi gampang dicari, tempat cukup asri dg bnyak tanaman, kolam ikan koi di tengah dan dikelilingi saung, untuk makanan dn minumannya cukup enak....'); ('Pelayanannya lama, harganya lumayan ya, suasananya sebenarnya ok cuma kurang penerangan aja, kami makan ber4 disana dengan menu nasi bakul, kangkung tauco, gurame bakar (ukuran setelapak tangan pria), sop gurame (isi beberapa potong), tahu susu, tempe mendoan dan teh tawar panas dibandrol hampir 350K'); ('Makanannya enak dan lumayan murah, apalagi tempe mendoan, karedok dan Ikan bakarnya,tempatnya nyaman, bersih dan adem suasananya, pelayanannya baik dan cepat'); ('Tempatnya tema taman.. remangremang.. asri sih.. cuma agak panas karena ikut cuaca ibukota.. dibelakangny ada musholla besar..'); ('Pelayanan lama sekali nasi gorengnya rasanya tidak jelas es timunnya juga rasanya tidak karuan , cukup sekali saja berkunjung kesini 😠😠😠'); ('Suasana kebersamaan IT pasca Ied Fitr 1442H membuat tetap kompak dan semangat walau dlm situasi pandemi.'); ('suasananya enk TPI syg tempat ya ga kelihatan Krn sprt msuk ke dlm Gg, utk mknn ya standar lah harganya'); ('nunggu makanannya lama, rasa biasa aja, parkir sempit, mahal itu menurut saya'); ('Enak bgt tempatnya, bener2 bisa makan masakan rumahan..\n",
            " Dannn makanannya jg enakkk, hanya sayur asemnya sy kurang suka rasanya. Tp utk yg lain okeee bgt rasanya 👍👍👍 …'); ('enak n nyaman'); ('Lebih nikmat makan dengan suasana saung,terasa sedap sekali apalagi makan di Saung Rasa Tebet, berada di jalan Soepomo Tebet,posisi nya di belakang Indomaret'); ('Nyaman banget tempatnya... Besar tempatnya, Tapi pintu masuknya kecil bangett sampe susah nyarinya nyeloip begitu pintunya hehe.. patokannya indomeret pokonya pintu disamping indomaret, Cocok untuk acara keluarga atau arisan atau kumpulan..'); ('Depannya bikin kaget, masa iya sekecil itu. Ternyata itu pintu masuk nya emng di sebelah indomaret. Dalamnya lumayan luas si. Ada beberapa saung nya.'); ('Restonya masuk gang kecil dan di dalam nya ternyata ada saung saung yang cocok unt hangout bareng dengan tmn2 dan keluarga. Makanannyapun enak enak dan harganya ramah di kantong. Top deh restonya...'); ('Alhamdulillah,, tempat dan makanannya enak..es cendol durian nya mantapp'); ('Ternyata ada tempat makan tersembunyi..gurame bakarnya enak, oseng oncom leuncanya juga oke..enak buat kumpul2..lesehan..'); ('Staf agak kurang ramah saat anak main dikolam ikan masukin batu. Namanya anak kecil gak ngerti tp agak jutek ngasih taunya. Tempat lumayan luas ada kipas baling-balik tiap saung lesehan harga juga standar rasanya lumayan enak cm pohon pisangnya bikin serem');]\n",
            "Preprocessed:  lokasi tidak jauh dari stasiun tebet depan biasa saja disebelah indomaret pas masuk memiliki tempat cozy banget ada ikan gede dan masakan indonesia banget tapi harga tetap terjangkau design resto yang uniq tepat di belakang mini market masuk lewat lorong dan kamu akan menemukan tempat nyaman untuk melepas lapar dan dahaga dengan hidangan berbagai macam olahan ikan dan daging bersama orang orang terdekat kalian reach itu and enjoy the meals pelayanan ramah suasana sedikit dapat tapi memang kerasa beda saung di jakarta sama saung di luar jakarta suasana lebih berasa untuk mknn just get poin from me sambel goang nampol banget untuk yang lain b saja untuk hrga worth itu lah pesan makanan jam makanan baru datang jam pesan bebek goreng ternyata dalem masih dingin beku pesan lalapan sambal tapi baru datang pas kita beres makan padahal kan tidak perlu dimasak rasa makanan biasa saja letak di depan seberang starbucks tebet pintu masuk sebelah indomaret tempat saung saung begitu ditengah jakarta tuh cocok meong untuk makanan not sok bad lah bakwan perkedel jagung reccomended banget daripada pesan mendoan kaget banget masih ada tempat seperti begini di padat kota jakarta makan disini serasa ada di kampung makanan juga enak dan harga sesuai saya ber cukup mengeluarkan budget ke sudah pada kenyang hehe worth itu lah dibanding ke dari luar ha koridor sempit dalam tenyata cukup luas rasa makanan lumayan dan harga ekonomis maksimal nongkrong jam lebih dari itu dikenakan ribu perjam ada jual makanan ikan ribu rupiah overall cukup baik ha saran toilet agak kotor dan gelap aung rasa tebet merupakan restoran yang berkonsep saung saung yang didekat terdapat aneka tanaman dan kolam ikan untuk lokasi berada di tebet disamping indomaret saat dari luar ha terlihat pintu masuk yang kecil dengan papan uka banget makan di sini tempat nyaman tadi makan pesan ikan gurame saung rasa benar maknyus rasa layak dapat bintang dan bikin kita balik lagi ke sini es cendol juga enak manis pas tempe mendoan juga enak banget taff kurang ramah suami saya ta di depan kasir ada orang ini makanan ikan di jual tidak ada yang menjawab dita sekali lagi baru di jawab terkesan acuh ya harga mahal sih tapi tidak worth itu cukup kali sih ke sana menang tempat saja yang ok tempat cukup terpencil jlaan masuk seperti gang kecil di sebelah indomaret orang alfamart begitu deh tapi klao sudah masuk ke dalam ternyata tempat luas ada kolam ikan juga tempat nyaman very good food lokasi ada di belakang indomaret kami makan gurame saung rasa dan sop buntut nasi timbel enak resto berkonsep taman sayang lagi hujan besar jadi banyak tempat yang kebasahan tapi pelayanan mantap sekali tempat agak tersembunyi karena terletak di belakang bangunan minimarket kami datang hari minggu malam dan kondisi cukup sepi parkir kendaraan cukup luas lokasi gampang dicari tempat cukup asri dengan banyak tanaman kolam ikan koi di tengah dan dikelilingi saung untuk makanan dan minuman cukup enak pelayanan lama harga lumayan ya suasana sebenar ok cuma kurang penerangan saja kami makan ber disana dengan menu nasi bakul kangkung tauco gurame bakar ukuran setelapak tangan pria sop gurame isi beberapa potong tahu susu tempe mendoan dan teh tawar panas dibandrol hampir ke makanan enak dan lumayan murah apalagi tempe mendoan karedok dan ikan bakar tempat nyaman bersih dan adem suasana pelayanan baik dan cepat tempat tema taman remangremang asri sih cuma agak panas karena ikut cuaca ibukota dibelakang ada musholla besar pelayanan lama sekali nasi goreng rasa tidak jelas es timun juga rasa tidak karuan cukup sekali saja berkunjung kesini uasana kebersamaan itu pasca ied fitr h membuat tetap kompak dan semangat walau dalam situasi pandemi uasana enak tapi sayang tempat ya tidak kelihatan karena seperti masuk ke dalam tidak untuk mknn ya standar lah harga menunggu makanan lama rasa biasa saja parkir sempit mahal itu menurut saya enak banget tempat benar bisa makan masakan rumahan dan makanan juga enak ha sayur asem saya kurang suka rasa tapi untuk yang lain oke banget rasa enak n nyaman lebih nikmat makan dengan suasana saung terasa sedap sekali apalagi makan di saung rasa tebet berada di jalan soepomo tebet posisi di belakang indomaret nyaman banget tempat besar tempat tapi pintu masuk kecil banget sampai susah mencari nyeloip begitu pintu hehe patokan indomeret pokok pintu disamping indomaret cocok untuk acara keluarga atau arisan atau kumpulan depan bikin kaget masa iya sekecil itu ternyata itu pintu masuk memang di sebelah indomaret dalam lumayan luas sih ada beberapa saung resto masuk gang kecil dan di dalam ternyata ada saung saung yang cocok unt hangout bareng dengan teman dan keluarga makanannyapun enak enak dan harga ramah di kantong top deh resto alhamdulillah tempat dan makanan enak es cendol durian mantap ternyata ada tempat makan tersembunyi gurame bakar enak oseng oncom leunca juga oke enak buat kumpul lesehan taf agak kurang ramah saat anak main dikolam ikan memasuki batu nama anak kecil tidak mengerti tapi agak jutek mengasih tau tempat lumayan luas ada kipas baling balik tiap saung lesehan harga juga standar rasa lumayan enak cuma pohon pisang bikin seram\n",
            "--------------------------------------------------\n"
          ]
        }
      ]
    },
    {
      "cell_type": "markdown",
      "source": [
        "kita bisa melihat bahwa kata yang telah dilakukan text preprocessed menjadi lebih bersih dan ringkas, selanjutnya kita akan melakukan remove Stop word"
      ],
      "metadata": {
        "id": "XHDwfQQA_2WZ"
      }
    },
    {
      "cell_type": "code",
      "source": [
        "# mmebuat Function \n",
        "def stemmer_stopped(text):\n",
        "    stemmer_factory = StemmerFactory()\n",
        "    stemmer = stemmer_factory.create_stemmer()\n",
        "    text = stemmer.stem(text)\n",
        "\n",
        "    list_stopwords = set(stopwords.words('indonesian'))                             \n",
        "    stopword_factory = StopWordRemoverFactory()                                     \n",
        "    stopwords_sastrawi = set(stopword_factory.get_stop_words()) \n",
        "    list_stopwords = list_stopwords.union(stopwords_sastrawi)                       \n",
        "\n",
        "    text = \" \".join(w if w not in list_stopwords else '' for w in text.split())\n",
        "    text = re.sub(\" +\", \" \", text.strip())                                          \n",
        "    return text\n",
        "\n",
        "def clean_stopword(data):\n",
        "    data['clean stopword'] = data['text_preprocessed'].apply(stemmer_stopped)\n",
        "    return data"
      ],
      "metadata": {
        "id": "RfHqe9h0vfTd"
      },
      "execution_count": null,
      "outputs": []
    },
    {
      "cell_type": "markdown",
      "source": [
        "Melakukan remove stop word"
      ],
      "metadata": {
        "id": "lHAU78eyALI8"
      }
    },
    {
      "cell_type": "code",
      "source": [
        "clean_stopword(data)\n",
        "data.head()"
      ],
      "metadata": {
        "colab": {
          "base_uri": "https://localhost:8080/",
          "height": 337
        },
        "id": "Wq-HVc8RzgPg",
        "outputId": "b23d5bab-c76e-4836-c1b1-04ea0c1e9821"
      },
      "execution_count": null,
      "outputs": [
        {
          "output_type": "execute_result",
          "data": {
            "text/plain": [
              "                     Nama Restaurant  Rating  Price                    Daerah  \\\n",
              "0  KAKAW Fine Chocolate & Patisserie     3.4  20000          Senayan, Jakarta   \n",
              "1                 Join Kopi Bulungan     3.9  20000           Blok M, Jakarta   \n",
              "2                          Kopi Coga     4.0  25000  Bendungan Hilir, Jakarta   \n",
              "3     Mie Keriting Benhil \"Mas Pujo\"     3.4  25000  Bendungan Hilir, Jakarta   \n",
              "4                      Rocky Rooster     4.2  25000         Palmerah, Jakarta   \n",
              "\n",
              "               Tipe_1    Tipe_2 Tipe_3  \\\n",
              "0                Kafe  Desserts      -   \n",
              "1                Kopi         -      -   \n",
              "2                Kafe      Kopi    Tea   \n",
              "3               Bakmi         -      -   \n",
              "4  Makanan Cepat Saji         -      -   \n",
              "\n",
              "                                              Review  \\\n",
              "0  [('Fine Chocolate & Pattiserie ini tempatnya t...   \n",
              "1  [('Kopinya enak. Kental dan terasa kopinya. Ad...   \n",
              "2  [('Tempatnya mungil dengan nuansa berwarna bir...   \n",
              "3  [('mie yamin manis special enak sih lebih enak...   \n",
              "4  [('Kulitnya Enak Crispy Trs Dagingnya Juicy Bu...   \n",
              "\n",
              "                                   text_preprocessed  \\\n",
              "0  fine chocolate pattiserie ini tempat tidak ter...   \n",
              "1  kopi enak kental dan terasa kopi ada berbagai ...   \n",
              "2  tempat mungil dengan nuansa berwarna biru lucu...   \n",
              "3  mie yamin manis special enak sih lebih enak ya...   \n",
              "4  kulit enak crispy terus daging juicy bumbu mer...   \n",
              "\n",
              "                                      clean stopword  \n",
              "0  fine chocolate pattiserie interior elegan kere...  \n",
              "1  kopi kental asa kopi varian jenis kopi minum i...  \n",
              "2  mungil nuansa warna biru lucu nih wifi stop ko...  \n",
              "3  mie yamin manis special sih manis asin si pref...  \n",
              "4  kulit crispy daging juicy bumbu resap sambal p...  "
            ],
            "text/html": [
              "\n",
              "  <div id=\"df-e6bffe3a-b8cd-4f26-965a-c584c4c40b6d\">\n",
              "    <div class=\"colab-df-container\">\n",
              "      <div>\n",
              "<style scoped>\n",
              "    .dataframe tbody tr th:only-of-type {\n",
              "        vertical-align: middle;\n",
              "    }\n",
              "\n",
              "    .dataframe tbody tr th {\n",
              "        vertical-align: top;\n",
              "    }\n",
              "\n",
              "    .dataframe thead th {\n",
              "        text-align: right;\n",
              "    }\n",
              "</style>\n",
              "<table border=\"1\" class=\"dataframe\">\n",
              "  <thead>\n",
              "    <tr style=\"text-align: right;\">\n",
              "      <th></th>\n",
              "      <th>Nama Restaurant</th>\n",
              "      <th>Rating</th>\n",
              "      <th>Price</th>\n",
              "      <th>Daerah</th>\n",
              "      <th>Tipe_1</th>\n",
              "      <th>Tipe_2</th>\n",
              "      <th>Tipe_3</th>\n",
              "      <th>Review</th>\n",
              "      <th>text_preprocessed</th>\n",
              "      <th>clean stopword</th>\n",
              "    </tr>\n",
              "  </thead>\n",
              "  <tbody>\n",
              "    <tr>\n",
              "      <th>0</th>\n",
              "      <td>KAKAW Fine Chocolate &amp; Patisserie</td>\n",
              "      <td>3.4</td>\n",
              "      <td>20000</td>\n",
              "      <td>Senayan, Jakarta</td>\n",
              "      <td>Kafe</td>\n",
              "      <td>Desserts</td>\n",
              "      <td>-</td>\n",
              "      <td>[('Fine Chocolate &amp; Pattiserie ini tempatnya t...</td>\n",
              "      <td>fine chocolate pattiserie ini tempat tidak ter...</td>\n",
              "      <td>fine chocolate pattiserie interior elegan kere...</td>\n",
              "    </tr>\n",
              "    <tr>\n",
              "      <th>1</th>\n",
              "      <td>Join Kopi Bulungan</td>\n",
              "      <td>3.9</td>\n",
              "      <td>20000</td>\n",
              "      <td>Blok M, Jakarta</td>\n",
              "      <td>Kopi</td>\n",
              "      <td>-</td>\n",
              "      <td>-</td>\n",
              "      <td>[('Kopinya enak. Kental dan terasa kopinya. Ad...</td>\n",
              "      <td>kopi enak kental dan terasa kopi ada berbagai ...</td>\n",
              "      <td>kopi kental asa kopi varian jenis kopi minum i...</td>\n",
              "    </tr>\n",
              "    <tr>\n",
              "      <th>2</th>\n",
              "      <td>Kopi Coga</td>\n",
              "      <td>4.0</td>\n",
              "      <td>25000</td>\n",
              "      <td>Bendungan Hilir, Jakarta</td>\n",
              "      <td>Kafe</td>\n",
              "      <td>Kopi</td>\n",
              "      <td>Tea</td>\n",
              "      <td>[('Tempatnya mungil dengan nuansa berwarna bir...</td>\n",
              "      <td>tempat mungil dengan nuansa berwarna biru lucu...</td>\n",
              "      <td>mungil nuansa warna biru lucu nih wifi stop ko...</td>\n",
              "    </tr>\n",
              "    <tr>\n",
              "      <th>3</th>\n",
              "      <td>Mie Keriting Benhil \"Mas Pujo\"</td>\n",
              "      <td>3.4</td>\n",
              "      <td>25000</td>\n",
              "      <td>Bendungan Hilir, Jakarta</td>\n",
              "      <td>Bakmi</td>\n",
              "      <td>-</td>\n",
              "      <td>-</td>\n",
              "      <td>[('mie yamin manis special enak sih lebih enak...</td>\n",
              "      <td>mie yamin manis special enak sih lebih enak ya...</td>\n",
              "      <td>mie yamin manis special sih manis asin si pref...</td>\n",
              "    </tr>\n",
              "    <tr>\n",
              "      <th>4</th>\n",
              "      <td>Rocky Rooster</td>\n",
              "      <td>4.2</td>\n",
              "      <td>25000</td>\n",
              "      <td>Palmerah, Jakarta</td>\n",
              "      <td>Makanan Cepat Saji</td>\n",
              "      <td>-</td>\n",
              "      <td>-</td>\n",
              "      <td>[('Kulitnya Enak Crispy Trs Dagingnya Juicy Bu...</td>\n",
              "      <td>kulit enak crispy terus daging juicy bumbu mer...</td>\n",
              "      <td>kulit crispy daging juicy bumbu resap sambal p...</td>\n",
              "    </tr>\n",
              "  </tbody>\n",
              "</table>\n",
              "</div>\n",
              "      <button class=\"colab-df-convert\" onclick=\"convertToInteractive('df-e6bffe3a-b8cd-4f26-965a-c584c4c40b6d')\"\n",
              "              title=\"Convert this dataframe to an interactive table.\"\n",
              "              style=\"display:none;\">\n",
              "        \n",
              "  <svg xmlns=\"http://www.w3.org/2000/svg\" height=\"24px\"viewBox=\"0 0 24 24\"\n",
              "       width=\"24px\">\n",
              "    <path d=\"M0 0h24v24H0V0z\" fill=\"none\"/>\n",
              "    <path d=\"M18.56 5.44l.94 2.06.94-2.06 2.06-.94-2.06-.94-.94-2.06-.94 2.06-2.06.94zm-11 1L8.5 8.5l.94-2.06 2.06-.94-2.06-.94L8.5 2.5l-.94 2.06-2.06.94zm10 10l.94 2.06.94-2.06 2.06-.94-2.06-.94-.94-2.06-.94 2.06-2.06.94z\"/><path d=\"M17.41 7.96l-1.37-1.37c-.4-.4-.92-.59-1.43-.59-.52 0-1.04.2-1.43.59L10.3 9.45l-7.72 7.72c-.78.78-.78 2.05 0 2.83L4 21.41c.39.39.9.59 1.41.59.51 0 1.02-.2 1.41-.59l7.78-7.78 2.81-2.81c.8-.78.8-2.07 0-2.86zM5.41 20L4 18.59l7.72-7.72 1.47 1.35L5.41 20z\"/>\n",
              "  </svg>\n",
              "      </button>\n",
              "      \n",
              "  <style>\n",
              "    .colab-df-container {\n",
              "      display:flex;\n",
              "      flex-wrap:wrap;\n",
              "      gap: 12px;\n",
              "    }\n",
              "\n",
              "    .colab-df-convert {\n",
              "      background-color: #E8F0FE;\n",
              "      border: none;\n",
              "      border-radius: 50%;\n",
              "      cursor: pointer;\n",
              "      display: none;\n",
              "      fill: #1967D2;\n",
              "      height: 32px;\n",
              "      padding: 0 0 0 0;\n",
              "      width: 32px;\n",
              "    }\n",
              "\n",
              "    .colab-df-convert:hover {\n",
              "      background-color: #E2EBFA;\n",
              "      box-shadow: 0px 1px 2px rgba(60, 64, 67, 0.3), 0px 1px 3px 1px rgba(60, 64, 67, 0.15);\n",
              "      fill: #174EA6;\n",
              "    }\n",
              "\n",
              "    [theme=dark] .colab-df-convert {\n",
              "      background-color: #3B4455;\n",
              "      fill: #D2E3FC;\n",
              "    }\n",
              "\n",
              "    [theme=dark] .colab-df-convert:hover {\n",
              "      background-color: #434B5C;\n",
              "      box-shadow: 0px 1px 3px 1px rgba(0, 0, 0, 0.15);\n",
              "      filter: drop-shadow(0px 1px 2px rgba(0, 0, 0, 0.3));\n",
              "      fill: #FFFFFF;\n",
              "    }\n",
              "  </style>\n",
              "\n",
              "      <script>\n",
              "        const buttonEl =\n",
              "          document.querySelector('#df-e6bffe3a-b8cd-4f26-965a-c584c4c40b6d button.colab-df-convert');\n",
              "        buttonEl.style.display =\n",
              "          google.colab.kernel.accessAllowed ? 'block' : 'none';\n",
              "\n",
              "        async function convertToInteractive(key) {\n",
              "          const element = document.querySelector('#df-e6bffe3a-b8cd-4f26-965a-c584c4c40b6d');\n",
              "          const dataTable =\n",
              "            await google.colab.kernel.invokeFunction('convertToInteractive',\n",
              "                                                     [key], {});\n",
              "          if (!dataTable) return;\n",
              "\n",
              "          const docLinkHtml = 'Like what you see? Visit the ' +\n",
              "            '<a target=\"_blank\" href=https://colab.research.google.com/notebooks/data_table.ipynb>data table notebook</a>'\n",
              "            + ' to learn more about interactive tables.';\n",
              "          element.innerHTML = '';\n",
              "          dataTable['output_type'] = 'display_data';\n",
              "          await google.colab.output.renderOutput(dataTable, element);\n",
              "          const docLink = document.createElement('div');\n",
              "          docLink.innerHTML = docLinkHtml;\n",
              "          element.appendChild(docLink);\n",
              "        }\n",
              "      </script>\n",
              "    </div>\n",
              "  </div>\n",
              "  "
            ]
          },
          "metadata": {},
          "execution_count": 22
        }
      ]
    },
    {
      "cell_type": "markdown",
      "source": [
        "Kita akan emlihat hasil setelah remove stopword"
      ],
      "metadata": {
        "id": "BUjY9_OOAOlO"
      }
    },
    {
      "cell_type": "code",
      "source": [
        "for i in range(1):\n",
        "  print('Before :')\n",
        "  print(data['Review'][i])\n",
        "  print('---'*50)\n",
        "  print('After :')\n",
        "  print(data['text_preprocessed'][i])\n",
        "  print('---'*50)\n",
        "  print('After Clean Stopword :')\n",
        "  print(data['clean stopword'][i])"
      ],
      "metadata": {
        "colab": {
          "base_uri": "https://localhost:8080/"
        },
        "id": "MDDc2tRfz8lD",
        "outputId": "18af0f65-969a-4491-9eb6-224bb0dc2c71"
      },
      "execution_count": null,
      "outputs": [
        {
          "output_type": "stream",
          "name": "stdout",
          "text": [
            "Before :\n",
            "[('Fine Chocolate & Pattiserie ini tempatnya tidak terlalu besar, interior yang terlihat elegan dan keren. Banyak sekali produk coklat yang dijual di sini mulai dari chocolate box, chocolate bar chocolate by the gram, ice cream, hot chocolate powder, minuman chocolate dan cakes dll. Cake di sini didisplay cantik, rasanya kepingin cobain semuanya deh. Ada area bar tersendiri untuk membuat minuman hot chocolate. Seating area terbatas, hanya ada 3 table saja. Tempat yang nyaman untuk menikmati dessert dan hot chocolate. Saya mencoba : *Java Hot 36% (55k++) - Ini adalah salah satu dari minuman single origin chocolate. Perpaduan milk dan cocoanya sangat pas dan ada hint hazelnutnya juga. Creamy, milky dan chocolatenya terasa rich, bitter sweetnya terasa pas dan mewah. Meskipun kadar coklatnya hanya 36% rasa coklatnya sudah terasa sekali. Minuman ini disajikan panas banget. Enak banget dan recommended.\n",
            " *Apple granny (55k++) - dessert ini tampil cute dengan bentuk seperti bola yang berwarna warna hijau digarnish cantik dengan edible flower. Komposisinya pistachio biscuit, cream cheese mousse, berry jam, dan potongan apel granny smith. Rasanya asam, manis, segar dan tidak terlalu manis. Enak deh, pas banget untuk dipairing dengan minuman Java Hot yang saya pesan. Staffnya ramah dan sangat informatif, product knowledgenya ok banget deh. Kamu bisa minta rekomendasi dari mereka best pairing cake untuk hot chocolate yang dipesan. Nga sabar untuk balik lagi ke tempat ini untuk mencoba minuman chocolate yang lainnya. Recommended untuk para pencinta coklat.'); ('Cocok buat pecinta coklat, cake mereka unik-unik dan campuran rasanya terasa mewah dan enak semua. Klo ga terlalu suka cake, ada juga es krim dijual per-scoop. Ada juga yg model box, sabi buat gift atau parsel.'); ('Love it! Love their premium chocolate, their cakes, their chocolate drink, but most of all, their packaging! Very sophisicated, Superb. Secara harga memang mahal, tapi terutup dengan kualitas yang diberikan. Sedikit minus di interior, karena terlalu gelap dan sempit. Berharap ada tempat nongkrong enak seperti Max Brenner. Bisa laptopan santai sambil menikmati cokelat.'); ('Disini jual macam2 dessert ,cake,gelato,juga ada makanan yg lain nya,cake nya sendiri sy rasa biasa2 saja,utk gelato nya cukup enak tapi kurang nendang,all produk nya terlihat bagus design nya,sy coba 3 macam cake nya tp all rasanya enak tp biasa saja,dan juga harga nya disni cukup mahal'); ('pertama cobain dark coklatnya ternyata enak trus balik lagi beli lagi varian lainnya..recommended nih buat taste coklatnya'); ('Tempat yg menggiurkan bagi choco lovers! itemnya variatif dan unik, mulai dari truffle 90K/ons, small cake mulai dari 50K, cake 600K.. must try'); ('Kue2nya enak, bersih, dibuat dgn profesional chef'); ('Tempatnya cukup nyaman. Kue nya worth it sama harganya. Hanya ada rasa asem di kue agak dikurangin.. Mungkin tergantung selera. Overall memuaskan .Sayang belum coba ice creamnya. Maybe next time!'); ('Tanpa ekspektasi apa-apa langsung pilih cake Tropical Almond Hazelnut dan Wow! Ga salah pilih. Ga gitu manis dan pas di lidah. Cocok dengan selera aku yang ga suka manis. Nice!'); ('the best chocolate shop in town!!! Assorted box 12 Dan cake2 nya enak bggttt. Staff nya ramah bgt helpful dan ngejelasin semuanya. Saya beli 2 box untuk hampers ke kerabat saya dibantu pengiriman nya sampai tujuan. Next mau kesini lagi dan cobain minuman chocolatenya. Sukses terus kakaw'); ('this is the best choco in town!!\n",
            " local brand hebat bisa bikin coklat yang enak dan harganya juga oke bangettt. pelayanannya baik, mba mbanya sangat membantu di toko. sempat beli via whatsapp dan dibantu sampai barangnya mendarat ke rumah dengan selamat. ini recommended bangettt!!! karyawannya super baik!!!! thank youuu!!!'); ('Di telfon gak diangakat2. Nunggu hampir 1jam..di telfon malah marah2 Kurang etika dan gak sopan.. Ketemu malah marah2.. Alesan jaga berdua Lucu aja weekend kok jaga berdua. Dan gak mau ngapain kesalahanya. Tolong dong management kakaw yg toko nya di district 8 senopati.. Tindak tegas karyawan wanita yg kerja hari ini yg orang nya pemdek'); ('Pelayanan sangat buruk. Nunggu lama banget. Dan berbicara kasar. Tolong diajarin bersopan santun'); ('Begitu bgk varian chocolate yg enak2,kalian mesti coba'); ('Enak . Worth it dengan harganya .'); ('Cs slow response gak membantu'); ('My favorite patisserie..they serve individual mousse cakes, whole cakes, chocolate pralines, single origin chocolate drinks, and also gelato.\n",
            " Toko kue favorit saya..mereka menyajikan kue mousse individu, kue utuh, praline cokelat, minuman cokelat single origin, dan juga gelato.\n",
            " Saya merekomendasikan es cokelat hitam untuk minuman, dan kemudian gelato macademia. Semua kue mousse enak.'); (' Pilihan kue yang enak, truffle cokelat unik, bar, cokelatnya pasti merupakan hadiah menit terakhir yang sempurna dengan kemasannya yang sangat bagus. Harus mencoba tempat pencuci mulut di distrik ashta 8?'); ('Itu adalah pengalaman hebat membeli barang bagus di sini Lihatlah upaya pengemasan yang dilakukan hanya untuk sepotong kue kecil! Sejujurnya, mereka benar-benar menurunkan harga mereka 😂 Saya memesan kue mereka secara online dan ternyata kue itu datang tanpa kerusakan apa pun dan masih dingin karena es kering yang mereka masukkan. Saya memberi tahu mereka bahwa ini adalah kue ulang tahun untuk seseorang dan mereka menawarkan untuk melakukan spesialisasi gratis untuk saya. Mencoba gelato mereka dan juga cukup istimewa. Toko fisik adalah 10/10 suasana yang baik. Pasti akan kembali untuk cokelat mereka kali ini?'); ('Jika Anda suka Cokelat, ini adalah tempat yang harus dikunjungi. Ketika datang ke manisnya, harga adalah no.2. Mereka juga memiliki kafe kecil yang nyaman yang merupakan tempat yang bagus untuk menikmati Cokelat Panas dan minuman?'); ('KAKAW Fine Chocolate & Pattiserie menyajikan berbagai macam Chocolate, dari Chocolate bar, Chocolate bit, es krim, kue.\n",
            " Kue-kue yang sangat menggoda untuk dicoba, masing-masing menawarkan rasa, bahan, dan bentuk yang unik. Anda dapat menemukan 3 meja di sisi Toko, cukup kecil untuk makan cepat dan pergi.'); ('Paket ini diberikan oleh klien kantor saya. Cokelat mereka sangat enak semua orang menyukainya. Kuenya juga enak. Bagi yang tidak suka manis, ini adalah pilihan terbaik untuk kue choco! ☺'); ('Sedang memeriksa mal ketika saya melihat Kakaw. Aduh, coklat dan kuenya dipajang dengan cantik - membuatku ingin mencoba semua jenis. Untuk dibawa pulang, kotak kemasannya dibuat dengan baik, mengingatkan saya pada skema warna Hermes. Saya juga mencoba minuman cokelat panas Venezuela - wow !! Salah satu minuman cokelat terbaik yang pernah saya rasakan. Saya berharap mereka memiliki area makan yang lebih besar - saat ini mereka hanya memiliki 3 meja.'); ('Makanan penutupnya enak tapi terlalu manis untuk seleraku. Wadah takeaway yang indah dengan es kering?'); ('Pengrajin cokelat cantik yang terletak di dalam Distrik 8's Ashta di SCBD. Toko itu didesain dengan indah dan begitu pula produk mereka. Mereka menjual coklat, es krim, dan minuman. Area tempat duduk kecil. Harga tinggi tetapi sepadan untuk potongan-potongan indah mereka. Layak dikunjungi jika Anda berada di area tersebut.'); ('Es krim yang enak, makanan penutup yang sangat enak. Satu hal yang membuat saya bingung - saya membeli cokelat, memilihnya sesuai dengan sampel yang disajikan di atas kotak dan cokelat di dalamnya ternyata sangat berbeda: hampir tidak ada kacang renyah, sedikit bola. Saya akan membeli beberapa batang lagi dan memutuskan untuk mengujinya sebelumnya, semuanya sama: di dalamnya ada sedikit bahan renyah, meskipun sampelnya tertutup seluruhnya, dan ini terjadi pada beberapa jenis cokelat ! Tidak seperti yang Anda harapkan, sampelnya terlihat menarik tetapi tidak sesuai dengan kenyataan.'); ('Kesan pertamaku tentang kue Kakaw ... Sangat indah! Dari lapisan cokelat yang sempurna dan desain kuenya yang luar biasa, saya menyukainya! Saya mencoba kue Kakaw, kue Yuzu Earl Grey, dan kue Apple Granny. Nenek Apel: Saya jarang makan kue jenis buah sebelumnya, tetapi saya sangat menikmati kue Nenek Apel. Kombinasi krim keju dan apel ... masuk akal dengan cara yang tidak pernah saya bayangkan sebelumnya. Dengan tekstur yang bagus dari biskuit Pistachio, saya akan memberikan ini 8,5 dari 10. Kue yang indah untuk dinikmati dengan secangkir teh. Kakaw: Pecinta cokelat & karamel, ini harus dicoba! 9,7 dari 10. Satu-satunya masalah saya adalah saya tidak cukup mendinginkannya saat memakannya.\n",
            " Yuzu Earl Grey: Saya menemukan Yuzu agak terlalu banyak, saya lebih suka jika dicampur secara merata, tidak terkonsentrasi di tengah kue, ini adalah 8 dari 10 karena earl grey dan kue bolu itu sendiri cukup oke. Saya sarankan Anda membuat rsvp dulu jika Anda ingin makan di Kakaw karena mereka memiliki meja yang sangat terbatas ..'); ('Cokelat dengan rasa gram Bailey - benar-benar surgawi!!'); ('Kue dan Cokelat Luar Biasa. Meskipun saya tidak tahu banyak tentang mereknya ... Saya yakin produk mereka harus berbicara sendiri'); ('Cake was very good taste.\n",
            " Slightly expensive but it’s still ok.')]\n",
            "------------------------------------------------------------------------------------------------------------------------------------------------------\n",
            "After :\n",
            "fine chocolate pattiserie ini tempat tidak terlalu besar interior yang terlihat elegan dan keren banyak sekali produk coklat yang dijual di sini mulai dari chocolate box chocolate bar chocolate by the gram ice cream hot chocolate powder minuman chocolate dan cakes dll cake di sini didisplay cantik rasa pengin mencoba semua deh ada area bar tersendiri untuk membuat minuman hot chocolate seating area terbatas ha ada table saja tempat yang nyaman untuk menikmati dessert dan hot chocolate saya mencoba java hot ke ini adalah salah satu dari minuman single origin chocolate perpaduan milk dan cocoa sangat pas dan ada hint hazelnut juga creamy milky dan chocolate terasa rich bitter sweet terasa pas dan mewah meskipun kadar coklat ha rasa coklat sudah terasa sekali minuman ini disajikan panas banget enak banget dan recommended apple gran ke dessert ini tampil cute dengan bentuk seperti bola yang berwarna warna hijau digarnish cantik dengan edible flower komposisi pistachio biscuit cream cheese mousse berry jam dan potongan apel gran smith rasa asam manis segar dan tidak terlalu manis enak deh pas banget untuk dipairing dengan minuman java hot yang saya pesan staff ramah dan sangat informatif product knowledge ok banget deh kamu bisa meminta rekomendasi dari mereka best pairing cake untuk hot chocolate yang dipesan tidak sabar untuk balik lagi ke tempat ini untuk mencoba minuman chocolate yang lain recommended untuk para pencinta coklat cocok buat pecinta coklat cake mereka unik unik dan campuran rasa terasa mewah dan enak semua kalo tidak terlalu suka cake ada juga es krim dijual per scoop ada juga yang model box sabi buat gift atau parsel love itu love their premium chocolate their cakes their chocolate drink but most of all their packaging very sophisicated superb secara harga memang mahal tapi terutup dengan kualitas yang diberikan sedikit minus di interior karena terlalu gelap dan sempit berharap ada tempat nongkrong enak seperti max brenner bisa laptopan santai sambil menikmati cokelat disini jual macam dessert cake gelato juga ada makanan yang lain cake sendiri saya rasa biasa saja untuk gelato cukup enak tapi kurang nendang all produk terlihat bagus design saya coba macam cake tapi all rasa enak tapi biasa saja dan juga harga disini cukup mahal pertama mencoba dark coklat ternyata enak terus balik lagi beli lagi varian lain recommended nih buat taste coklat tempat yang menggiurkan bagi choco lovers item variatif dan unik mulai dari truffle ke ons small cake mulai dari ke cake ke must try kue enak bersih dibuat dengan profesional chef tempat cukup nyaman kue worth itu sama harga ha ada rasa asem di kue agak dikurangin mungkin tergantung selera overall memuaskan sayang belum coba ice cream maybe next time tanpa ekspektasi apa apa langsung pilih cake tropical almond hazelnut dan wow tidak salah pilih tidak begitu manis dan pas di lidah cocok dengan selera aku yang tidak suka manis nice the best chocolate shop ini town assorted box dan cake enak bggt staff ramah banget helpful dan ngejelasin semua saya beli box untuk hampers ke kerabat saya dibantu pengiriman sampai tujuan next mau kesini lagi dan mencoba minuman chocolate sukses terus kakaw this is the best choco ini town local brand hebat bisa bikin coklat yang enak dan harga juga oke banget pelayanan baik mbak mbak sangat membantu di toko sempat beli via whatsapp dan dibantu sampai barang mendarat ke rumah dengan selamat ini recommended banget karyawan super baik thank you di telfon tidak diangakat menunggu hampir jam di telfon malah marah kurang etika dan tidak sopan ketemu malah marah alesan jaga berdua lucu saja weekend kok jaga berdua dan tidak mau mengapai kesalaha tolong dong management kakaw yang toko di district senopati tindak tegas karyawan wanita yang kerja hari ini yang orang pemdek pelayanan sangat buruk menunggu lama banget dan berbicara kasar tolong diajari bersopan santun begitu bgk varian chocolate yang enak kalian mesti coba enak worth itu dengan harga cs slow response tidak membantu my favorite patisserie they serve individual mousse cakes whole cakes chocolate pralines single origin chocolate drinks and also gelato toko kue favorit saya mereka menyajikan kue mousse individu kue utuh praline cokelat minuman cokelat single origin dan juga gelato saya merekomendasikan es cokelat hitam untuk minuman dan kemudian gelato macademia semua kue mousse enak pilihan kue yang enak truffle cokelat unik bar cokelat pasti merupakan hadiah menit terakhir yang sempurna dengan kemasan yang sangat bagus harus mencoba tempat pencuci mulut di distrik ashta itu adalah pengalaman hebat membeli barang bagus di sini lihatlah upaya pengemasan yang dilakukan ha untuk sepotong kue kecil sejujur mereka benar benar menurunkan harga mereka saya memesan kue mereka secara online dan ternyata kue itu datang tanpa kerusakan apa pun dan masih dingin karena es kering yang mereka masukkan saya memberi tahu mereka bahwa ini adalah kue ulang tahun untuk seseorang dan mereka menawarkan untuk melakukan spesialisasi gratis untuk saya mencoba gelato mereka dan juga cukup istimewa toko fisik adalah suasana yang baik pasti akan kembali untuk cokelat mereka kali ini jika anda suka cokelat ini adalah tempat yang harus dikunjungi ketika datang ke manis harga adalah no mereka juga memiliki kafe kecil yang nyaman yang merupakan tempat yang bagus untuk menikmati cokelat panas dan minuman kakaw fine chocolate pattiserie menyajikan berbagai macam chocolate dari chocolate bar chocolate bit es krim kue kue kue yang sangat menggoda untuk dicoba masing masing menawarkan rasa bahan dan bentuk yang unik anda dapat menemukan meja di sisi toko cukup kecil untuk makan cepat dan pergi paket ini diberikan oleh klien kantor saya cokelat mereka sangat enak semua orang menyukai kue juga enak bagi yang tidak suka manis ini adalah pilihan terbaik untuk kue choco edang memeriksa mal ketika saya melihat kakaw aduh coklat dan kue dipajang dengan cantik membuatku ingin mencoba semua jenis untuk dibawa pulang kotak kemasan dibuat dengan baik mengingatkan saya pada skema warna hermes saya juga mencoba minuman cokelat panas venezuela wow salah satu minuman cokelat terbaik yang pernah saya rasakan saya berharap mereka memiliki area makan yang lebih besar saat ini mereka ha memiliki meja makanan penutup enak tapi terlalu manis untuk seleraku wadah takeaway yang indah dengan es kering pengrajin cokelat cantik yang terletak di dalam distrik ashta di scbd toko itu didesain dengan indah dan begitu pula produk mereka mereka menjual coklat es krim dan minuman area tempat duduk kecil harga tinggi tetapi sepadan untuk potongan potongan indah mereka layak dikunjungi jika anda berada di area tersebut es krim yang enak makanan penutup yang sangat enak satu hal yang membuat saya bingung saya membeli cokelat memilih sesuai dengan sampel yang disajikan di atas kotak dan cokelat di dalam ternyata sangat berbeda hampir tidak ada kacang renyah sedikit bola saya akan membeli beberapa batang lagi dan memutuskan untuk menguji sebelum semua sama di dalam ada sedikit bahan renyah meskipun sampel tertutup seluruh dan ini terjadi pada beberapa jenis cokelat tidak seperti yang anda harapkan sampel terlihat menarik tetapi tidak sesuai dengan kenyataan kesan pertamaku tentang kue kakaw sangat indah dari lapisan cokelat yang sempurna dan desain kue yang luar biasa saya menyukai saya mencoba kue kakaw kue yuzu earl grey dan kue apple gran nenek apel saya jarang makan kue jenis buah sebelum tetapi saya sangat menikmati kue nenek apel kombinasi krim keju dan apel masuk akal dengan cara yang tidak pernah saya bayangkan sebelum dengan tekstur yang bagus dari biskuit pistachio saya akan memberikan ini dari kue yang indah untuk dinikmati dengan secangkir teh kakaw pecinta cokelat karamel ini harus dicoba dari satu satu masalah saya adalah saya tidak cukup mendinginkan saat memakan yuzu earl grey saya menemukan yuzu agak terlalu banyak saya lebih suka jika dicampur secara merata tidak terkonsentrasi di tengah kue ini adalah dari karena earl grey dan kue bolu itu sendiri cukup oke saya sarankan anda membuat rsvp dulu jika anda ingin makan di kakaw karena mereka memiliki meja yang sangat terbatas cokelat dengan rasa gram bailey benar benar surgawi kue dan cokelat luar biasa meskipun saya tidak tahu banyak tentang merek saya yakin produk mereka harus berbicara sendiri cake was very good taste slightly expensive but itu si still ok\n",
            "------------------------------------------------------------------------------------------------------------------------------------------------------\n",
            "After Clean Stopword :\n",
            "fine chocolate pattiserie interior elegan keren produk coklat jual chocolate box chocolate bar chocolate by the gram ice cream hot chocolate powder minum chocolate cakes dll cake didisplay cantik pengin coba deh area bar minum hot chocolate seating area batas ha table nyaman nikmat dessert hot chocolate coba java hot salah minum single origin chocolate padu milk cocoa pas hint hazelnut creamy milky chocolate asa rich bitter sweet asa pas mewah coklat ha coklat asa minum saji panas banget banget recommended apple gran dessert tampil cute bentuk bola warna warna hijau digarnish cantik edible flower komposisi pistachio biscuit cream cheese mousse berry jam potong apel gran smith asam manis segar manis deh pas banget dipairing minum java hot pesan staff ramah informatif product knowledge ok banget deh rekomendasi best pairing cake hot chocolate pes sabar coba minum chocolate recommended cinta coklat cocok cinta coklat cake unik unik campur asa mewah kalo suka cake es krim jual scoop model box sabi gift parsel love love their premium chocolate their cakes their chocolate drink but most of all their packaging very sophisicated superb harga mahal rutup kualitas minus interior gelap sempit harap nongkrong max brenner laptop santai nikmat cokelat jual dessert cake gelato makan cake gelato nendang all produk bagus design coba cake all harga mahal coba dark coklat beli varian recommended nih taste coklat giur choco lovers item variatif unik truffle ons small cake cake must try kue bersih profesional chef nyaman kue worth harga ha asem kue rangin gantung selera overall muas sayang coba ice cream maybe next time ekspektasi pilih cake tropical almond hazelnut wow salah pilih manis pas lidah cocok selera suka manis nice the best chocolate shop town assorted box cake bggt staff ramah banget helpful ngejelasin beli box hampers kerabat bantu kirim next kesini coba minum chocolate sukses kakaw this is the best choco town local brand hebat bikin coklat harga oke banget layan mbak mbak bantu toko beli via whatsapp bantu barang darat rumah selamat recommended banget karyawan super thank you telfon diangakat tunggu jam telfon marah etika sopan ketemu marah alesan jaga lucu weekend jaga kapai kesalaha tolong management kakaw toko district senopati tindak karyawan wanita pemdek layan buruk tunggu banget bicara kasar tolong ajar sopan santun bgk varian chocolate mesti coba worth harga cs slow response bantu my favorite patisserie they serve individual mousse cakes whole cakes chocolate pralines single origin chocolate drinks and also gelato toko kue favorit saji kue mousse individu kue utuh praline cokelat minum cokelat single origin gelato rekomendasi es cokelat hitam minum gelato macademia kue mousse pilih kue truffle cokelat unik bar cokelat hadiah menit sempurna kemas bagus coba cuci mulut distrik ashta alam hebat beli barang bagus upaya emas ha potong kue jujur turun harga mes kue online kue rusa dingin es kering kue ulang tawar spesialisasi gratis coba gelato istimewa toko fisik suasana cokelat suka cokelat kunjung manis harga no milik kafe nyaman bagus nikmat cokelat panas minum kakaw fine chocolate pattiserie saji chocolate chocolate bar chocolate bit es krim kue kue kue goda coba tawar bahan bentuk unik temu meja sisi toko makan cepat pergi paket klien kantor cokelat suka kue suka manis pilih kue choco edang periksa mal kakaw aduh coklat kue pajang cantik coba jenis bawa pulang kotak kemas skema warna hermes coba minum cokelat panas venezuela wow salah minum cokelat harap milik area makan ha milik meja makan tutup manis selera wadah takeaway indah es kering rajin cokelat cantik letak distrik ashta scbd toko desain indah produk jual coklat es krim minum area duduk harga padan potong potong indah layak kunjung area es krim makan tutup bingung beli cokelat pilih sesuai sampel saji kotak cokelat beda kacang renyah bola beli batang putus uji bahan renyah sampel tutup jenis cokelat harap sampel tarik sesuai kesan kue kakaw indah lapis cokelat sempurna desain kue suka coba kue kakaw kue yuzu earl grey kue apple gran nenek apel jarang makan kue jenis buah nikmat kue nenek apel kombinasi krim keju apel akal bayang tekstur bagus biskuit pistachio kue indah nikmat cangkir teh kakaw cinta cokelat karamel coba dingin makan yuzu earl grey temu yuzu suka campur konsentrasi kue earl grey kue bolu oke saran rsvp makan kakaw milik meja batas cokelat gram bailey surgawi kue cokelat merek produk bicara cake was very good taste slightly expensive but si still ok\n"
          ]
        }
      ]
    },
    {
      "cell_type": "markdown",
      "source": [
        "Dari hasil diatas kita lihat bahwa text yang telah dilakukan remove stop word menjadi lebih ringkas dan ini dapat membuat model menjadi lebih baik"
      ],
      "metadata": {
        "id": "LtDn0K8xAUt2"
      }
    },
    {
      "cell_type": "markdown",
      "source": [
        "Kita akan melihat setelah word cloud setelah dihapus stop wordnya"
      ],
      "metadata": {
        "id": "QAd2SzbAcmss"
      }
    },
    {
      "cell_type": "code",
      "source": [
        "corpus = \" \".join(data['clean stopword'])\n",
        "word_cloud = WordCloud(max_words=100, background_color='white', min_font_size=10).generate(corpus)\n",
        "img = word_cloud.to_image()\n",
        "\n",
        "fig = plt.figure(1)\n",
        "plt.imshow(img)\n",
        "plt.axis('off')\n",
        "plt.show()"
      ],
      "metadata": {
        "colab": {
          "base_uri": "https://localhost:8080/",
          "height": 198
        },
        "id": "EYOwYYlEc5IA",
        "outputId": "f650d710-9b13-4110-c102-e5a857e0bef8"
      },
      "execution_count": null,
      "outputs": [
        {
          "output_type": "display_data",
          "data": {
            "text/plain": [
              "<Figure size 432x288 with 1 Axes>"
            ],
            "image/png": "[encoded data removed]"
          },
          "metadata": {
            "needs_background": "light"
          }
        }
      ]
    },
    {
      "cell_type": "markdown",
      "source": [
        "Seperti yang bisa kita lihat bahwa setelah dilakukan removing stop word, kata yang sering muncul adalah MAKAN"
      ],
      "metadata": {
        "id": "ooVRqvRldJhP"
      }
    },
    {
      "cell_type": "markdown",
      "source": [
        "# **MODELING**"
      ],
      "metadata": {
        "id": "ZadVJUB9hno6"
      }
    },
    {
      "cell_type": "markdown",
      "source": [
        "Pada bagian ini kita akan melakukan modeling text word2vec, saya akan \n",
        "melakukan perbandingan antara text preprocessed dan clean stopword\n"
      ],
      "metadata": {
        "id": "J8DQMbXKe3Fr"
      }
    },
    {
      "cell_type": "code",
      "source": [
        "# Display text preproceseed\n",
        "data['text_preprocessed'][0]"
      ],
      "metadata": {
        "colab": {
          "base_uri": "https://localhost:8080/",
          "height": 140
        },
        "id": "CJya3adVgkZH",
        "outputId": "a76e9f23-e31b-40aa-b739-ae74032bcc54"
      },
      "execution_count": null,
      "outputs": [
        {
          "output_type": "execute_result",
          "data": {
            "text/plain": [
              "'fine chocolate pattiserie ini tempat tidak terlalu besar interior yang terlihat elegan dan keren banyak sekali produk coklat yang dijual di sini mulai dari chocolate box chocolate bar chocolate by the gram ice cream hot chocolate powder minuman chocolate dan cakes dll cake di sini didisplay cantik rasa pengin mencoba semua deh ada area bar tersendiri untuk membuat minuman hot chocolate seating area terbatas ha ada table saja tempat yang nyaman untuk menikmati dessert dan hot chocolate saya mencoba java hot ke ini adalah salah satu dari minuman single origin chocolate perpaduan milk dan cocoa sangat pas dan ada hint hazelnut juga creamy milky dan chocolate terasa rich bitter sweet terasa pas dan mewah meskipun kadar coklat ha rasa coklat sudah terasa sekali minuman ini disajikan panas banget enak banget dan recommended apple gran ke dessert ini tampil cute dengan bentuk seperti bola yang berwarna warna hijau digarnish cantik dengan edible flower komposisi pistachio biscuit cream cheese mousse berry jam dan potongan apel gran smith rasa asam manis segar dan tidak terlalu manis enak deh pas banget untuk dipairing dengan minuman java hot yang saya pesan staff ramah dan sangat informatif product knowledge ok banget deh kamu bisa meminta rekomendasi dari mereka best pairing cake untuk hot chocolate yang dipesan tidak sabar untuk balik lagi ke tempat ini untuk mencoba minuman chocolate yang lain recommended untuk para pencinta coklat cocok buat pecinta coklat cake mereka unik unik dan campuran rasa terasa mewah dan enak semua kalo tidak terlalu suka cake ada juga es krim dijual per scoop ada juga yang model box sabi buat gift atau parsel love itu love their premium chocolate their cakes their chocolate drink but most of all their packaging very sophisicated superb secara harga memang mahal tapi terutup dengan kualitas yang diberikan sedikit minus di interior karena terlalu gelap dan sempit berharap ada tempat nongkrong enak seperti max brenner bisa laptopan santai sambil menikmati cokelat disini jual macam dessert cake gelato juga ada makanan yang lain cake sendiri saya rasa biasa saja untuk gelato cukup enak tapi kurang nendang all produk terlihat bagus design saya coba macam cake tapi all rasa enak tapi biasa saja dan juga harga disini cukup mahal pertama mencoba dark coklat ternyata enak terus balik lagi beli lagi varian lain recommended nih buat taste coklat tempat yang menggiurkan bagi choco lovers item variatif dan unik mulai dari truffle ke ons small cake mulai dari ke cake ke must try kue enak bersih dibuat dengan profesional chef tempat cukup nyaman kue worth itu sama harga ha ada rasa asem di kue agak dikurangin mungkin tergantung selera overall memuaskan sayang belum coba ice cream maybe next time tanpa ekspektasi apa apa langsung pilih cake tropical almond hazelnut dan wow tidak salah pilih tidak begitu manis dan pas di lidah cocok dengan selera aku yang tidak suka manis nice the best chocolate shop ini town assorted box dan cake enak bggt staff ramah banget helpful dan ngejelasin semua saya beli box untuk hampers ke kerabat saya dibantu pengiriman sampai tujuan next mau kesini lagi dan mencoba minuman chocolate sukses terus kakaw this is the best choco ini town local brand hebat bisa bikin coklat yang enak dan harga juga oke banget pelayanan baik mbak mbak sangat membantu di toko sempat beli via whatsapp dan dibantu sampai barang mendarat ke rumah dengan selamat ini recommended banget karyawan super baik thank you di telfon tidak diangakat menunggu hampir jam di telfon malah marah kurang etika dan tidak sopan ketemu malah marah alesan jaga berdua lucu saja weekend kok jaga berdua dan tidak mau mengapai kesalaha tolong dong management kakaw yang toko di district senopati tindak tegas karyawan wanita yang kerja hari ini yang orang pemdek pelayanan sangat buruk menunggu lama banget dan berbicara kasar tolong diajari bersopan santun begitu bgk varian chocolate yang enak kalian mesti coba enak worth itu dengan harga cs slow response tidak membantu my favorite patisserie they serve individual mousse cakes whole cakes chocolate pralines single origin chocolate drinks and also gelato toko kue favorit saya mereka menyajikan kue mousse individu kue utuh praline cokelat minuman cokelat single origin dan juga gelato saya merekomendasikan es cokelat hitam untuk minuman dan kemudian gelato macademia semua kue mousse enak pilihan kue yang enak truffle cokelat unik bar cokelat pasti merupakan hadiah menit terakhir yang sempurna dengan kemasan yang sangat bagus harus mencoba tempat pencuci mulut di distrik ashta itu adalah pengalaman hebat membeli barang bagus di sini lihatlah upaya pengemasan yang dilakukan ha untuk sepotong kue kecil sejujur mereka benar benar menurunkan harga mereka saya memesan kue mereka secara online dan ternyata kue itu datang tanpa kerusakan apa pun dan masih dingin karena es kering yang mereka masukkan saya memberi tahu mereka bahwa ini adalah kue ulang tahun untuk seseorang dan mereka menawarkan untuk melakukan spesialisasi gratis untuk saya mencoba gelato mereka dan juga cukup istimewa toko fisik adalah suasana yang baik pasti akan kembali untuk cokelat mereka kali ini jika anda suka cokelat ini adalah tempat yang harus dikunjungi ketika datang ke manis harga adalah no mereka juga memiliki kafe kecil yang nyaman yang merupakan tempat yang bagus untuk menikmati cokelat panas dan minuman kakaw fine chocolate pattiserie menyajikan berbagai macam chocolate dari chocolate bar chocolate bit es krim kue kue kue yang sangat menggoda untuk dicoba masing masing menawarkan rasa bahan dan bentuk yang unik anda dapat menemukan meja di sisi toko cukup kecil untuk makan cepat dan pergi paket ini diberikan oleh klien kantor saya cokelat mereka sangat enak semua orang menyukai kue juga enak bagi yang tidak suka manis ini adalah pilihan terbaik untuk kue choco edang memeriksa mal ketika saya melihat kakaw aduh coklat dan kue dipajang dengan cantik membuatku ingin mencoba semua jenis untuk dibawa pulang kotak kemasan dibuat dengan baik mengingatkan saya pada skema warna hermes saya juga mencoba minuman cokelat panas venezuela wow salah satu minuman cokelat terbaik yang pernah saya rasakan saya berharap mereka memiliki area makan yang lebih besar saat ini mereka ha memiliki meja makanan penutup enak tapi terlalu manis untuk seleraku wadah takeaway yang indah dengan es kering pengrajin cokelat cantik yang terletak di dalam distrik ashta di scbd toko itu didesain dengan indah dan begitu pula produk mereka mereka menjual coklat es krim dan minuman area tempat duduk kecil harga tinggi tetapi sepadan untuk potongan potongan indah mereka layak dikunjungi jika anda berada di area tersebut es krim yang enak makanan penutup yang sangat enak satu hal yang membuat saya bingung saya membeli cokelat memilih sesuai dengan sampel yang disajikan di atas kotak dan cokelat di dalam ternyata sangat berbeda hampir tidak ada kacang renyah sedikit bola saya akan membeli beberapa batang lagi dan memutuskan untuk menguji sebelum semua sama di dalam ada sedikit bahan renyah meskipun sampel tertutup seluruh dan ini terjadi pada beberapa jenis cokelat tidak seperti yang anda harapkan sampel terlihat menarik tetapi tidak sesuai dengan kenyataan kesan pertamaku tentang kue kakaw sangat indah dari lapisan cokelat yang sempurna dan desain kue yang luar biasa saya menyukai saya mencoba kue kakaw kue yuzu earl grey dan kue apple gran nenek apel saya jarang makan kue jenis buah sebelum tetapi saya sangat menikmati kue nenek apel kombinasi krim keju dan apel masuk akal dengan cara yang tidak pernah saya bayangkan sebelum dengan tekstur yang bagus dari biskuit pistachio saya akan memberikan ini dari kue yang indah untuk dinikmati dengan secangkir teh kakaw pecinta cokelat karamel ini harus dicoba dari satu satu masalah saya adalah saya tidak cukup mendinginkan saat memakan yuzu earl grey saya menemukan yuzu agak terlalu banyak saya lebih suka jika dicampur secara merata tidak terkonsentrasi di tengah kue ini adalah dari karena earl grey dan kue bolu itu sendiri cukup oke saya sarankan anda membuat rsvp dulu jika anda ingin makan di kakaw karena mereka memiliki meja yang sangat terbatas cokelat dengan rasa gram bailey benar benar surgawi kue dan cokelat luar biasa meskipun saya tidak tahu banyak tentang merek saya yakin produk mereka harus berbicara sendiri cake was very good taste slightly expensive but itu si still ok'"
            ],
            "application/vnd.google.colaboratory.intrinsic+json": {
              "type": "string"
            }
          },
          "metadata": {},
          "execution_count": 26
        }
      ]
    },
    {
      "cell_type": "markdown",
      "source": [
        "Kita akan membuat variable yang dimana berisi data text preprocessed"
      ],
      "metadata": {
        "id": "4dGB_Q1uhn-T"
      }
    },
    {
      "cell_type": "code",
      "source": [
        "text_reviews = data.text_preprocessed.apply(gensim.utils.simple_preprocess)\n",
        "text_reviews"
      ],
      "metadata": {
        "colab": {
          "base_uri": "https://localhost:8080/"
        },
        "id": "1rlL0SS6g7zg",
        "outputId": "488c5e5c-24cc-406f-a37b-d15bf84dd907"
      },
      "execution_count": null,
      "outputs": [
        {
          "output_type": "execute_result",
          "data": {
            "text/plain": [
              "0      [fine, chocolate, pattiserie, ini, tempat, tid...\n",
              "1      [kopi, enak, kental, dan, terasa, kopi, ada, b...\n",
              "2      [tempat, mungil, dengan, nuansa, berwarna, bir...\n",
              "3      [mie, yamin, manis, special, enak, sih, lebih,...\n",
              "4      [kulit, enak, crispy, terus, daging, juicy, bu...\n",
              "                             ...                        \n",
              "115    [resto, buffet, dengan, variasi, menu, mediter...\n",
              "116    [pas, banget, ada, special, occasion, memilih,...\n",
              "117    [punya, duit, lebih, pengin, makan, enak, deng...\n",
              "118    [restoran, yang, benar, benar, bonafit, dan, b...\n",
              "119    [untuk, view, di, sini, ok, ya, sudah, tidak, ...\n",
              "Name: text_preprocessed, Length: 120, dtype: object"
            ]
          },
          "metadata": {},
          "execution_count": 27
        }
      ]
    },
    {
      "cell_type": "markdown",
      "source": [
        "Selanjutnya kita akan membuat variable yang sama untuk clean stopword"
      ],
      "metadata": {
        "id": "2SZgOY3Rh1hN"
      }
    },
    {
      "cell_type": "code",
      "source": [
        "text_reviews_stopped = data['clean stopword'].apply(gensim.utils.simple_preprocess)\n",
        "text_reviews_stopped"
      ],
      "metadata": {
        "colab": {
          "base_uri": "https://localhost:8080/"
        },
        "id": "ZlGqG8wej88e",
        "outputId": "db8efbcc-0936-4f97-cf29-fff83a7e6691"
      },
      "execution_count": null,
      "outputs": [
        {
          "output_type": "execute_result",
          "data": {
            "text/plain": [
              "0      [fine, chocolate, pattiserie, interior, elegan...\n",
              "1      [kopi, kental, asa, kopi, varian, jenis, kopi,...\n",
              "2      [mungil, nuansa, warna, biru, lucu, nih, wifi,...\n",
              "3      [mie, yamin, manis, special, sih, manis, asin,...\n",
              "4      [kulit, crispy, daging, juicy, bumbu, resap, s...\n",
              "                             ...                        \n",
              "115    [resto, buffet, variasi, menu, mediterania, ch...\n",
              "116    [pas, banget, special, occasion, pilih, kesini...\n",
              "117    [duit, pengin, makan, bahan, bagus, pergi, res...\n",
              "118    [restoran, bonafit, butuh, rogoh, kantong, men...\n",
              "119    [view, ok, ragu, makan, restoran, lantai, gedu...\n",
              "Name: clean stopword, Length: 120, dtype: object"
            ]
          },
          "metadata": {},
          "execution_count": 28
        }
      ]
    },
    {
      "cell_type": "markdown",
      "source": [
        "Setelah melakukan pembuatan variable, kita akan melakukan modeling, pada model pertama ini saya akan melakukan pada text preprocessed"
      ],
      "metadata": {
        "id": "CQxClCyNiYLj"
      }
    },
    {
      "cell_type": "markdown",
      "source": [
        "## Model 1 (Kolom Text Preprocessed)"
      ],
      "metadata": {
        "id": "JNRUXTPrll6K"
      }
    },
    {
      "cell_type": "code",
      "source": [
        "# Model 1\n",
        "model = Word2Vec(\n",
        "    window=10,\n",
        "    min_count=2,\n",
        "    alpha=0.11,\n",
        "    seed=10\n",
        ")"
      ],
      "metadata": {
        "id": "Qt9wsEsaZnQp"
      },
      "execution_count": null,
      "outputs": []
    },
    {
      "cell_type": "markdown",
      "source": [
        "setelah melakukan deklarasi model, selanjutnya kita akan membuat vocabulary terhdap model yang telah kita buat sebelumnya"
      ],
      "metadata": {
        "id": "1qnnFTNzirAK"
      }
    },
    {
      "cell_type": "code",
      "source": [
        "model.build_vocab(text_reviews, progress_per=1000)"
      ],
      "metadata": {
        "id": "u6ke34lYfsak"
      },
      "execution_count": null,
      "outputs": []
    },
    {
      "cell_type": "markdown",
      "source": [
        "selanjutnya kita akan melakukan train model "
      ],
      "metadata": {
        "id": "DSlUjrSKi5vy"
      }
    },
    {
      "cell_type": "code",
      "source": [
        "model.train(text_reviews, total_examples=model.corpus_count, epochs=model.epochs)"
      ],
      "metadata": {
        "colab": {
          "base_uri": "https://localhost:8080/"
        },
        "id": "4ROiOF2ls3wJ",
        "outputId": "59fac8de-153b-4225-9e4e-5ee4ed961846"
      },
      "execution_count": null,
      "outputs": [
        {
          "output_type": "execute_result",
          "data": {
            "text/plain": [
              "(389241, 501205)"
            ]
          },
          "metadata": {},
          "execution_count": 31
        }
      ]
    },
    {
      "cell_type": "markdown",
      "source": [
        "bisa dilihat bahwa sekarang kita mempunyai 389241 baris dan 501205 kolom, selanjutnya kita akan melakukan test untuk melihat kata yang mirip"
      ],
      "metadata": {
        "id": "ezX3b2vZjy_r"
      }
    },
    {
      "cell_type": "code",
      "source": [
        "# melihat kata yang mirip dengan input nyaman\n",
        "model.wv.most_similar(\"nyaman\")"
      ],
      "metadata": {
        "colab": {
          "base_uri": "https://localhost:8080/"
        },
        "id": "LCRCCGoMs7fW",
        "outputId": "ab815f95-2b36-4717-b23f-0fb4ff6e39bd"
      },
      "execution_count": null,
      "outputs": [
        {
          "output_type": "execute_result",
          "data": {
            "text/plain": [
              "[('kencang', 0.8253276944160461),\n",
              " ('bersih', 0.7870105504989624),\n",
              " ('uasana', 0.7792046070098877),\n",
              " ('bersantai', 0.7759014964103699),\n",
              " ('wifi', 0.7741808295249939),\n",
              " ('milenial', 0.7697960138320923),\n",
              " ('bersahabat', 0.7688792943954468),\n",
              " ('suasana', 0.7683870196342468),\n",
              " ('asik', 0.762578010559082),\n",
              " ('nuansa', 0.758955717086792)]"
            ]
          },
          "metadata": {},
          "execution_count": 32
        }
      ]
    },
    {
      "cell_type": "code",
      "source": [
        "# melihat kata yang mirip dengan input bersih\n",
        "model.wv.most_similar(\"bersih\")"
      ],
      "metadata": {
        "colab": {
          "base_uri": "https://localhost:8080/"
        },
        "id": "OnwgnmU4ol8I",
        "outputId": "333eb65b-9b7a-4755-a9f5-da2207ba8bff"
      },
      "execution_count": null,
      "outputs": [
        {
          "output_type": "execute_result",
          "data": {
            "text/plain": [
              "[('tara', 0.8065559267997742),\n",
              " ('toilet', 0.7526020407676697),\n",
              " ('musholla', 0.7516943216323853),\n",
              " ('nyaman', 0.747830867767334),\n",
              " ('betawi', 0.7321799993515015),\n",
              " ('panggil', 0.7260919809341431),\n",
              " ('luas', 0.7138822078704834),\n",
              " ('standard', 0.7049236297607422),\n",
              " ('pulen', 0.7043648958206177),\n",
              " ('muas', 0.7042155861854553)]"
            ]
          },
          "metadata": {},
          "execution_count": 64
        }
      ]
    },
    {
      "cell_type": "code",
      "source": [
        "# melihat kata yang mirip dengan input makan\n",
        "model.wv.most_similar(\"makan\")"
      ],
      "metadata": {
        "colab": {
          "base_uri": "https://localhost:8080/"
        },
        "id": "XCEajqmlpISp",
        "outputId": "ff518648-aa68-4cf3-f384-7ec8c18044c8"
      },
      "execution_count": null,
      "outputs": [
        {
          "output_type": "execute_result",
          "data": {
            "text/plain": [
              "[('muas', 0.7890970706939697),\n",
              " ('kelas', 0.7784923315048218),\n",
              " ('angat', 0.7750717401504517),\n",
              " ('sahabat', 0.7527090311050415),\n",
              " ('rapi', 0.7330254912376404),\n",
              " ('menu', 0.6926369667053223),\n",
              " ('ubah', 0.6902210712432861),\n",
              " ('mahal', 0.6784374713897705),\n",
              " ('servis', 0.6766967177391052),\n",
              " ('somehow', 0.6657439470291138)]"
            ]
          },
          "metadata": {},
          "execution_count": 67
        }
      ]
    },
    {
      "cell_type": "code",
      "source": [
        "# Melihat nilai kemiripan antara 2 kata \n",
        "model.wv.similarity(w1=\"makan\", w2=\"rokok\")"
      ],
      "metadata": {
        "colab": {
          "base_uri": "https://localhost:8080/"
        },
        "id": "OvrwjljMtGqb",
        "outputId": "f197c079-c663-410e-effd-5e3318db9579"
      },
      "execution_count": null,
      "outputs": [
        {
          "output_type": "execute_result",
          "data": {
            "text/plain": [
              "-0.09020986"
            ]
          },
          "metadata": {},
          "execution_count": 68
        }
      ]
    },
    {
      "cell_type": "markdown",
      "source": [
        "Setelah kita melakukan pengecekan:\n",
        "* terdapat kata kencang yang mempunyai nilai kemiripan tinggi terhadap kata nyaman\n",
        "* terdapat kata yang terpotong yaitu uasana ini dapat membuat model menjadi kurang baik\n",
        "* kita dapat melihat nilai kemiripan makan dan rokok mempunyai nilai kemiripan yang kecil yaitu -0.09 yang artinya 2 kata ini hampir tidak mempunyai kemiripan"
      ],
      "metadata": {
        "id": "7TsfeB5zlLys"
      }
    },
    {
      "cell_type": "markdown",
      "source": [
        "## Model 2 (Kolom Clean Stopword)"
      ],
      "metadata": {
        "id": "lYV5redss8tt"
      }
    },
    {
      "cell_type": "markdown",
      "source": [
        "Kita akan membuat model kedua yaitu menggunakan vobulary berdasarkan kolom Clean Stopword"
      ],
      "metadata": {
        "id": "frdXR-34m_kf"
      }
    },
    {
      "cell_type": "code",
      "source": [
        "# Model 2\n",
        "model_2 = Word2Vec(\n",
        "    window=10,\n",
        "    min_count=2,\n",
        "    alpha=0.15,\n",
        "    seed=10\n",
        ")"
      ],
      "metadata": {
        "id": "JSQ1keNmsvi-"
      },
      "execution_count": null,
      "outputs": []
    },
    {
      "cell_type": "markdown",
      "source": [
        "Selanjutnya membuat vocabulary untuk model 2"
      ],
      "metadata": {
        "id": "_V2qPdzjoaOM"
      }
    },
    {
      "cell_type": "code",
      "source": [
        "model_2.build_vocab(text_reviews_stopped, progress_per=1000)"
      ],
      "metadata": {
        "id": "YI_TtNi7kKp5"
      },
      "execution_count": null,
      "outputs": []
    },
    {
      "cell_type": "markdown",
      "source": [
        "Melakukan train terhadap model 2"
      ],
      "metadata": {
        "id": "OsLwfm_VofsM"
      }
    },
    {
      "cell_type": "code",
      "source": [
        "model_2.train(text_reviews_stopped, total_examples=model_2.corpus_count, epochs=model_2.epochs)"
      ],
      "metadata": {
        "colab": {
          "base_uri": "https://localhost:8080/"
        },
        "id": "ZxYIa6-IkbjL",
        "outputId": "7f616470-9cfb-45de-abd3-2ecc2212fdf2"
      },
      "execution_count": null,
      "outputs": [
        {
          "output_type": "execute_result",
          "data": {
            "text/plain": [
              "(242047, 294075)"
            ]
          },
          "metadata": {},
          "execution_count": 36
        }
      ]
    },
    {
      "cell_type": "markdown",
      "source": [
        "Setelah melakukan train kita akan melakukan pengecekan model untuk melihat kemiripan kata"
      ],
      "metadata": {
        "id": "xZmOgjv3oiVB"
      }
    },
    {
      "cell_type": "code",
      "source": [
        "# Melihat kemiripan kata dengan input nyaman\n",
        "model_2.wv.most_similar(\"nyaman\")"
      ],
      "metadata": {
        "colab": {
          "base_uri": "https://localhost:8080/"
        },
        "id": "EMhCo4MIkzZD",
        "outputId": "000117ec-f88a-4db2-8b5c-1addaf70ad8e"
      },
      "execution_count": null,
      "outputs": [
        {
          "output_type": "execute_result",
          "data": {
            "text/plain": [
              "[('uasana', 0.8356294631958008),\n",
              " ('musholla', 0.8024208545684814),\n",
              " ('adem', 0.8016148805618286),\n",
              " ('cocktail', 0.7963314652442932),\n",
              " ('mushola', 0.7810099124908447),\n",
              " ('playground', 0.7726098299026489),\n",
              " ('standart', 0.7695059180259705),\n",
              " ('tenang', 0.7495336532592773),\n",
              " ('bersih', 0.7478308081626892),\n",
              " ('homey', 0.744676947593689)]"
            ]
          },
          "metadata": {},
          "execution_count": 74
        }
      ]
    },
    {
      "cell_type": "code",
      "source": [
        "# Melihat kemiripan kata dengan input bersih\n",
        "model_2.wv.most_similar(\"bersih\")"
      ],
      "metadata": {
        "colab": {
          "base_uri": "https://localhost:8080/"
        },
        "id": "tkp_DbDZo-P3",
        "outputId": "ac2f7e8d-a50a-4299-bc55-eafafaac7d68"
      },
      "execution_count": null,
      "outputs": [
        {
          "output_type": "execute_result",
          "data": {
            "text/plain": [
              "[('tara', 0.8065559267997742),\n",
              " ('toilet', 0.7526020407676697),\n",
              " ('musholla', 0.7516943216323853),\n",
              " ('nyaman', 0.747830867767334),\n",
              " ('betawi', 0.7321799993515015),\n",
              " ('panggil', 0.7260919809341431),\n",
              " ('luas', 0.7138822078704834),\n",
              " ('standard', 0.7049236297607422),\n",
              " ('pulen', 0.7043648958206177),\n",
              " ('muas', 0.7042155861854553)]"
            ]
          },
          "metadata": {},
          "execution_count": 66
        }
      ]
    },
    {
      "cell_type": "code",
      "source": [
        "# Melihat kemiripan kata dengan input makan\n",
        "model_2.wv.most_similar(\"makan\")"
      ],
      "metadata": {
        "colab": {
          "base_uri": "https://localhost:8080/"
        },
        "id": "VN5nc2VNppuO",
        "outputId": "f66c43ba-708c-4c19-edd7-8fae10a39108"
      },
      "execution_count": null,
      "outputs": [
        {
          "output_type": "execute_result",
          "data": {
            "text/plain": [
              "[('muas', 0.7890970706939697),\n",
              " ('kelas', 0.7784923315048218),\n",
              " ('angat', 0.7750717401504517),\n",
              " ('sahabat', 0.7527090311050415),\n",
              " ('rapi', 0.7330254912376404),\n",
              " ('menu', 0.6926369667053223),\n",
              " ('ubah', 0.6902210712432861),\n",
              " ('mahal', 0.6784374713897705),\n",
              " ('servis', 0.6766967177391052),\n",
              " ('somehow', 0.6657439470291138)]"
            ]
          },
          "metadata": {},
          "execution_count": 73
        }
      ]
    },
    {
      "cell_type": "code",
      "source": [
        "model_2.wv.similarity(w1=\"makan\", w2=\"rokok\")"
      ],
      "metadata": {
        "colab": {
          "base_uri": "https://localhost:8080/"
        },
        "id": "wPjAHx5TtxxZ",
        "outputId": "eda1c92d-e99b-408b-ac9f-85a28cff472d"
      },
      "execution_count": null,
      "outputs": [
        {
          "output_type": "execute_result",
          "data": {
            "text/plain": [
              "-0.09020986"
            ]
          },
          "metadata": {},
          "execution_count": 38
        }
      ]
    },
    {
      "cell_type": "markdown",
      "source": [
        "Setelah melakukan pengecekan :\n",
        "* Kita bisa melihat bahwa saat menggunakan kata nyaman yang muncul dengan nilai kemiripan tertinggi adalah kata uasana.\n",
        "* Setelah melakukan input dnegan kata bersih kita bisa melihat bahwa kata `tara` mempunyai nilai kemiripan tertinggi dengan kata bersih\n",
        "* kita bisa melihat bahwa makan dan rokok mempunyai nilai yang kecil"
      ],
      "metadata": {
        "id": "PtibSBsmp2y5"
      }
    },
    {
      "cell_type": "code",
      "source": [
        "# Function Uji Coba\n",
        "def testing_similar(text):\n",
        "  res_1 = model.most_similar(text)\n",
        "  res_2 = model_2.most_similar(text)\n",
        "  print('Hasil Model 1 :',res_1)\n",
        "  print('Hasil Model 2 :',res_2)"
      ],
      "metadata": {
        "id": "o_mbrCuTqmPh"
      },
      "execution_count": null,
      "outputs": []
    },
    {
      "cell_type": "code",
      "source": [
        "testing_similar(\"makan\")"
      ],
      "metadata": {
        "colab": {
          "base_uri": "https://localhost:8080/"
        },
        "id": "ZExTVoFirPW7",
        "outputId": "1edb01e3-6abd-47ed-a6e9-c53efb5d0faf"
      },
      "execution_count": null,
      "outputs": [
        {
          "output_type": "stream",
          "name": "stdout",
          "text": [
            "Hasil Model 1 : [('muas', 0.7890970706939697), ('kelas', 0.7784923315048218), ('angat', 0.7750717401504517), ('sahabat', 0.7527090311050415), ('rapi', 0.7330254912376404), ('menu', 0.6926369667053223), ('ubah', 0.6902210712432861), ('mahal', 0.6784374713897705), ('servis', 0.6766967177391052), ('somehow', 0.6657439470291138)]\n",
            "Hasil Model 2 : [('muas', 0.7890970706939697), ('kelas', 0.7784923315048218), ('angat', 0.7750717401504517), ('sahabat', 0.7527090311050415), ('rapi', 0.7330254912376404), ('menu', 0.6926369667053223), ('ubah', 0.6902210712432861), ('mahal', 0.6784374713897705), ('servis', 0.6766967177391052), ('somehow', 0.6657439470291138)]\n"
          ]
        }
      ]
    },
    {
      "cell_type": "markdown",
      "source": [
        "**Evaluation**"
      ],
      "metadata": {
        "id": "B7wREio7uSHU"
      }
    },
    {
      "cell_type": "markdown",
      "source": [
        "Berdsarkan hasil dari uji coba :      \n",
        "* Nilai similar atau kemiripan setiap kata di Model 1, terbilang kecil jika kita bandingkan dengan Model 2\n",
        "* Kata yang menjadi kemiripan juga \n",
        "* Berdasarkan hasi diatas saya akan menggunakanModel 2 untuk Project ini"
      ],
      "metadata": {
        "id": "f7tvo1LfuZPj"
      }
    },
    {
      "cell_type": "markdown",
      "source": [
        "# **MODEL SIMULATION**"
      ],
      "metadata": {
        "id": "IvGM1Kdun-pJ"
      }
    },
    {
      "cell_type": "markdown",
      "source": [
        "Kita akan melakukan simulasi model untuk percobaan sebelum melakukan deployment ke frontend, simulasi ini bertujuan untuk mempermudah pembuatan interface terhadapa pembutan frontend."
      ],
      "metadata": {
        "id": "_qj4Hq2Zvv6o"
      }
    },
    {
      "cell_type": "markdown",
      "source": [
        "Kita akan membuat function terlebih dahulu, function ini bertujuan untuk melakukan input text terhadap customer."
      ],
      "metadata": {
        "id": "2eQK-pLuxZk_"
      }
    },
    {
      "cell_type": "code",
      "source": [
        "def input_text(text1, text2, text3):\n",
        "  list_new =[]\n",
        "  count_word_1 = []\n",
        "  count_word_2 = []\n",
        "  count_word_3 = []\n",
        "  count_word_4 = []\n",
        "  count_word_5 = []\n",
        "  count_word_6 = []\n",
        "  count_word_7 = []\n",
        "  count_word_8 = []\n",
        "  count_word_9 = []\n",
        "  count_word_10 = []\n",
        "  count_word_11 = []\n",
        "  count_word_12 = []\n",
        "  count_word_13 = []\n",
        "  count_word_14 = []\n",
        "  count_word_15 = []\n",
        "\n",
        "  try:\n",
        "    # Jika bisa semuanya\n",
        "    res_1 = model_2.most_similar(text1)[0:5]   \n",
        "    res_2 = model_2.most_similar(text2)[0:5]\n",
        "    res_3 = model_2.most_similar(text3)[0:5]\n",
        "    df_res_1 = pd.DataFrame(res_1)\n",
        "    df_res_2 = pd.DataFrame(res_2)\n",
        "    df_res_3 = pd.DataFrame(res_3)\n",
        "    df_result_1 = pd.concat([df_res_1, df_res_2, df_res_3], axis=0).reset_index(drop=True)\n",
        "    for item in df_result_1[0].unique():\n",
        "      list_new.append(item)\n",
        "    for i in range(len(data)):\n",
        "      count_word_1.append(data['clean stopword'][i].count(list_new[0]))\n",
        "      count_word_2.append(data['clean stopword'][i].count(list_new[1]))\n",
        "      count_word_3.append(data['clean stopword'][i].count(list_new[2]))\n",
        "      count_word_4.append(data['clean stopword'][i].count(list_new[3]))\n",
        "      count_word_5.append(data['clean stopword'][i].count(list_new[4]))\n",
        "      count_word_6.append(data['clean stopword'][i].count(list_new[5]))\n",
        "      count_word_7.append(data['clean stopword'][i].count(list_new[6]))\n",
        "      count_word_8.append(data['clean stopword'][i].count(list_new[7]))\n",
        "      count_word_9.append(data['clean stopword'][i].count(list_new[8]))\n",
        "      count_word_10.append(data['clean stopword'][i].count(list_new[9]))\n",
        "      count_word_11.append(data['clean stopword'][i].count(list_new[10]))\n",
        "      count_word_12.append(data['clean stopword'][i].count(list_new[11]))\n",
        "      count_word_13.append(data['clean stopword'][i].count(list_new[12]))\n",
        "      count_word_14.append(data['clean stopword'][i].count(list_new[13]))\n",
        "      count_word_15.append(data['clean stopword'][i].count(list_new[14]))\n",
        "    data['count_word_1'] = count_word_1\n",
        "    data['count_word_2'] = count_word_2\n",
        "    data['count_word_3'] = count_word_3\n",
        "    data['count_word_4'] = count_word_4\n",
        "    data['count_word_5'] = count_word_5\n",
        "    data['count_word_6'] = count_word_6\n",
        "    data['count_word_7'] = count_word_7\n",
        "    data['count_word_8'] = count_word_8\n",
        "    data['count_word_9'] = count_word_9\n",
        "    data['count_word_10'] = count_word_10\n",
        "    data['count_word_11'] = count_word_11\n",
        "    data['count_word_12'] = count_word_12\n",
        "    data['count_word_13'] = count_word_13\n",
        "    data['count_word_14'] = count_word_14\n",
        "    data['count_word_15'] = count_word_15\n",
        "    data['sum_count_word'] = data.iloc[:,11:25].sum(axis=1)\n",
        "    data_1 = data[data.sum_count_word != 0]\n",
        "    data_1 = data_1.sort_values(\"sum_count_word\", ascending=False)[['Nama Restaurant','Tipe_1', 'Rating', 'Price', 'Daerah', 'sum_count_word']]\n",
        "    return data_1\n",
        "\n",
        "  except:\n",
        "    try:\n",
        "      # Hanya res 2 dan res 3\n",
        "      res_2 = model_2.most_similar(text2)[0:5]\n",
        "      res_3 = model_2.most_similar(text3)[0:5]\n",
        "      df_res_2 = pd.DataFrame(res_2)\n",
        "      df_res_3 = pd.DataFrame(res_3)\n",
        "      df_result_2 = pd.concat([df_res_2, df_res_3], axis=0).reset_index(drop=True)\n",
        "      for item in df_result_2[0].unique():\n",
        "        list_new.append(item)\n",
        "      for i in range(len(data)):\n",
        "        count_word_1.append(data['clean stopword'][i].count(list_new[0]))\n",
        "        count_word_2.append(data['clean stopword'][i].count(list_new[1]))\n",
        "        count_word_3.append(data['clean stopword'][i].count(list_new[2]))\n",
        "        count_word_4.append(data['clean stopword'][i].count(list_new[3]))\n",
        "        count_word_5.append(data['clean stopword'][i].count(list_new[4]))\n",
        "        count_word_6.append(data['clean stopword'][i].count(list_new[5]))\n",
        "        count_word_7.append(data['clean stopword'][i].count(list_new[6]))\n",
        "        count_word_8.append(data['clean stopword'][i].count(list_new[7]))\n",
        "        count_word_9.append(data['clean stopword'][i].count(list_new[8]))\n",
        "        count_word_10.append(data['clean stopword'][i].count(list_new[9]))\n",
        "      data['count_word_1'] = count_word_1\n",
        "      data['count_word_2'] = count_word_2\n",
        "      data['count_word_3'] = count_word_3\n",
        "      data['count_word_4'] = count_word_4\n",
        "      data['count_word_5'] = count_word_5\n",
        "      data['count_word_6'] = count_word_6\n",
        "      data['count_word_7'] = count_word_7\n",
        "      data['count_word_8'] = count_word_8\n",
        "      data['count_word_9'] = count_word_9\n",
        "      data['count_word_10'] = count_word_10\n",
        "      data['sum_count_word'] = data.iloc[:,11:20].sum(axis=1)\n",
        "      data_2 = data[data.sum_count_word != 0]\n",
        "      data_2 = data_2.sort_values(\"sum_count_word\", ascending=False)[['Nama Restaurant','Tipe_1', 'Rating', 'Price', 'Daerah', 'sum_count_word']]\n",
        "      return data_2\n",
        "\n",
        "    except:\n",
        "      try:\n",
        "        # Hanya res 3 \n",
        "        res_3 = model_2.most_similar(text3)[0:5]\n",
        "        df_result_3 = pd.DataFrame(res_3).reset_index(drop=True)\n",
        "        for item in df_result_3[0].unique():\n",
        "          list_new.append(item)\n",
        "        for i in range(len(data)):\n",
        "          count_word_1.append(data['clean stopword'][i].count(list_new[0]))\n",
        "          count_word_2.append(data['clean stopword'][i].count(list_new[1]))\n",
        "          count_word_3.append(data['clean stopword'][i].count(list_new[2]))\n",
        "          count_word_4.append(data['clean stopword'][i].count(list_new[3]))\n",
        "          count_word_5.append(data['clean stopword'][i].count(list_new[4]))\n",
        "        data['count_word_1'] = count_word_1\n",
        "        data['count_word_2'] = count_word_2\n",
        "        data['count_word_3'] = count_word_3\n",
        "        data['count_word_4'] = count_word_4\n",
        "        data['count_word_5'] = count_word_5\n",
        "        data['sum_count_word'] = data.iloc[:,11:15].sum(axis=1)\n",
        "        data_3 = data[data.sum_count_word != 0]\n",
        "        data_3 = data_3.sort_values(\"sum_count_word\", ascending=False)[['Nama Restaurant','Tipe_1', 'Rating', 'Price', 'Daerah', 'sum_count_word']]\n",
        "        return data_3\n",
        "\n",
        "      except :\n",
        "        try:\n",
        "          # Hanya res 1 dan res 2\n",
        "          res_1 = model_2.most_similar(text1)[0:5]\n",
        "          res_2 = model_2.most_similar(text2)[0:5]\n",
        "          df_res_1 = pd.DataFrame(res_1)\n",
        "          df_res_2 = pd.DataFrame(res_2)\n",
        "          df_result_4 = pd.concat([df_res_1, df_res_2], axis=0).reset_index(drop=True)\n",
        "          for item in df_result_4[0].unique():\n",
        "            list_new.append(item)\n",
        "          for i in range(len(data)):\n",
        "            count_word_1.append(data['clean stopword'][i].count(list_new[0]))\n",
        "            count_word_2.append(data['clean stopword'][i].count(list_new[1]))\n",
        "            count_word_3.append(data['clean stopword'][i].count(list_new[2]))\n",
        "            count_word_4.append(data['clean stopword'][i].count(list_new[3]))\n",
        "            count_word_5.append(data['clean stopword'][i].count(list_new[4]))\n",
        "            count_word_6.append(data['clean stopword'][i].count(list_new[5]))\n",
        "            count_word_7.append(data['clean stopword'][i].count(list_new[6]))\n",
        "            count_word_8.append(data['clean stopword'][i].count(list_new[7]))\n",
        "            count_word_9.append(data['clean stopword'][i].count(list_new[8]))\n",
        "            count_word_10.append(data['clean stopword'][i].count(list_new[9]))\n",
        "          data['count_word_1'] = count_word_1\n",
        "          data['count_word_2'] = count_word_2\n",
        "          data['count_word_3'] = count_word_3\n",
        "          data['count_word_4'] = count_word_4\n",
        "          data['count_word_5'] = count_word_5\n",
        "          data['count_word_6'] = count_word_6\n",
        "          data['count_word_7'] = count_word_7\n",
        "          data['count_word_8'] = count_word_8\n",
        "          data['count_word_9'] = count_word_9\n",
        "          data['count_word_10'] = count_word_10\n",
        "          data['sum_count_word'] = data.iloc[:,11:20].sum(axis=1)\n",
        "          data_4 = data[data.sum_count_word != 0]\n",
        "          data_4 = data_4.sort_values(\"sum_count_word\", ascending=False)[['Nama Restaurant','Tipe_1', 'Rating', 'Price', 'Daerah', 'sum_count_word']]\n",
        "          return data_4\n",
        "\n",
        "        except:\n",
        "          try:\n",
        "            # Hanya res 2 \n",
        "            res_2 = model_2.most_similar(text2)[0:5]\n",
        "            df_res_2 = pd.DataFrame(res_2)\n",
        "            df_result_5 = df_res_2.reset_index(drop=True)\n",
        "            for item in df_result_5[0].unique():\n",
        "              list_new.append(item)\n",
        "            for i in range(len(data)):\n",
        "              count_word_1.append(data['clean stopword'][i].count(list_new[0]))\n",
        "              count_word_2.append(data['clean stopword'][i].count(list_new[1]))\n",
        "              count_word_3.append(data['clean stopword'][i].count(list_new[2]))\n",
        "              count_word_4.append(data['clean stopword'][i].count(list_new[3]))\n",
        "              count_word_5.append(data['clean stopword'][i].count(list_new[4]))\n",
        "            data['count_word_1'] = count_word_1\n",
        "            data['count_word_2'] = count_word_2\n",
        "            data['count_word_3'] = count_word_3\n",
        "            data['count_word_4'] = count_word_4\n",
        "            data['count_word_5'] = count_word_5\n",
        "            data['sum_count_word'] = data.iloc[:,11:15].sum(axis=1)\n",
        "            data_5 = data[data.sum_count_word != 0]\n",
        "            data_5 = data_5.sort_values(\"sum_count_word\", ascending=False)[['Nama Restaurant','Tipe_1', 'Rating', 'Price', 'Daerah', 'sum_count_word']]\n",
        "            return data_5\n",
        "\n",
        "          except:\n",
        "            try:\n",
        "              # Hanya res 1\n",
        "              res_1 = model_2.most_similar(text1)[0:5]\n",
        "              df_res_1 = pd.DataFrame(res_1)\n",
        "              df_result_6 = df_res_1.reset_index(drop=True)\n",
        "              for item in df_result_6[0].unique():\n",
        "                list_new.append(item)\n",
        "              for i in range(len(data)):\n",
        "                count_word_1.append(data['clean stopword'][i].count(list_new[0]))\n",
        "                count_word_2.append(data['clean stopword'][i].count(list_new[1]))\n",
        "                count_word_3.append(data['clean stopword'][i].count(list_new[2]))\n",
        "                count_word_4.append(data['clean stopword'][i].count(list_new[3]))\n",
        "                count_word_5.append(data['clean stopword'][i].count(list_new[4]))\n",
        "              data['count_word_1'] = count_word_1\n",
        "              data['count_word_2'] = count_word_2\n",
        "              data['count_word_3'] = count_word_3\n",
        "              data['count_word_4'] = count_word_4\n",
        "              data['count_word_5'] = count_word_5\n",
        "              data['sum_count_word'] = data.iloc[:,11:15].sum(axis=1)\n",
        "              data_6 = data[data.sum_count_word != 0]\n",
        "              data_6 = data_6.sort_values(\"sum_count_word\", ascending=False)[['Nama Restaurant','Tipe_1', 'Rating', 'Price', 'Daerah', 'sum_count_word']]\n",
        "              return data_6\n",
        "\n",
        "            except:\n",
        "              print(\"Maaf Keyword Tidak ditemukan\")"
      ],
      "metadata": {
        "id": "a6JDzSRehzbC"
      },
      "execution_count": null,
      "outputs": []
    },
    {
      "cell_type": "markdown",
      "source": [
        "Setelah melakukan pembuatan function, kita akan melakukan uji coba untuk melihat bagaimana function dan modek ini bekerja."
      ],
      "metadata": {
        "id": "KmbO6CXDxu2J"
      }
    },
    {
      "cell_type": "markdown",
      "source": [
        "Memasukan 3 input benar"
      ],
      "metadata": {
        "id": "GnNY4Knnx9Nn"
      }
    },
    {
      "cell_type": "code",
      "source": [
        "hasil_1 = input_text(\"nyaman\", \"cozy\", \"makan\")\n",
        "hasil_1.head()"
      ],
      "metadata": {
        "colab": {
          "base_uri": "https://localhost:8080/",
          "height": 206
        },
        "id": "aLu5QGPliL7V",
        "outputId": "ee3773b9-97e4-4311-dc89-c45aafeff77a"
      },
      "execution_count": null,
      "outputs": [
        {
          "output_type": "execute_result",
          "data": {
            "text/plain": [
              "       Nama Restaurant     Tipe_1  Rating   Price  \\\n",
              "77         Beer Garden      Itali     4.1  150000   \n",
              "88  Kokonut & Curtains       Kafe     4.3  175000   \n",
              "29       Warung Fotkop       Kafe     3.9   40000   \n",
              "82           Brew & Co  Indonesia     3.5  150000   \n",
              "43        Bunna Coffee       Kopi     3.7   50000   \n",
              "\n",
              "                                      Daerah  sum_count_word  \n",
              "77                             SCBD, Jakarta              22  \n",
              "88                          Senayan, Jakarta              21  \n",
              "29                        Fatmawati, Jakarta              19  \n",
              "82  Cilandak Town Square, Fatmawati, Jakarta              15  \n",
              "43                         Senopati, Jakarta              15  "
            ],
            "text/html": [
              "\n",
              "  <div id=\"df-ba4930a6-cd38-4644-a7e4-c3f67c5476ce\">\n",
              "    <div class=\"colab-df-container\">\n",
              "      <div>\n",
              "<style scoped>\n",
              "    .dataframe tbody tr th:only-of-type {\n",
              "        vertical-align: middle;\n",
              "    }\n",
              "\n",
              "    .dataframe tbody tr th {\n",
              "        vertical-align: top;\n",
              "    }\n",
              "\n",
              "    .dataframe thead th {\n",
              "        text-align: right;\n",
              "    }\n",
              "</style>\n",
              "<table border=\"1\" class=\"dataframe\">\n",
              "  <thead>\n",
              "    <tr style=\"text-align: right;\">\n",
              "      <th></th>\n",
              "      <th>Nama Restaurant</th>\n",
              "      <th>Tipe_1</th>\n",
              "      <th>Rating</th>\n",
              "      <th>Price</th>\n",
              "      <th>Daerah</th>\n",
              "      <th>sum_count_word</th>\n",
              "    </tr>\n",
              "  </thead>\n",
              "  <tbody>\n",
              "    <tr>\n",
              "      <th>77</th>\n",
              "      <td>Beer Garden</td>\n",
              "      <td>Itali</td>\n",
              "      <td>4.1</td>\n",
              "      <td>150000</td>\n",
              "      <td>SCBD, Jakarta</td>\n",
              "      <td>22</td>\n",
              "    </tr>\n",
              "    <tr>\n",
              "      <th>88</th>\n",
              "      <td>Kokonut &amp; Curtains</td>\n",
              "      <td>Kafe</td>\n",
              "      <td>4.3</td>\n",
              "      <td>175000</td>\n",
              "      <td>Senayan, Jakarta</td>\n",
              "      <td>21</td>\n",
              "    </tr>\n",
              "    <tr>\n",
              "      <th>29</th>\n",
              "      <td>Warung Fotkop</td>\n",
              "      <td>Kafe</td>\n",
              "      <td>3.9</td>\n",
              "      <td>40000</td>\n",
              "      <td>Fatmawati, Jakarta</td>\n",
              "      <td>19</td>\n",
              "    </tr>\n",
              "    <tr>\n",
              "      <th>82</th>\n",
              "      <td>Brew &amp; Co</td>\n",
              "      <td>Indonesia</td>\n",
              "      <td>3.5</td>\n",
              "      <td>150000</td>\n",
              "      <td>Cilandak Town Square, Fatmawati, Jakarta</td>\n",
              "      <td>15</td>\n",
              "    </tr>\n",
              "    <tr>\n",
              "      <th>43</th>\n",
              "      <td>Bunna Coffee</td>\n",
              "      <td>Kopi</td>\n",
              "      <td>3.7</td>\n",
              "      <td>50000</td>\n",
              "      <td>Senopati, Jakarta</td>\n",
              "      <td>15</td>\n",
              "    </tr>\n",
              "  </tbody>\n",
              "</table>\n",
              "</div>\n",
              "      <button class=\"colab-df-convert\" onclick=\"convertToInteractive('df-ba4930a6-cd38-4644-a7e4-c3f67c5476ce')\"\n",
              "              title=\"Convert this dataframe to an interactive table.\"\n",
              "              style=\"display:none;\">\n",
              "        \n",
              "  <svg xmlns=\"http://www.w3.org/2000/svg\" height=\"24px\"viewBox=\"0 0 24 24\"\n",
              "       width=\"24px\">\n",
              "    <path d=\"M0 0h24v24H0V0z\" fill=\"none\"/>\n",
              "    <path d=\"M18.56 5.44l.94 2.06.94-2.06 2.06-.94-2.06-.94-.94-2.06-.94 2.06-2.06.94zm-11 1L8.5 8.5l.94-2.06 2.06-.94-2.06-.94L8.5 2.5l-.94 2.06-2.06.94zm10 10l.94 2.06.94-2.06 2.06-.94-2.06-.94-.94-2.06-.94 2.06-2.06.94z\"/><path d=\"M17.41 7.96l-1.37-1.37c-.4-.4-.92-.59-1.43-.59-.52 0-1.04.2-1.43.59L10.3 9.45l-7.72 7.72c-.78.78-.78 2.05 0 2.83L4 21.41c.39.39.9.59 1.41.59.51 0 1.02-.2 1.41-.59l7.78-7.78 2.81-2.81c.8-.78.8-2.07 0-2.86zM5.41 20L4 18.59l7.72-7.72 1.47 1.35L5.41 20z\"/>\n",
              "  </svg>\n",
              "      </button>\n",
              "      \n",
              "  <style>\n",
              "    .colab-df-container {\n",
              "      display:flex;\n",
              "      flex-wrap:wrap;\n",
              "      gap: 12px;\n",
              "    }\n",
              "\n",
              "    .colab-df-convert {\n",
              "      background-color: #E8F0FE;\n",
              "      border: none;\n",
              "      border-radius: 50%;\n",
              "      cursor: pointer;\n",
              "      display: none;\n",
              "      fill: #1967D2;\n",
              "      height: 32px;\n",
              "      padding: 0 0 0 0;\n",
              "      width: 32px;\n",
              "    }\n",
              "\n",
              "    .colab-df-convert:hover {\n",
              "      background-color: #E2EBFA;\n",
              "      box-shadow: 0px 1px 2px rgba(60, 64, 67, 0.3), 0px 1px 3px 1px rgba(60, 64, 67, 0.15);\n",
              "      fill: #174EA6;\n",
              "    }\n",
              "\n",
              "    [theme=dark] .colab-df-convert {\n",
              "      background-color: #3B4455;\n",
              "      fill: #D2E3FC;\n",
              "    }\n",
              "\n",
              "    [theme=dark] .colab-df-convert:hover {\n",
              "      background-color: #434B5C;\n",
              "      box-shadow: 0px 1px 3px 1px rgba(0, 0, 0, 0.15);\n",
              "      filter: drop-shadow(0px 1px 2px rgba(0, 0, 0, 0.3));\n",
              "      fill: #FFFFFF;\n",
              "    }\n",
              "  </style>\n",
              "\n",
              "      <script>\n",
              "        const buttonEl =\n",
              "          document.querySelector('#df-ba4930a6-cd38-4644-a7e4-c3f67c5476ce button.colab-df-convert');\n",
              "        buttonEl.style.display =\n",
              "          google.colab.kernel.accessAllowed ? 'block' : 'none';\n",
              "\n",
              "        async function convertToInteractive(key) {\n",
              "          const element = document.querySelector('#df-ba4930a6-cd38-4644-a7e4-c3f67c5476ce');\n",
              "          const dataTable =\n",
              "            await google.colab.kernel.invokeFunction('convertToInteractive',\n",
              "                                                     [key], {});\n",
              "          if (!dataTable) return;\n",
              "\n",
              "          const docLinkHtml = 'Like what you see? Visit the ' +\n",
              "            '<a target=\"_blank\" href=https://colab.research.google.com/notebooks/data_table.ipynb>data table notebook</a>'\n",
              "            + ' to learn more about interactive tables.';\n",
              "          element.innerHTML = '';\n",
              "          dataTable['output_type'] = 'display_data';\n",
              "          await google.colab.output.renderOutput(dataTable, element);\n",
              "          const docLink = document.createElement('div');\n",
              "          docLink.innerHTML = docLinkHtml;\n",
              "          element.appendChild(docLink);\n",
              "        }\n",
              "      </script>\n",
              "    </div>\n",
              "  </div>\n",
              "  "
            ]
          },
          "metadata": {},
          "execution_count": 85
        }
      ]
    },
    {
      "cell_type": "markdown",
      "source": [
        "Hanya input 2 dan 3 yang benar"
      ],
      "metadata": {
        "id": "kl8sZF38yXBa"
      }
    },
    {
      "cell_type": "code",
      "source": [
        "hasil_2 = input_text(\"nydsvavds\", \"cozy\", \"makan\")\n",
        "hasil_2.head()"
      ],
      "metadata": {
        "colab": {
          "base_uri": "https://localhost:8080/",
          "height": 206
        },
        "id": "NCccKBkqyVOO",
        "outputId": "cb9fc610-dd2a-4140-eb8a-fc96cde6a99d"
      },
      "execution_count": null,
      "outputs": [
        {
          "output_type": "execute_result",
          "data": {
            "text/plain": [
              "                  Nama Restaurant    Tipe_1  Rating   Price  \\\n",
              "77                    Beer Garden     Itali     4.1  150000   \n",
              "88             Kokonut & Curtains      Kafe     4.3  175000   \n",
              "29                  Warung Fotkop      Kafe     3.9   40000   \n",
              "119  Henshin - The Westin Jakarta  Peruvian     4.2  700000   \n",
              "43                   Bunna Coffee      Kopi     3.7   50000   \n",
              "\n",
              "                                    Daerah  sum_count_word  \n",
              "77                           SCBD, Jakarta              36  \n",
              "88                        Senayan, Jakarta              29  \n",
              "29                      Fatmawati, Jakarta              23  \n",
              "119  The Westin Jakarta, Kuningan, Jakarta              22  \n",
              "43                       Senopati, Jakarta              21  "
            ],
            "text/html": [
              "\n",
              "  <div id=\"df-e242602f-fe22-42fe-b7c7-4084d9fe3269\">\n",
              "    <div class=\"colab-df-container\">\n",
              "      <div>\n",
              "<style scoped>\n",
              "    .dataframe tbody tr th:only-of-type {\n",
              "        vertical-align: middle;\n",
              "    }\n",
              "\n",
              "    .dataframe tbody tr th {\n",
              "        vertical-align: top;\n",
              "    }\n",
              "\n",
              "    .dataframe thead th {\n",
              "        text-align: right;\n",
              "    }\n",
              "</style>\n",
              "<table border=\"1\" class=\"dataframe\">\n",
              "  <thead>\n",
              "    <tr style=\"text-align: right;\">\n",
              "      <th></th>\n",
              "      <th>Nama Restaurant</th>\n",
              "      <th>Tipe_1</th>\n",
              "      <th>Rating</th>\n",
              "      <th>Price</th>\n",
              "      <th>Daerah</th>\n",
              "      <th>sum_count_word</th>\n",
              "    </tr>\n",
              "  </thead>\n",
              "  <tbody>\n",
              "    <tr>\n",
              "      <th>77</th>\n",
              "      <td>Beer Garden</td>\n",
              "      <td>Itali</td>\n",
              "      <td>4.1</td>\n",
              "      <td>150000</td>\n",
              "      <td>SCBD, Jakarta</td>\n",
              "      <td>36</td>\n",
              "    </tr>\n",
              "    <tr>\n",
              "      <th>88</th>\n",
              "      <td>Kokonut &amp; Curtains</td>\n",
              "      <td>Kafe</td>\n",
              "      <td>4.3</td>\n",
              "      <td>175000</td>\n",
              "      <td>Senayan, Jakarta</td>\n",
              "      <td>29</td>\n",
              "    </tr>\n",
              "    <tr>\n",
              "      <th>29</th>\n",
              "      <td>Warung Fotkop</td>\n",
              "      <td>Kafe</td>\n",
              "      <td>3.9</td>\n",
              "      <td>40000</td>\n",
              "      <td>Fatmawati, Jakarta</td>\n",
              "      <td>23</td>\n",
              "    </tr>\n",
              "    <tr>\n",
              "      <th>119</th>\n",
              "      <td>Henshin - The Westin Jakarta</td>\n",
              "      <td>Peruvian</td>\n",
              "      <td>4.2</td>\n",
              "      <td>700000</td>\n",
              "      <td>The Westin Jakarta, Kuningan, Jakarta</td>\n",
              "      <td>22</td>\n",
              "    </tr>\n",
              "    <tr>\n",
              "      <th>43</th>\n",
              "      <td>Bunna Coffee</td>\n",
              "      <td>Kopi</td>\n",
              "      <td>3.7</td>\n",
              "      <td>50000</td>\n",
              "      <td>Senopati, Jakarta</td>\n",
              "      <td>21</td>\n",
              "    </tr>\n",
              "  </tbody>\n",
              "</table>\n",
              "</div>\n",
              "      <button class=\"colab-df-convert\" onclick=\"convertToInteractive('df-e242602f-fe22-42fe-b7c7-4084d9fe3269')\"\n",
              "              title=\"Convert this dataframe to an interactive table.\"\n",
              "              style=\"display:none;\">\n",
              "        \n",
              "  <svg xmlns=\"http://www.w3.org/2000/svg\" height=\"24px\"viewBox=\"0 0 24 24\"\n",
              "       width=\"24px\">\n",
              "    <path d=\"M0 0h24v24H0V0z\" fill=\"none\"/>\n",
              "    <path d=\"M18.56 5.44l.94 2.06.94-2.06 2.06-.94-2.06-.94-.94-2.06-.94 2.06-2.06.94zm-11 1L8.5 8.5l.94-2.06 2.06-.94-2.06-.94L8.5 2.5l-.94 2.06-2.06.94zm10 10l.94 2.06.94-2.06 2.06-.94-2.06-.94-.94-2.06-.94 2.06-2.06.94z\"/><path d=\"M17.41 7.96l-1.37-1.37c-.4-.4-.92-.59-1.43-.59-.52 0-1.04.2-1.43.59L10.3 9.45l-7.72 7.72c-.78.78-.78 2.05 0 2.83L4 21.41c.39.39.9.59 1.41.59.51 0 1.02-.2 1.41-.59l7.78-7.78 2.81-2.81c.8-.78.8-2.07 0-2.86zM5.41 20L4 18.59l7.72-7.72 1.47 1.35L5.41 20z\"/>\n",
              "  </svg>\n",
              "      </button>\n",
              "      \n",
              "  <style>\n",
              "    .colab-df-container {\n",
              "      display:flex;\n",
              "      flex-wrap:wrap;\n",
              "      gap: 12px;\n",
              "    }\n",
              "\n",
              "    .colab-df-convert {\n",
              "      background-color: #E8F0FE;\n",
              "      border: none;\n",
              "      border-radius: 50%;\n",
              "      cursor: pointer;\n",
              "      display: none;\n",
              "      fill: #1967D2;\n",
              "      height: 32px;\n",
              "      padding: 0 0 0 0;\n",
              "      width: 32px;\n",
              "    }\n",
              "\n",
              "    .colab-df-convert:hover {\n",
              "      background-color: #E2EBFA;\n",
              "      box-shadow: 0px 1px 2px rgba(60, 64, 67, 0.3), 0px 1px 3px 1px rgba(60, 64, 67, 0.15);\n",
              "      fill: #174EA6;\n",
              "    }\n",
              "\n",
              "    [theme=dark] .colab-df-convert {\n",
              "      background-color: #3B4455;\n",
              "      fill: #D2E3FC;\n",
              "    }\n",
              "\n",
              "    [theme=dark] .colab-df-convert:hover {\n",
              "      background-color: #434B5C;\n",
              "      box-shadow: 0px 1px 3px 1px rgba(0, 0, 0, 0.15);\n",
              "      filter: drop-shadow(0px 1px 2px rgba(0, 0, 0, 0.3));\n",
              "      fill: #FFFFFF;\n",
              "    }\n",
              "  </style>\n",
              "\n",
              "      <script>\n",
              "        const buttonEl =\n",
              "          document.querySelector('#df-e242602f-fe22-42fe-b7c7-4084d9fe3269 button.colab-df-convert');\n",
              "        buttonEl.style.display =\n",
              "          google.colab.kernel.accessAllowed ? 'block' : 'none';\n",
              "\n",
              "        async function convertToInteractive(key) {\n",
              "          const element = document.querySelector('#df-e242602f-fe22-42fe-b7c7-4084d9fe3269');\n",
              "          const dataTable =\n",
              "            await google.colab.kernel.invokeFunction('convertToInteractive',\n",
              "                                                     [key], {});\n",
              "          if (!dataTable) return;\n",
              "\n",
              "          const docLinkHtml = 'Like what you see? Visit the ' +\n",
              "            '<a target=\"_blank\" href=https://colab.research.google.com/notebooks/data_table.ipynb>data table notebook</a>'\n",
              "            + ' to learn more about interactive tables.';\n",
              "          element.innerHTML = '';\n",
              "          dataTable['output_type'] = 'display_data';\n",
              "          await google.colab.output.renderOutput(dataTable, element);\n",
              "          const docLink = document.createElement('div');\n",
              "          docLink.innerHTML = docLinkHtml;\n",
              "          element.appendChild(docLink);\n",
              "        }\n",
              "      </script>\n",
              "    </div>\n",
              "  </div>\n",
              "  "
            ]
          },
          "metadata": {},
          "execution_count": 86
        }
      ]
    },
    {
      "cell_type": "markdown",
      "source": [
        "Hanya input 3 yang benar"
      ],
      "metadata": {
        "id": "aAQkWEH7ypkw"
      }
    },
    {
      "cell_type": "code",
      "source": [
        "hasil_3 = input_text(\"nydsvavds\", \"dsvdsv\", \"makan\")\n",
        "hasil_3.head()"
      ],
      "metadata": {
        "colab": {
          "base_uri": "https://localhost:8080/",
          "height": 206
        },
        "id": "XlDe0saEys4e",
        "outputId": "0bf08f91-549d-42a8-adbc-04b3dfb7b7ce"
      },
      "execution_count": null,
      "outputs": [
        {
          "output_type": "execute_result",
          "data": {
            "text/plain": [
              "        Nama Restaurant              Tipe_1  Rating   Price  \\\n",
              "4         Rocky Rooster  Makanan Cepat Saji     4.2   25000   \n",
              "80               Tesate               Satay     4.1  150000   \n",
              "94  Shabu-Shabu Shaburi              Jepang     4.1  300000   \n",
              "71      2madison Eatery               Barat     4.1  125000   \n",
              "89            Sushi Sei              Jepang     4.5  175000   \n",
              "\n",
              "                             Daerah  sum_count_word  \n",
              "4                 Palmerah, Jakarta               5  \n",
              "80  Plaza Senayan, Senayan, Jakarta               4  \n",
              "94   Senayan City, Senayan, Jakarta               4  \n",
              "71                  Kemang, Jakarta               4  \n",
              "89  Plaza Senayan, Senayan, Jakarta               4  "
            ],
            "text/html": [
              "\n",
              "  <div id=\"df-f6d57607-1d31-4eed-8eb7-4d6dd27b3c0a\">\n",
              "    <div class=\"colab-df-container\">\n",
              "      <div>\n",
              "<style scoped>\n",
              "    .dataframe tbody tr th:only-of-type {\n",
              "        vertical-align: middle;\n",
              "    }\n",
              "\n",
              "    .dataframe tbody tr th {\n",
              "        vertical-align: top;\n",
              "    }\n",
              "\n",
              "    .dataframe thead th {\n",
              "        text-align: right;\n",
              "    }\n",
              "</style>\n",
              "<table border=\"1\" class=\"dataframe\">\n",
              "  <thead>\n",
              "    <tr style=\"text-align: right;\">\n",
              "      <th></th>\n",
              "      <th>Nama Restaurant</th>\n",
              "      <th>Tipe_1</th>\n",
              "      <th>Rating</th>\n",
              "      <th>Price</th>\n",
              "      <th>Daerah</th>\n",
              "      <th>sum_count_word</th>\n",
              "    </tr>\n",
              "  </thead>\n",
              "  <tbody>\n",
              "    <tr>\n",
              "      <th>4</th>\n",
              "      <td>Rocky Rooster</td>\n",
              "      <td>Makanan Cepat Saji</td>\n",
              "      <td>4.2</td>\n",
              "      <td>25000</td>\n",
              "      <td>Palmerah, Jakarta</td>\n",
              "      <td>5</td>\n",
              "    </tr>\n",
              "    <tr>\n",
              "      <th>80</th>\n",
              "      <td>Tesate</td>\n",
              "      <td>Satay</td>\n",
              "      <td>4.1</td>\n",
              "      <td>150000</td>\n",
              "      <td>Plaza Senayan, Senayan, Jakarta</td>\n",
              "      <td>4</td>\n",
              "    </tr>\n",
              "    <tr>\n",
              "      <th>94</th>\n",
              "      <td>Shabu-Shabu Shaburi</td>\n",
              "      <td>Jepang</td>\n",
              "      <td>4.1</td>\n",
              "      <td>300000</td>\n",
              "      <td>Senayan City, Senayan, Jakarta</td>\n",
              "      <td>4</td>\n",
              "    </tr>\n",
              "    <tr>\n",
              "      <th>71</th>\n",
              "      <td>2madison Eatery</td>\n",
              "      <td>Barat</td>\n",
              "      <td>4.1</td>\n",
              "      <td>125000</td>\n",
              "      <td>Kemang, Jakarta</td>\n",
              "      <td>4</td>\n",
              "    </tr>\n",
              "    <tr>\n",
              "      <th>89</th>\n",
              "      <td>Sushi Sei</td>\n",
              "      <td>Jepang</td>\n",
              "      <td>4.5</td>\n",
              "      <td>175000</td>\n",
              "      <td>Plaza Senayan, Senayan, Jakarta</td>\n",
              "      <td>4</td>\n",
              "    </tr>\n",
              "  </tbody>\n",
              "</table>\n",
              "</div>\n",
              "      <button class=\"colab-df-convert\" onclick=\"convertToInteractive('df-f6d57607-1d31-4eed-8eb7-4d6dd27b3c0a')\"\n",
              "              title=\"Convert this dataframe to an interactive table.\"\n",
              "              style=\"display:none;\">\n",
              "        \n",
              "  <svg xmlns=\"http://www.w3.org/2000/svg\" height=\"24px\"viewBox=\"0 0 24 24\"\n",
              "       width=\"24px\">\n",
              "    <path d=\"M0 0h24v24H0V0z\" fill=\"none\"/>\n",
              "    <path d=\"M18.56 5.44l.94 2.06.94-2.06 2.06-.94-2.06-.94-.94-2.06-.94 2.06-2.06.94zm-11 1L8.5 8.5l.94-2.06 2.06-.94-2.06-.94L8.5 2.5l-.94 2.06-2.06.94zm10 10l.94 2.06.94-2.06 2.06-.94-2.06-.94-.94-2.06-.94 2.06-2.06.94z\"/><path d=\"M17.41 7.96l-1.37-1.37c-.4-.4-.92-.59-1.43-.59-.52 0-1.04.2-1.43.59L10.3 9.45l-7.72 7.72c-.78.78-.78 2.05 0 2.83L4 21.41c.39.39.9.59 1.41.59.51 0 1.02-.2 1.41-.59l7.78-7.78 2.81-2.81c.8-.78.8-2.07 0-2.86zM5.41 20L4 18.59l7.72-7.72 1.47 1.35L5.41 20z\"/>\n",
              "  </svg>\n",
              "      </button>\n",
              "      \n",
              "  <style>\n",
              "    .colab-df-container {\n",
              "      display:flex;\n",
              "      flex-wrap:wrap;\n",
              "      gap: 12px;\n",
              "    }\n",
              "\n",
              "    .colab-df-convert {\n",
              "      background-color: #E8F0FE;\n",
              "      border: none;\n",
              "      border-radius: 50%;\n",
              "      cursor: pointer;\n",
              "      display: none;\n",
              "      fill: #1967D2;\n",
              "      height: 32px;\n",
              "      padding: 0 0 0 0;\n",
              "      width: 32px;\n",
              "    }\n",
              "\n",
              "    .colab-df-convert:hover {\n",
              "      background-color: #E2EBFA;\n",
              "      box-shadow: 0px 1px 2px rgba(60, 64, 67, 0.3), 0px 1px 3px 1px rgba(60, 64, 67, 0.15);\n",
              "      fill: #174EA6;\n",
              "    }\n",
              "\n",
              "    [theme=dark] .colab-df-convert {\n",
              "      background-color: #3B4455;\n",
              "      fill: #D2E3FC;\n",
              "    }\n",
              "\n",
              "    [theme=dark] .colab-df-convert:hover {\n",
              "      background-color: #434B5C;\n",
              "      box-shadow: 0px 1px 3px 1px rgba(0, 0, 0, 0.15);\n",
              "      filter: drop-shadow(0px 1px 2px rgba(0, 0, 0, 0.3));\n",
              "      fill: #FFFFFF;\n",
              "    }\n",
              "  </style>\n",
              "\n",
              "      <script>\n",
              "        const buttonEl =\n",
              "          document.querySelector('#df-f6d57607-1d31-4eed-8eb7-4d6dd27b3c0a button.colab-df-convert');\n",
              "        buttonEl.style.display =\n",
              "          google.colab.kernel.accessAllowed ? 'block' : 'none';\n",
              "\n",
              "        async function convertToInteractive(key) {\n",
              "          const element = document.querySelector('#df-f6d57607-1d31-4eed-8eb7-4d6dd27b3c0a');\n",
              "          const dataTable =\n",
              "            await google.colab.kernel.invokeFunction('convertToInteractive',\n",
              "                                                     [key], {});\n",
              "          if (!dataTable) return;\n",
              "\n",
              "          const docLinkHtml = 'Like what you see? Visit the ' +\n",
              "            '<a target=\"_blank\" href=https://colab.research.google.com/notebooks/data_table.ipynb>data table notebook</a>'\n",
              "            + ' to learn more about interactive tables.';\n",
              "          element.innerHTML = '';\n",
              "          dataTable['output_type'] = 'display_data';\n",
              "          await google.colab.output.renderOutput(dataTable, element);\n",
              "          const docLink = document.createElement('div');\n",
              "          docLink.innerHTML = docLinkHtml;\n",
              "          element.appendChild(docLink);\n",
              "        }\n",
              "      </script>\n",
              "    </div>\n",
              "  </div>\n",
              "  "
            ]
          },
          "metadata": {},
          "execution_count": 87
        }
      ]
    },
    {
      "cell_type": "markdown",
      "source": [
        "Hanya input 1 yang benar"
      ],
      "metadata": {
        "id": "EJZapxujyyO2"
      }
    },
    {
      "cell_type": "code",
      "source": [
        "hasil_4 = input_text(\"nyaman\", \"dsvdsv\", \"asddsa\")\n",
        "hasil_4.head()"
      ],
      "metadata": {
        "colab": {
          "base_uri": "https://localhost:8080/",
          "height": 206
        },
        "id": "dEH7x6E6yxaq",
        "outputId": "71fcbc9c-c491-49f0-8179-c446463014cb"
      },
      "execution_count": null,
      "outputs": [
        {
          "output_type": "execute_result",
          "data": {
            "text/plain": [
              "       Nama Restaurant     Tipe_1  Rating   Price  \\\n",
              "88  Kokonut & Curtains       Kafe     4.3  175000   \n",
              "47         Bukan Ruang       Kopi     4.2   75000   \n",
              "82           Brew & Co  Indonesia     3.5  150000   \n",
              "57         Toodz House       Kopi     3.7  100000   \n",
              "29       Warung Fotkop       Kafe     3.9   40000   \n",
              "\n",
              "                                      Daerah  sum_count_word  \n",
              "88                          Senayan, Jakarta               6  \n",
              "47                           Kemang, Jakarta               4  \n",
              "82  Cilandak Town Square, Fatmawati, Jakarta               4  \n",
              "57                      Lebak Bulus, Jakarta               4  \n",
              "29                        Fatmawati, Jakarta               4  "
            ],
            "text/html": [
              "\n",
              "  <div id=\"df-cbb5f24a-2172-4d09-912c-e701f87c45de\">\n",
              "    <div class=\"colab-df-container\">\n",
              "      <div>\n",
              "<style scoped>\n",
              "    .dataframe tbody tr th:only-of-type {\n",
              "        vertical-align: middle;\n",
              "    }\n",
              "\n",
              "    .dataframe tbody tr th {\n",
              "        vertical-align: top;\n",
              "    }\n",
              "\n",
              "    .dataframe thead th {\n",
              "        text-align: right;\n",
              "    }\n",
              "</style>\n",
              "<table border=\"1\" class=\"dataframe\">\n",
              "  <thead>\n",
              "    <tr style=\"text-align: right;\">\n",
              "      <th></th>\n",
              "      <th>Nama Restaurant</th>\n",
              "      <th>Tipe_1</th>\n",
              "      <th>Rating</th>\n",
              "      <th>Price</th>\n",
              "      <th>Daerah</th>\n",
              "      <th>sum_count_word</th>\n",
              "    </tr>\n",
              "  </thead>\n",
              "  <tbody>\n",
              "    <tr>\n",
              "      <th>88</th>\n",
              "      <td>Kokonut &amp; Curtains</td>\n",
              "      <td>Kafe</td>\n",
              "      <td>4.3</td>\n",
              "      <td>175000</td>\n",
              "      <td>Senayan, Jakarta</td>\n",
              "      <td>6</td>\n",
              "    </tr>\n",
              "    <tr>\n",
              "      <th>47</th>\n",
              "      <td>Bukan Ruang</td>\n",
              "      <td>Kopi</td>\n",
              "      <td>4.2</td>\n",
              "      <td>75000</td>\n",
              "      <td>Kemang, Jakarta</td>\n",
              "      <td>4</td>\n",
              "    </tr>\n",
              "    <tr>\n",
              "      <th>82</th>\n",
              "      <td>Brew &amp; Co</td>\n",
              "      <td>Indonesia</td>\n",
              "      <td>3.5</td>\n",
              "      <td>150000</td>\n",
              "      <td>Cilandak Town Square, Fatmawati, Jakarta</td>\n",
              "      <td>4</td>\n",
              "    </tr>\n",
              "    <tr>\n",
              "      <th>57</th>\n",
              "      <td>Toodz House</td>\n",
              "      <td>Kopi</td>\n",
              "      <td>3.7</td>\n",
              "      <td>100000</td>\n",
              "      <td>Lebak Bulus, Jakarta</td>\n",
              "      <td>4</td>\n",
              "    </tr>\n",
              "    <tr>\n",
              "      <th>29</th>\n",
              "      <td>Warung Fotkop</td>\n",
              "      <td>Kafe</td>\n",
              "      <td>3.9</td>\n",
              "      <td>40000</td>\n",
              "      <td>Fatmawati, Jakarta</td>\n",
              "      <td>4</td>\n",
              "    </tr>\n",
              "  </tbody>\n",
              "</table>\n",
              "</div>\n",
              "      <button class=\"colab-df-convert\" onclick=\"convertToInteractive('df-cbb5f24a-2172-4d09-912c-e701f87c45de')\"\n",
              "              title=\"Convert this dataframe to an interactive table.\"\n",
              "              style=\"display:none;\">\n",
              "        \n",
              "  <svg xmlns=\"http://www.w3.org/2000/svg\" height=\"24px\"viewBox=\"0 0 24 24\"\n",
              "       width=\"24px\">\n",
              "    <path d=\"M0 0h24v24H0V0z\" fill=\"none\"/>\n",
              "    <path d=\"M18.56 5.44l.94 2.06.94-2.06 2.06-.94-2.06-.94-.94-2.06-.94 2.06-2.06.94zm-11 1L8.5 8.5l.94-2.06 2.06-.94-2.06-.94L8.5 2.5l-.94 2.06-2.06.94zm10 10l.94 2.06.94-2.06 2.06-.94-2.06-.94-.94-2.06-.94 2.06-2.06.94z\"/><path d=\"M17.41 7.96l-1.37-1.37c-.4-.4-.92-.59-1.43-.59-.52 0-1.04.2-1.43.59L10.3 9.45l-7.72 7.72c-.78.78-.78 2.05 0 2.83L4 21.41c.39.39.9.59 1.41.59.51 0 1.02-.2 1.41-.59l7.78-7.78 2.81-2.81c.8-.78.8-2.07 0-2.86zM5.41 20L4 18.59l7.72-7.72 1.47 1.35L5.41 20z\"/>\n",
              "  </svg>\n",
              "      </button>\n",
              "      \n",
              "  <style>\n",
              "    .colab-df-container {\n",
              "      display:flex;\n",
              "      flex-wrap:wrap;\n",
              "      gap: 12px;\n",
              "    }\n",
              "\n",
              "    .colab-df-convert {\n",
              "      background-color: #E8F0FE;\n",
              "      border: none;\n",
              "      border-radius: 50%;\n",
              "      cursor: pointer;\n",
              "      display: none;\n",
              "      fill: #1967D2;\n",
              "      height: 32px;\n",
              "      padding: 0 0 0 0;\n",
              "      width: 32px;\n",
              "    }\n",
              "\n",
              "    .colab-df-convert:hover {\n",
              "      background-color: #E2EBFA;\n",
              "      box-shadow: 0px 1px 2px rgba(60, 64, 67, 0.3), 0px 1px 3px 1px rgba(60, 64, 67, 0.15);\n",
              "      fill: #174EA6;\n",
              "    }\n",
              "\n",
              "    [theme=dark] .colab-df-convert {\n",
              "      background-color: #3B4455;\n",
              "      fill: #D2E3FC;\n",
              "    }\n",
              "\n",
              "    [theme=dark] .colab-df-convert:hover {\n",
              "      background-color: #434B5C;\n",
              "      box-shadow: 0px 1px 3px 1px rgba(0, 0, 0, 0.15);\n",
              "      filter: drop-shadow(0px 1px 2px rgba(0, 0, 0, 0.3));\n",
              "      fill: #FFFFFF;\n",
              "    }\n",
              "  </style>\n",
              "\n",
              "      <script>\n",
              "        const buttonEl =\n",
              "          document.querySelector('#df-cbb5f24a-2172-4d09-912c-e701f87c45de button.colab-df-convert');\n",
              "        buttonEl.style.display =\n",
              "          google.colab.kernel.accessAllowed ? 'block' : 'none';\n",
              "\n",
              "        async function convertToInteractive(key) {\n",
              "          const element = document.querySelector('#df-cbb5f24a-2172-4d09-912c-e701f87c45de');\n",
              "          const dataTable =\n",
              "            await google.colab.kernel.invokeFunction('convertToInteractive',\n",
              "                                                     [key], {});\n",
              "          if (!dataTable) return;\n",
              "\n",
              "          const docLinkHtml = 'Like what you see? Visit the ' +\n",
              "            '<a target=\"_blank\" href=https://colab.research.google.com/notebooks/data_table.ipynb>data table notebook</a>'\n",
              "            + ' to learn more about interactive tables.';\n",
              "          element.innerHTML = '';\n",
              "          dataTable['output_type'] = 'display_data';\n",
              "          await google.colab.output.renderOutput(dataTable, element);\n",
              "          const docLink = document.createElement('div');\n",
              "          docLink.innerHTML = docLinkHtml;\n",
              "          element.appendChild(docLink);\n",
              "        }\n",
              "      </script>\n",
              "    </div>\n",
              "  </div>\n",
              "  "
            ]
          },
          "metadata": {},
          "execution_count": 88
        }
      ]
    },
    {
      "cell_type": "markdown",
      "source": [
        "Hanya input 2 yang benar"
      ],
      "metadata": {
        "id": "kOEtRj7Ry6Tz"
      }
    },
    {
      "cell_type": "code",
      "source": [
        "hasil_5 = input_text(\"nasdfsfa\", \"nyaman\", \"asddsa\")\n",
        "hasil_5.head()"
      ],
      "metadata": {
        "colab": {
          "base_uri": "https://localhost:8080/",
          "height": 206
        },
        "id": "39bhcFICy50t",
        "outputId": "e4f8bb00-6ef4-4fdc-d0cb-0b435b489f9b"
      },
      "execution_count": null,
      "outputs": [
        {
          "output_type": "execute_result",
          "data": {
            "text/plain": [
              "       Nama Restaurant     Tipe_1  Rating   Price  \\\n",
              "88  Kokonut & Curtains       Kafe     4.3  175000   \n",
              "47         Bukan Ruang       Kopi     4.2   75000   \n",
              "82           Brew & Co  Indonesia     3.5  150000   \n",
              "57         Toodz House       Kopi     3.7  100000   \n",
              "29       Warung Fotkop       Kafe     3.9   40000   \n",
              "\n",
              "                                      Daerah  sum_count_word  \n",
              "88                          Senayan, Jakarta               6  \n",
              "47                           Kemang, Jakarta               4  \n",
              "82  Cilandak Town Square, Fatmawati, Jakarta               4  \n",
              "57                      Lebak Bulus, Jakarta               4  \n",
              "29                        Fatmawati, Jakarta               4  "
            ],
            "text/html": [
              "\n",
              "  <div id=\"df-5c1f8501-b877-4b88-8ce2-10e7876f7ce8\">\n",
              "    <div class=\"colab-df-container\">\n",
              "      <div>\n",
              "<style scoped>\n",
              "    .dataframe tbody tr th:only-of-type {\n",
              "        vertical-align: middle;\n",
              "    }\n",
              "\n",
              "    .dataframe tbody tr th {\n",
              "        vertical-align: top;\n",
              "    }\n",
              "\n",
              "    .dataframe thead th {\n",
              "        text-align: right;\n",
              "    }\n",
              "</style>\n",
              "<table border=\"1\" class=\"dataframe\">\n",
              "  <thead>\n",
              "    <tr style=\"text-align: right;\">\n",
              "      <th></th>\n",
              "      <th>Nama Restaurant</th>\n",
              "      <th>Tipe_1</th>\n",
              "      <th>Rating</th>\n",
              "      <th>Price</th>\n",
              "      <th>Daerah</th>\n",
              "      <th>sum_count_word</th>\n",
              "    </tr>\n",
              "  </thead>\n",
              "  <tbody>\n",
              "    <tr>\n",
              "      <th>88</th>\n",
              "      <td>Kokonut &amp; Curtains</td>\n",
              "      <td>Kafe</td>\n",
              "      <td>4.3</td>\n",
              "      <td>175000</td>\n",
              "      <td>Senayan, Jakarta</td>\n",
              "      <td>6</td>\n",
              "    </tr>\n",
              "    <tr>\n",
              "      <th>47</th>\n",
              "      <td>Bukan Ruang</td>\n",
              "      <td>Kopi</td>\n",
              "      <td>4.2</td>\n",
              "      <td>75000</td>\n",
              "      <td>Kemang, Jakarta</td>\n",
              "      <td>4</td>\n",
              "    </tr>\n",
              "    <tr>\n",
              "      <th>82</th>\n",
              "      <td>Brew &amp; Co</td>\n",
              "      <td>Indonesia</td>\n",
              "      <td>3.5</td>\n",
              "      <td>150000</td>\n",
              "      <td>Cilandak Town Square, Fatmawati, Jakarta</td>\n",
              "      <td>4</td>\n",
              "    </tr>\n",
              "    <tr>\n",
              "      <th>57</th>\n",
              "      <td>Toodz House</td>\n",
              "      <td>Kopi</td>\n",
              "      <td>3.7</td>\n",
              "      <td>100000</td>\n",
              "      <td>Lebak Bulus, Jakarta</td>\n",
              "      <td>4</td>\n",
              "    </tr>\n",
              "    <tr>\n",
              "      <th>29</th>\n",
              "      <td>Warung Fotkop</td>\n",
              "      <td>Kafe</td>\n",
              "      <td>3.9</td>\n",
              "      <td>40000</td>\n",
              "      <td>Fatmawati, Jakarta</td>\n",
              "      <td>4</td>\n",
              "    </tr>\n",
              "  </tbody>\n",
              "</table>\n",
              "</div>\n",
              "      <button class=\"colab-df-convert\" onclick=\"convertToInteractive('df-5c1f8501-b877-4b88-8ce2-10e7876f7ce8')\"\n",
              "              title=\"Convert this dataframe to an interactive table.\"\n",
              "              style=\"display:none;\">\n",
              "        \n",
              "  <svg xmlns=\"http://www.w3.org/2000/svg\" height=\"24px\"viewBox=\"0 0 24 24\"\n",
              "       width=\"24px\">\n",
              "    <path d=\"M0 0h24v24H0V0z\" fill=\"none\"/>\n",
              "    <path d=\"M18.56 5.44l.94 2.06.94-2.06 2.06-.94-2.06-.94-.94-2.06-.94 2.06-2.06.94zm-11 1L8.5 8.5l.94-2.06 2.06-.94-2.06-.94L8.5 2.5l-.94 2.06-2.06.94zm10 10l.94 2.06.94-2.06 2.06-.94-2.06-.94-.94-2.06-.94 2.06-2.06.94z\"/><path d=\"M17.41 7.96l-1.37-1.37c-.4-.4-.92-.59-1.43-.59-.52 0-1.04.2-1.43.59L10.3 9.45l-7.72 7.72c-.78.78-.78 2.05 0 2.83L4 21.41c.39.39.9.59 1.41.59.51 0 1.02-.2 1.41-.59l7.78-7.78 2.81-2.81c.8-.78.8-2.07 0-2.86zM5.41 20L4 18.59l7.72-7.72 1.47 1.35L5.41 20z\"/>\n",
              "  </svg>\n",
              "      </button>\n",
              "      \n",
              "  <style>\n",
              "    .colab-df-container {\n",
              "      display:flex;\n",
              "      flex-wrap:wrap;\n",
              "      gap: 12px;\n",
              "    }\n",
              "\n",
              "    .colab-df-convert {\n",
              "      background-color: #E8F0FE;\n",
              "      border: none;\n",
              "      border-radius: 50%;\n",
              "      cursor: pointer;\n",
              "      display: none;\n",
              "      fill: #1967D2;\n",
              "      height: 32px;\n",
              "      padding: 0 0 0 0;\n",
              "      width: 32px;\n",
              "    }\n",
              "\n",
              "    .colab-df-convert:hover {\n",
              "      background-color: #E2EBFA;\n",
              "      box-shadow: 0px 1px 2px rgba(60, 64, 67, 0.3), 0px 1px 3px 1px rgba(60, 64, 67, 0.15);\n",
              "      fill: #174EA6;\n",
              "    }\n",
              "\n",
              "    [theme=dark] .colab-df-convert {\n",
              "      background-color: #3B4455;\n",
              "      fill: #D2E3FC;\n",
              "    }\n",
              "\n",
              "    [theme=dark] .colab-df-convert:hover {\n",
              "      background-color: #434B5C;\n",
              "      box-shadow: 0px 1px 3px 1px rgba(0, 0, 0, 0.15);\n",
              "      filter: drop-shadow(0px 1px 2px rgba(0, 0, 0, 0.3));\n",
              "      fill: #FFFFFF;\n",
              "    }\n",
              "  </style>\n",
              "\n",
              "      <script>\n",
              "        const buttonEl =\n",
              "          document.querySelector('#df-5c1f8501-b877-4b88-8ce2-10e7876f7ce8 button.colab-df-convert');\n",
              "        buttonEl.style.display =\n",
              "          google.colab.kernel.accessAllowed ? 'block' : 'none';\n",
              "\n",
              "        async function convertToInteractive(key) {\n",
              "          const element = document.querySelector('#df-5c1f8501-b877-4b88-8ce2-10e7876f7ce8');\n",
              "          const dataTable =\n",
              "            await google.colab.kernel.invokeFunction('convertToInteractive',\n",
              "                                                     [key], {});\n",
              "          if (!dataTable) return;\n",
              "\n",
              "          const docLinkHtml = 'Like what you see? Visit the ' +\n",
              "            '<a target=\"_blank\" href=https://colab.research.google.com/notebooks/data_table.ipynb>data table notebook</a>'\n",
              "            + ' to learn more about interactive tables.';\n",
              "          element.innerHTML = '';\n",
              "          dataTable['output_type'] = 'display_data';\n",
              "          await google.colab.output.renderOutput(dataTable, element);\n",
              "          const docLink = document.createElement('div');\n",
              "          docLink.innerHTML = docLinkHtml;\n",
              "          element.appendChild(docLink);\n",
              "        }\n",
              "      </script>\n",
              "    </div>\n",
              "  </div>\n",
              "  "
            ]
          },
          "metadata": {},
          "execution_count": 89
        }
      ]
    },
    {
      "cell_type": "markdown",
      "source": [
        "Tidak ada input yang benar"
      ],
      "metadata": {
        "id": "lPfW-Oq4z1hO"
      }
    },
    {
      "cell_type": "code",
      "source": [
        "hasil_6 = input_text(\"nasdfsfa\", \"dsvvdsvvds\", \"asddsa\")\n",
        "hasil_6"
      ],
      "metadata": {
        "colab": {
          "base_uri": "https://localhost:8080/"
        },
        "id": "xEmy3iOLz0uL",
        "outputId": "d6aeefc6-1bf3-4030-c9f6-51521ab08432"
      },
      "execution_count": null,
      "outputs": [
        {
          "output_type": "stream",
          "name": "stdout",
          "text": [
            "Maaf Keyword Tidak ditemukan\n"
          ]
        }
      ]
    },
    {
      "cell_type": "markdown",
      "source": [
        "Dari hasil uji coba diatas :       \n",
        "* Function dan model sudah berjalan dnegan baik"
      ],
      "metadata": {
        "id": "wxRzelOJ0vol"
      }
    },
    {
      "cell_type": "markdown",
      "source": [
        "Selanjutnya kita akan membuat function untuk filtering hasil dari input text, kita akan membuat function filtering terlebih dahulu"
      ],
      "metadata": {
        "id": "tQI8aYtc07Hc"
      }
    },
    {
      "cell_type": "code",
      "source": [
        "def input_user(harga, daerah, tipe):\n",
        "    data_1 = hasil_1[hasil_1.Price <= harga ]\n",
        "    data_1 = data_1[data_1.Daerah == daerah ]\n",
        "    data_1 = data_1[data_1.Tipe_1 == tipe ]\n",
        "    return data_1"
      ],
      "metadata": {
        "id": "Ane0CGAETZch"
      },
      "execution_count": null,
      "outputs": []
    },
    {
      "cell_type": "code",
      "source": [
        "input_user(100000, \"Fatmawati, Jakarta\", \"Jawa\")"
      ],
      "metadata": {
        "colab": {
          "base_uri": "https://localhost:8080/",
          "height": 81
        },
        "id": "yrH_y7_JU67f",
        "outputId": "0f56abc2-0db7-4bad-adac-9eda2ac4baa3"
      },
      "execution_count": null,
      "outputs": [
        {
          "output_type": "execute_result",
          "data": {
            "text/plain": [
              "   Nama Restaurant Tipe_1  Rating  Price              Daerah  sum_count_word\n",
              "19   Kedai Halaman   Jawa     3.6  35000  Fatmawati, Jakarta               2"
            ],
            "text/html": [
              "\n",
              "  <div id=\"df-f45b069d-670e-4fb2-832f-3bae1a6741e6\">\n",
              "    <div class=\"colab-df-container\">\n",
              "      <div>\n",
              "<style scoped>\n",
              "    .dataframe tbody tr th:only-of-type {\n",
              "        vertical-align: middle;\n",
              "    }\n",
              "\n",
              "    .dataframe tbody tr th {\n",
              "        vertical-align: top;\n",
              "    }\n",
              "\n",
              "    .dataframe thead th {\n",
              "        text-align: right;\n",
              "    }\n",
              "</style>\n",
              "<table border=\"1\" class=\"dataframe\">\n",
              "  <thead>\n",
              "    <tr style=\"text-align: right;\">\n",
              "      <th></th>\n",
              "      <th>Nama Restaurant</th>\n",
              "      <th>Tipe_1</th>\n",
              "      <th>Rating</th>\n",
              "      <th>Price</th>\n",
              "      <th>Daerah</th>\n",
              "      <th>sum_count_word</th>\n",
              "    </tr>\n",
              "  </thead>\n",
              "  <tbody>\n",
              "    <tr>\n",
              "      <th>19</th>\n",
              "      <td>Kedai Halaman</td>\n",
              "      <td>Jawa</td>\n",
              "      <td>3.6</td>\n",
              "      <td>35000</td>\n",
              "      <td>Fatmawati, Jakarta</td>\n",
              "      <td>2</td>\n",
              "    </tr>\n",
              "  </tbody>\n",
              "</table>\n",
              "</div>\n",
              "      <button class=\"colab-df-convert\" onclick=\"convertToInteractive('df-f45b069d-670e-4fb2-832f-3bae1a6741e6')\"\n",
              "              title=\"Convert this dataframe to an interactive table.\"\n",
              "              style=\"display:none;\">\n",
              "        \n",
              "  <svg xmlns=\"http://www.w3.org/2000/svg\" height=\"24px\"viewBox=\"0 0 24 24\"\n",
              "       width=\"24px\">\n",
              "    <path d=\"M0 0h24v24H0V0z\" fill=\"none\"/>\n",
              "    <path d=\"M18.56 5.44l.94 2.06.94-2.06 2.06-.94-2.06-.94-.94-2.06-.94 2.06-2.06.94zm-11 1L8.5 8.5l.94-2.06 2.06-.94-2.06-.94L8.5 2.5l-.94 2.06-2.06.94zm10 10l.94 2.06.94-2.06 2.06-.94-2.06-.94-.94-2.06-.94 2.06-2.06.94z\"/><path d=\"M17.41 7.96l-1.37-1.37c-.4-.4-.92-.59-1.43-.59-.52 0-1.04.2-1.43.59L10.3 9.45l-7.72 7.72c-.78.78-.78 2.05 0 2.83L4 21.41c.39.39.9.59 1.41.59.51 0 1.02-.2 1.41-.59l7.78-7.78 2.81-2.81c.8-.78.8-2.07 0-2.86zM5.41 20L4 18.59l7.72-7.72 1.47 1.35L5.41 20z\"/>\n",
              "  </svg>\n",
              "      </button>\n",
              "      \n",
              "  <style>\n",
              "    .colab-df-container {\n",
              "      display:flex;\n",
              "      flex-wrap:wrap;\n",
              "      gap: 12px;\n",
              "    }\n",
              "\n",
              "    .colab-df-convert {\n",
              "      background-color: #E8F0FE;\n",
              "      border: none;\n",
              "      border-radius: 50%;\n",
              "      cursor: pointer;\n",
              "      display: none;\n",
              "      fill: #1967D2;\n",
              "      height: 32px;\n",
              "      padding: 0 0 0 0;\n",
              "      width: 32px;\n",
              "    }\n",
              "\n",
              "    .colab-df-convert:hover {\n",
              "      background-color: #E2EBFA;\n",
              "      box-shadow: 0px 1px 2px rgba(60, 64, 67, 0.3), 0px 1px 3px 1px rgba(60, 64, 67, 0.15);\n",
              "      fill: #174EA6;\n",
              "    }\n",
              "\n",
              "    [theme=dark] .colab-df-convert {\n",
              "      background-color: #3B4455;\n",
              "      fill: #D2E3FC;\n",
              "    }\n",
              "\n",
              "    [theme=dark] .colab-df-convert:hover {\n",
              "      background-color: #434B5C;\n",
              "      box-shadow: 0px 1px 3px 1px rgba(0, 0, 0, 0.15);\n",
              "      filter: drop-shadow(0px 1px 2px rgba(0, 0, 0, 0.3));\n",
              "      fill: #FFFFFF;\n",
              "    }\n",
              "  </style>\n",
              "\n",
              "      <script>\n",
              "        const buttonEl =\n",
              "          document.querySelector('#df-f45b069d-670e-4fb2-832f-3bae1a6741e6 button.colab-df-convert');\n",
              "        buttonEl.style.display =\n",
              "          google.colab.kernel.accessAllowed ? 'block' : 'none';\n",
              "\n",
              "        async function convertToInteractive(key) {\n",
              "          const element = document.querySelector('#df-f45b069d-670e-4fb2-832f-3bae1a6741e6');\n",
              "          const dataTable =\n",
              "            await google.colab.kernel.invokeFunction('convertToInteractive',\n",
              "                                                     [key], {});\n",
              "          if (!dataTable) return;\n",
              "\n",
              "          const docLinkHtml = 'Like what you see? Visit the ' +\n",
              "            '<a target=\"_blank\" href=https://colab.research.google.com/notebooks/data_table.ipynb>data table notebook</a>'\n",
              "            + ' to learn more about interactive tables.';\n",
              "          element.innerHTML = '';\n",
              "          dataTable['output_type'] = 'display_data';\n",
              "          await google.colab.output.renderOutput(dataTable, element);\n",
              "          const docLink = document.createElement('div');\n",
              "          docLink.innerHTML = docLinkHtml;\n",
              "          element.appendChild(docLink);\n",
              "        }\n",
              "      </script>\n",
              "    </div>\n",
              "  </div>\n",
              "  "
            ]
          },
          "metadata": {},
          "execution_count": 50
        }
      ]
    },
    {
      "cell_type": "markdown",
      "source": [
        "Kita bisa melihat bahwa function yang kita buat berjalan dengan baik"
      ],
      "metadata": {
        "id": "v9PIbJ9J1bgm"
      }
    },
    {
      "cell_type": "markdown",
      "source": [
        "# **SAVING MODEL**"
      ],
      "metadata": {
        "id": "yWiSWv5zY1sD"
      }
    },
    {
      "cell_type": "markdown",
      "source": [
        "Kita akan melakukan save model"
      ],
      "metadata": {
        "id": "pnJJuf3rcdAm"
      }
    },
    {
      "cell_type": "code",
      "source": [
        "model_2.save(\"model_2.model\")"
      ],
      "metadata": {
        "id": "F5F5p2oXY5Nq"
      },
      "execution_count": null,
      "outputs": []
    },
    {
      "cell_type": "markdown",
      "source": [
        "# **MODEL INFERENCE**"
      ],
      "metadata": {
        "id": "5S0k8jcWbCOP"
      }
    },
    {
      "cell_type": "markdown",
      "source": [
        "Load model"
      ],
      "metadata": {
        "id": "oIvrBS5CePCn"
      }
    },
    {
      "cell_type": "code",
      "source": [
        "model = gensim.models.Word2Vec.load(\"model_2.model\")"
      ],
      "metadata": {
        "id": "JWA_63V7aHUz"
      },
      "execution_count": null,
      "outputs": []
    },
    {
      "cell_type": "code",
      "source": [
        "model.most_similar(\"mantap\")"
      ],
      "metadata": {
        "colab": {
          "base_uri": "https://localhost:8080/"
        },
        "id": "7Eu4y-lxbsDQ",
        "outputId": "0e5a7cca-565f-4b25-bb53-c0a6b860f04c"
      },
      "execution_count": null,
      "outputs": [
        {
          "output_type": "execute_result",
          "data": {
            "text/plain": [
              "[('mantul', 0.8882601261138916),\n",
              " ('mantab', 0.8168669939041138),\n",
              " ('lidah', 0.8131980895996094),\n",
              " ('banget', 0.7676073312759399),\n",
              " ('pokok', 0.7665108442306519),\n",
              " ('top', 0.7402812838554382),\n",
              " ('jiwa', 0.7358113527297974),\n",
              " ('super', 0.7139198780059814),\n",
              " ('enakk', 0.7128123044967651),\n",
              " ('juara', 0.6950969696044922)]"
            ]
          },
          "metadata": {},
          "execution_count": 54
        }
      ]
    },
    {
      "cell_type": "markdown",
      "source": [
        "Kita akan menggunakan model yang baru saja di load, selnajutnya kita akan deklarasi model menggunakan function"
      ],
      "metadata": {
        "id": "DLMFCmVlczsh"
      }
    },
    {
      "cell_type": "code",
      "source": [
        "def input_text_load(text1, text2, text3):\n",
        "  list_new =[]\n",
        "  columns_new= []\n",
        "  count_word_1 = []\n",
        "  count_word_2 = []\n",
        "  count_word_3 = []\n",
        "  count_word_4 = []\n",
        "  count_word_5 = []\n",
        "  count_word_6 = []\n",
        "  count_word_7 = []\n",
        "  count_word_8 = []\n",
        "  count_word_9 = []\n",
        "  count_word_10 = []\n",
        "  count_word_11 = []\n",
        "  count_word_12 = []\n",
        "  count_word_13 = []\n",
        "  count_word_14 = []\n",
        "  count_word_15 = []\n",
        "\n",
        "  try:\n",
        "    # Jika bisa semuanya\n",
        "    res_1 = model.most_similar(text1)[0:5]   \n",
        "    res_2 = model.most_similar(text2)[0:5]\n",
        "    res_3 = model.most_similar(text3)[0:5]\n",
        "    df_res_1 = pd.DataFrame(res_1)\n",
        "    df_res_2 = pd.DataFrame(res_2)\n",
        "    df_res_3 = pd.DataFrame(res_3)\n",
        "    df_result_1 = pd.concat([df_res_1, df_res_2, df_res_3], axis=0).reset_index(drop=True)\n",
        "    for item in df_result_1[0].unique():\n",
        "      list_new.append(item)\n",
        "    for i in range(len(data)):\n",
        "      count_word_1.append(data['clean stopword'][i].count(list_new[0]))\n",
        "      count_word_2.append(data['clean stopword'][i].count(list_new[1]))\n",
        "      count_word_3.append(data['clean stopword'][i].count(list_new[2]))\n",
        "      count_word_4.append(data['clean stopword'][i].count(list_new[3]))\n",
        "      count_word_5.append(data['clean stopword'][i].count(list_new[4]))\n",
        "      count_word_6.append(data['clean stopword'][i].count(list_new[5]))\n",
        "      count_word_7.append(data['clean stopword'][i].count(list_new[6]))\n",
        "      count_word_8.append(data['clean stopword'][i].count(list_new[7]))\n",
        "      count_word_9.append(data['clean stopword'][i].count(list_new[8]))\n",
        "      count_word_10.append(data['clean stopword'][i].count(list_new[9]))\n",
        "      count_word_11.append(data['clean stopword'][i].count(list_new[10]))\n",
        "      count_word_12.append(data['clean stopword'][i].count(list_new[11]))\n",
        "      count_word_13.append(data['clean stopword'][i].count(list_new[12]))\n",
        "      count_word_14.append(data['clean stopword'][i].count(list_new[13]))\n",
        "      count_word_15.append(data['clean stopword'][i].count(list_new[14]))\n",
        "    data['count_word_1'] = count_word_1\n",
        "    data['count_word_2'] = count_word_2\n",
        "    data['count_word_3'] = count_word_3\n",
        "    data['count_word_4'] = count_word_4\n",
        "    data['count_word_5'] = count_word_5\n",
        "    data['count_word_6'] = count_word_6\n",
        "    data['count_word_7'] = count_word_7\n",
        "    data['count_word_8'] = count_word_8\n",
        "    data['count_word_9'] = count_word_9\n",
        "    data['count_word_10'] = count_word_10\n",
        "    data['count_word_11'] = count_word_11\n",
        "    data['count_word_12'] = count_word_12\n",
        "    data['count_word_13'] = count_word_13\n",
        "    data['count_word_14'] = count_word_14\n",
        "    data['count_word_15'] = count_word_15\n",
        "    data['sum_count_word'] = data.iloc[:,11:25].sum(axis=1)\n",
        "    data_1 = data[data.sum_count_word != 0]\n",
        "    data_1 = data_1.sort_values(\"sum_count_word\", ascending=False)[['Nama Restaurant','Tipe_1', 'Rating', 'Price', 'Daerah', 'sum_count_word']]\n",
        "    return data_1\n",
        "\n",
        "  except:\n",
        "    try:\n",
        "      # Hanya 2 dan 3\n",
        "      res_2 = model.most_similar(text2)[0:5]\n",
        "      res_3 = model.most_similar(text3)[0:5]\n",
        "      df_res_2 = pd.DataFrame(res_2)\n",
        "      df_res_3 = pd.DataFrame(res_3)\n",
        "      df_result_2 = pd.concat([df_res_2, df_res_3], axis=0).reset_index(drop=True)\n",
        "      for item in df_result_2[0].unique():\n",
        "        list_new.append(item)\n",
        "      for i in range(len(data)):\n",
        "        count_word_1.append(data['clean stopword'][i].count(list_new[0]))\n",
        "        count_word_2.append(data['clean stopword'][i].count(list_new[1]))\n",
        "        count_word_3.append(data['clean stopword'][i].count(list_new[2]))\n",
        "        count_word_4.append(data['clean stopword'][i].count(list_new[3]))\n",
        "        count_word_5.append(data['clean stopword'][i].count(list_new[4]))\n",
        "        count_word_6.append(data['clean stopword'][i].count(list_new[5]))\n",
        "        count_word_7.append(data['clean stopword'][i].count(list_new[6]))\n",
        "        count_word_8.append(data['clean stopword'][i].count(list_new[7]))\n",
        "        count_word_9.append(data['clean stopword'][i].count(list_new[8]))\n",
        "        count_word_10.append(data['clean stopword'][i].count(list_new[9]))\n",
        "      data['count_word_1'] = count_word_1\n",
        "      data['count_word_2'] = count_word_2\n",
        "      data['count_word_3'] = count_word_3\n",
        "      data['count_word_4'] = count_word_4\n",
        "      data['count_word_5'] = count_word_5\n",
        "      data['count_word_6'] = count_word_6\n",
        "      data['count_word_7'] = count_word_7\n",
        "      data['count_word_8'] = count_word_8\n",
        "      data['count_word_9'] = count_word_9\n",
        "      data['count_word_10'] = count_word_10\n",
        "      data['sum_count_word'] = data.iloc[:,11:20].sum(axis=1)\n",
        "      data_2 = data[data.sum_count_word != 0]\n",
        "      data_2 = data_2.sort_values(\"sum_count_word\", ascending=False)[['Nama Restaurant','Tipe_1', 'Rating', 'Price', 'Daerah', 'sum_count_word']]\n",
        "      return data_2\n",
        "\n",
        "    except:\n",
        "      try:\n",
        "        # Hanya 3 \n",
        "        res_3 = model.most_similar(text3)[0:5]\n",
        "        df_result_3 = pd.DataFrame(res_3).reset_index(drop=True)\n",
        "        for item in df_result_3[0].unique():\n",
        "          list_new.append(item)\n",
        "        for i in range(len(data)):\n",
        "          count_word_1.append(data['clean stopword'][i].count(list_new[0]))\n",
        "          count_word_2.append(data['clean stopword'][i].count(list_new[1]))\n",
        "          count_word_3.append(data['clean stopword'][i].count(list_new[2]))\n",
        "          count_word_4.append(data['clean stopword'][i].count(list_new[3]))\n",
        "          count_word_5.append(data['clean stopword'][i].count(list_new[4]))\n",
        "        data['count_word_1'] = count_word_1\n",
        "        data['count_word_2'] = count_word_2\n",
        "        data['count_word_3'] = count_word_3\n",
        "        data['count_word_4'] = count_word_4\n",
        "        data['count_word_5'] = count_word_5\n",
        "        data['sum_count_word'] = data.iloc[:,11:15].sum(axis=1)\n",
        "        data_3 = data[data.sum_count_word != 0]\n",
        "        data_3 = data_3.sort_values(\"sum_count_word\", ascending=False)[['Nama Restaurant','Tipe_1', 'Rating', 'Price', 'Daerah', 'sum_count_word']]\n",
        "        return data_3\n",
        "\n",
        "      except :\n",
        "        try:\n",
        "          # Hanya 1 dan 2\n",
        "          res_1 = model.most_similar(text1)[0:5]\n",
        "          res_2 = model.most_similar(text2)[0:5]\n",
        "          df_res_1 = pd.DataFrame(res_1)\n",
        "          df_res_2 = pd.DataFrame(res_2)\n",
        "          df_result_4 = pd.concat([df_res_1, df_res_2], axis=0).reset_index(drop=True)\n",
        "          for item in df_result_4[0].unique():\n",
        "            list_new.append(item)\n",
        "          for i in range(len(data)):\n",
        "            count_word_1.append(data['clean stopword'][i].count(list_new[0]))\n",
        "            count_word_2.append(data['clean stopword'][i].count(list_new[1]))\n",
        "            count_word_3.append(data['clean stopword'][i].count(list_new[2]))\n",
        "            count_word_4.append(data['clean stopword'][i].count(list_new[3]))\n",
        "            count_word_5.append(data['clean stopword'][i].count(list_new[4]))\n",
        "            count_word_6.append(data['clean stopword'][i].count(list_new[5]))\n",
        "            count_word_7.append(data['clean stopword'][i].count(list_new[6]))\n",
        "            count_word_8.append(data['clean stopword'][i].count(list_new[7]))\n",
        "            count_word_9.append(data['clean stopword'][i].count(list_new[8]))\n",
        "            count_word_10.append(data['clean stopword'][i].count(list_new[9]))\n",
        "          data['count_word_1'] = count_word_1\n",
        "          data['count_word_2'] = count_word_2\n",
        "          data['count_word_3'] = count_word_3\n",
        "          data['count_word_4'] = count_word_4\n",
        "          data['count_word_5'] = count_word_5\n",
        "          data['count_word_6'] = count_word_6\n",
        "          data['count_word_7'] = count_word_7\n",
        "          data['count_word_8'] = count_word_8\n",
        "          data['count_word_9'] = count_word_9\n",
        "          data['count_word_10'] = count_word_10\n",
        "          data['sum_count_word'] = data.iloc[:,11:20].sum(axis=1)\n",
        "          data_4 = data[data.sum_count_word != 0]\n",
        "          data_4 = data_4.sort_values(\"sum_count_word\", ascending=False)[['Nama Restaurant','Tipe_1', 'Rating', 'Price', 'Daerah', 'sum_count_word']]\n",
        "          return data_4\n",
        "\n",
        "        except:\n",
        "          try:\n",
        "            # Hanya res 2 \n",
        "            res_2 = model.most_similar(text2)[0:5]\n",
        "            df_res_2 = pd.DataFrame(res_2)\n",
        "            df_result_5 = df_res_2.reset_index(drop=True)\n",
        "            for item in df_result_5[0].unique():\n",
        "              list_new.append(item)\n",
        "            for i in range(len(data)):\n",
        "              count_word_1.append(data['clean stopword'][i].count(list_new[0]))\n",
        "              count_word_2.append(data['clean stopword'][i].count(list_new[1]))\n",
        "              count_word_3.append(data['clean stopword'][i].count(list_new[2]))\n",
        "              count_word_4.append(data['clean stopword'][i].count(list_new[3]))\n",
        "              count_word_5.append(data['clean stopword'][i].count(list_new[4]))\n",
        "            data['count_word_1'] = count_word_1\n",
        "            data['count_word_2'] = count_word_2\n",
        "            data['count_word_3'] = count_word_3\n",
        "            data['count_word_4'] = count_word_4\n",
        "            data['count_word_5'] = count_word_5\n",
        "            data['sum_count_word'] = data.iloc[:,11:15].sum(axis=1)\n",
        "            data_5 = data[data.sum_count_word != 0]\n",
        "            data_5 = data_5.sort_values(\"sum_count_word\", ascending=False)[['Nama Restaurant','Tipe_1', 'Rating', 'Price', 'Daerah', 'sum_count_word']]\n",
        "            return data_5\n",
        "\n",
        "          except:\n",
        "            try:\n",
        "              # Hanya 1\n",
        "              res_1 = model.most_similar(text1)[0:5]\n",
        "              df_res_1 = pd.DataFrame(res_1)\n",
        "              df_result_6 = df_res_1.reset_index(drop=True)\n",
        "              for item in df_result_6[0].unique():\n",
        "                list_new.append(item)\n",
        "              for i in range(len(data)):\n",
        "                count_word_1.append(data['clean stopword'][i].count(list_new[0]))\n",
        "                count_word_2.append(data['clean stopword'][i].count(list_new[1]))\n",
        "                count_word_3.append(data['clean stopword'][i].count(list_new[2]))\n",
        "                count_word_4.append(data['clean stopword'][i].count(list_new[3]))\n",
        "                count_word_5.append(data['clean stopword'][i].count(list_new[4]))\n",
        "              data['count_word_1'] = count_word_1\n",
        "              data['count_word_2'] = count_word_2\n",
        "              data['count_word_3'] = count_word_3\n",
        "              data['count_word_4'] = count_word_4\n",
        "              data['count_word_5'] = count_word_5\n",
        "              data['sum_count_word'] = data.iloc[:,11:15].sum(axis=1)\n",
        "              data_6 = data[data.sum_count_word != 0]\n",
        "              data_6 = data_6.sort_values(\"sum_count_word\", ascending=False)[['Nama Restaurant','Tipe_1', 'Rating', 'Price', 'Daerah', 'sum_count_word']]\n",
        "              return data_6\n",
        "\n",
        "            except:\n",
        "              print(\"Maaf Keyword Tidak ditemukan\")"
      ],
      "metadata": {
        "id": "Z4MOceyJbza5"
      },
      "execution_count": null,
      "outputs": []
    },
    {
      "cell_type": "markdown",
      "source": [
        "Setelah kita melakukan deklarasi function buat model, selanjutnya kita akan test model yang baru saja di load"
      ],
      "metadata": {
        "id": "jVdKdGFydrIY"
      }
    },
    {
      "cell_type": "code",
      "source": [
        "teks = input_text_load(\"nyaman\", \"cozy\", \"rokok\")\n",
        "teks"
      ],
      "metadata": {
        "colab": {
          "base_uri": "https://localhost:8080/",
          "height": 424
        },
        "id": "nD55YfNXdWSE",
        "outputId": "9627f2c7-924c-450e-a0fc-8c6827ce1394"
      },
      "execution_count": null,
      "outputs": [
        {
          "output_type": "execute_result",
          "data": {
            "text/plain": [
              "       Nama Restaurant              Tipe_1  Rating   Price  \\\n",
              "29       Warung Fotkop                Kafe     3.9   40000   \n",
              "88  Kokonut & Curtains                Kafe     4.3  175000   \n",
              "1   Join Kopi Bulungan                Kopi     3.9   20000   \n",
              "77         Beer Garden               Itali     4.1  150000   \n",
              "82           Brew & Co           Indonesia     3.5  150000   \n",
              "..                 ...                 ...     ...     ...   \n",
              "78      Hoshino Coffee                Kafe     3.9  150000   \n",
              "4        Rocky Rooster  Makanan Cepat Saji     4.2   25000   \n",
              "89           Sushi Sei              Jepang     4.5  175000   \n",
              "6     Ayam Blenger PSP           Indonesia     4.2   25000   \n",
              "8    Rumah Makan Surya              Padang     4.2   30000   \n",
              "\n",
              "                                      Daerah  sum_count_word  \n",
              "29                        Fatmawati, Jakarta              23  \n",
              "88                          Senayan, Jakarta              23  \n",
              "1                            Blok M, Jakarta              22  \n",
              "77                             SCBD, Jakarta              20  \n",
              "82  Cilandak Town Square, Fatmawati, Jakarta              17  \n",
              "..                                       ...             ...  \n",
              "78            Senayan City, Senayan, Jakarta               1  \n",
              "4                          Palmerah, Jakarta               1  \n",
              "89           Plaza Senayan, Senayan, Jakarta               1  \n",
              "6                          Palmerah, Jakarta               1  \n",
              "8                   Bendungan Hilir, Jakarta               1  \n",
              "\n",
              "[107 rows x 6 columns]"
            ],
            "text/html": [
              "\n",
              "  <div id=\"df-a4087a3a-f6d4-4273-a161-0fa9438cf782\">\n",
              "    <div class=\"colab-df-container\">\n",
              "      <div>\n",
              "<style scoped>\n",
              "    .dataframe tbody tr th:only-of-type {\n",
              "        vertical-align: middle;\n",
              "    }\n",
              "\n",
              "    .dataframe tbody tr th {\n",
              "        vertical-align: top;\n",
              "    }\n",
              "\n",
              "    .dataframe thead th {\n",
              "        text-align: right;\n",
              "    }\n",
              "</style>\n",
              "<table border=\"1\" class=\"dataframe\">\n",
              "  <thead>\n",
              "    <tr style=\"text-align: right;\">\n",
              "      <th></th>\n",
              "      <th>Nama Restaurant</th>\n",
              "      <th>Tipe_1</th>\n",
              "      <th>Rating</th>\n",
              "      <th>Price</th>\n",
              "      <th>Daerah</th>\n",
              "      <th>sum_count_word</th>\n",
              "    </tr>\n",
              "  </thead>\n",
              "  <tbody>\n",
              "    <tr>\n",
              "      <th>29</th>\n",
              "      <td>Warung Fotkop</td>\n",
              "      <td>Kafe</td>\n",
              "      <td>3.9</td>\n",
              "      <td>40000</td>\n",
              "      <td>Fatmawati, Jakarta</td>\n",
              "      <td>23</td>\n",
              "    </tr>\n",
              "    <tr>\n",
              "      <th>88</th>\n",
              "      <td>Kokonut &amp; Curtains</td>\n",
              "      <td>Kafe</td>\n",
              "      <td>4.3</td>\n",
              "      <td>175000</td>\n",
              "      <td>Senayan, Jakarta</td>\n",
              "      <td>23</td>\n",
              "    </tr>\n",
              "    <tr>\n",
              "      <th>1</th>\n",
              "      <td>Join Kopi Bulungan</td>\n",
              "      <td>Kopi</td>\n",
              "      <td>3.9</td>\n",
              "      <td>20000</td>\n",
              "      <td>Blok M, Jakarta</td>\n",
              "      <td>22</td>\n",
              "    </tr>\n",
              "    <tr>\n",
              "      <th>77</th>\n",
              "      <td>Beer Garden</td>\n",
              "      <td>Itali</td>\n",
              "      <td>4.1</td>\n",
              "      <td>150000</td>\n",
              "      <td>SCBD, Jakarta</td>\n",
              "      <td>20</td>\n",
              "    </tr>\n",
              "    <tr>\n",
              "      <th>82</th>\n",
              "      <td>Brew &amp; Co</td>\n",
              "      <td>Indonesia</td>\n",
              "      <td>3.5</td>\n",
              "      <td>150000</td>\n",
              "      <td>Cilandak Town Square, Fatmawati, Jakarta</td>\n",
              "      <td>17</td>\n",
              "    </tr>\n",
              "    <tr>\n",
              "      <th>...</th>\n",
              "      <td>...</td>\n",
              "      <td>...</td>\n",
              "      <td>...</td>\n",
              "      <td>...</td>\n",
              "      <td>...</td>\n",
              "      <td>...</td>\n",
              "    </tr>\n",
              "    <tr>\n",
              "      <th>78</th>\n",
              "      <td>Hoshino Coffee</td>\n",
              "      <td>Kafe</td>\n",
              "      <td>3.9</td>\n",
              "      <td>150000</td>\n",
              "      <td>Senayan City, Senayan, Jakarta</td>\n",
              "      <td>1</td>\n",
              "    </tr>\n",
              "    <tr>\n",
              "      <th>4</th>\n",
              "      <td>Rocky Rooster</td>\n",
              "      <td>Makanan Cepat Saji</td>\n",
              "      <td>4.2</td>\n",
              "      <td>25000</td>\n",
              "      <td>Palmerah, Jakarta</td>\n",
              "      <td>1</td>\n",
              "    </tr>\n",
              "    <tr>\n",
              "      <th>89</th>\n",
              "      <td>Sushi Sei</td>\n",
              "      <td>Jepang</td>\n",
              "      <td>4.5</td>\n",
              "      <td>175000</td>\n",
              "      <td>Plaza Senayan, Senayan, Jakarta</td>\n",
              "      <td>1</td>\n",
              "    </tr>\n",
              "    <tr>\n",
              "      <th>6</th>\n",
              "      <td>Ayam Blenger PSP</td>\n",
              "      <td>Indonesia</td>\n",
              "      <td>4.2</td>\n",
              "      <td>25000</td>\n",
              "      <td>Palmerah, Jakarta</td>\n",
              "      <td>1</td>\n",
              "    </tr>\n",
              "    <tr>\n",
              "      <th>8</th>\n",
              "      <td>Rumah Makan Surya</td>\n",
              "      <td>Padang</td>\n",
              "      <td>4.2</td>\n",
              "      <td>30000</td>\n",
              "      <td>Bendungan Hilir, Jakarta</td>\n",
              "      <td>1</td>\n",
              "    </tr>\n",
              "  </tbody>\n",
              "</table>\n",
              "<p>107 rows × 6 columns</p>\n",
              "</div>\n",
              "      <button class=\"colab-df-convert\" onclick=\"convertToInteractive('df-a4087a3a-f6d4-4273-a161-0fa9438cf782')\"\n",
              "              title=\"Convert this dataframe to an interactive table.\"\n",
              "              style=\"display:none;\">\n",
              "        \n",
              "  <svg xmlns=\"http://www.w3.org/2000/svg\" height=\"24px\"viewBox=\"0 0 24 24\"\n",
              "       width=\"24px\">\n",
              "    <path d=\"M0 0h24v24H0V0z\" fill=\"none\"/>\n",
              "    <path d=\"M18.56 5.44l.94 2.06.94-2.06 2.06-.94-2.06-.94-.94-2.06-.94 2.06-2.06.94zm-11 1L8.5 8.5l.94-2.06 2.06-.94-2.06-.94L8.5 2.5l-.94 2.06-2.06.94zm10 10l.94 2.06.94-2.06 2.06-.94-2.06-.94-.94-2.06-.94 2.06-2.06.94z\"/><path d=\"M17.41 7.96l-1.37-1.37c-.4-.4-.92-.59-1.43-.59-.52 0-1.04.2-1.43.59L10.3 9.45l-7.72 7.72c-.78.78-.78 2.05 0 2.83L4 21.41c.39.39.9.59 1.41.59.51 0 1.02-.2 1.41-.59l7.78-7.78 2.81-2.81c.8-.78.8-2.07 0-2.86zM5.41 20L4 18.59l7.72-7.72 1.47 1.35L5.41 20z\"/>\n",
              "  </svg>\n",
              "      </button>\n",
              "      \n",
              "  <style>\n",
              "    .colab-df-container {\n",
              "      display:flex;\n",
              "      flex-wrap:wrap;\n",
              "      gap: 12px;\n",
              "    }\n",
              "\n",
              "    .colab-df-convert {\n",
              "      background-color: #E8F0FE;\n",
              "      border: none;\n",
              "      border-radius: 50%;\n",
              "      cursor: pointer;\n",
              "      display: none;\n",
              "      fill: #1967D2;\n",
              "      height: 32px;\n",
              "      padding: 0 0 0 0;\n",
              "      width: 32px;\n",
              "    }\n",
              "\n",
              "    .colab-df-convert:hover {\n",
              "      background-color: #E2EBFA;\n",
              "      box-shadow: 0px 1px 2px rgba(60, 64, 67, 0.3), 0px 1px 3px 1px rgba(60, 64, 67, 0.15);\n",
              "      fill: #174EA6;\n",
              "    }\n",
              "\n",
              "    [theme=dark] .colab-df-convert {\n",
              "      background-color: #3B4455;\n",
              "      fill: #D2E3FC;\n",
              "    }\n",
              "\n",
              "    [theme=dark] .colab-df-convert:hover {\n",
              "      background-color: #434B5C;\n",
              "      box-shadow: 0px 1px 3px 1px rgba(0, 0, 0, 0.15);\n",
              "      filter: drop-shadow(0px 1px 2px rgba(0, 0, 0, 0.3));\n",
              "      fill: #FFFFFF;\n",
              "    }\n",
              "  </style>\n",
              "\n",
              "      <script>\n",
              "        const buttonEl =\n",
              "          document.querySelector('#df-a4087a3a-f6d4-4273-a161-0fa9438cf782 button.colab-df-convert');\n",
              "        buttonEl.style.display =\n",
              "          google.colab.kernel.accessAllowed ? 'block' : 'none';\n",
              "\n",
              "        async function convertToInteractive(key) {\n",
              "          const element = document.querySelector('#df-a4087a3a-f6d4-4273-a161-0fa9438cf782');\n",
              "          const dataTable =\n",
              "            await google.colab.kernel.invokeFunction('convertToInteractive',\n",
              "                                                     [key], {});\n",
              "          if (!dataTable) return;\n",
              "\n",
              "          const docLinkHtml = 'Like what you see? Visit the ' +\n",
              "            '<a target=\"_blank\" href=https://colab.research.google.com/notebooks/data_table.ipynb>data table notebook</a>'\n",
              "            + ' to learn more about interactive tables.';\n",
              "          element.innerHTML = '';\n",
              "          dataTable['output_type'] = 'display_data';\n",
              "          await google.colab.output.renderOutput(dataTable, element);\n",
              "          const docLink = document.createElement('div');\n",
              "          docLink.innerHTML = docLinkHtml;\n",
              "          element.appendChild(docLink);\n",
              "        }\n",
              "      </script>\n",
              "    </div>\n",
              "  </div>\n",
              "  "
            ]
          },
          "metadata": {},
          "execution_count": 56
        }
      ]
    },
    {
      "cell_type": "markdown",
      "source": [
        "Kita bisa melihat bahwa model dapat melakukan prediksi "
      ],
      "metadata": {
        "id": "vg4VPbR7d_Tt"
      }
    },
    {
      "cell_type": "code",
      "source": [
        "def input_user_load(harga, daerah, tipe):\n",
        "    model_load = teks[teks.Price <= harga ]\n",
        "    model_load = model_load[model_load.Daerah == daerah ]\n",
        "    model_load = model_load[model_load.Tipe_1 == tipe ]\n",
        "    return model_load"
      ],
      "metadata": {
        "id": "5GjCbnOxdnZ_"
      },
      "execution_count": null,
      "outputs": []
    },
    {
      "cell_type": "code",
      "source": [
        "input_user_load(100000, \"Indonesian, Kuningan, Jakarta\", \"Peruvian\")"
      ],
      "metadata": {
        "colab": {
          "base_uri": "https://localhost:8080/",
          "height": 49
        },
        "id": "91DPv9ODeiZU",
        "outputId": "5bf6c676-1ae5-42a5-9292-d827ae142a60"
      },
      "execution_count": null,
      "outputs": [
        {
          "output_type": "execute_result",
          "data": {
            "text/plain": [
              "Empty DataFrame\n",
              "Columns: [Nama Restaurant, Tipe_1, Rating, Price, Daerah, sum_count_word]\n",
              "Index: []"
            ],
            "text/html": [
              "\n",
              "  <div id=\"df-a283a2c4-3f8a-483c-8e01-8f725eb7d5d3\">\n",
              "    <div class=\"colab-df-container\">\n",
              "      <div>\n",
              "<style scoped>\n",
              "    .dataframe tbody tr th:only-of-type {\n",
              "        vertical-align: middle;\n",
              "    }\n",
              "\n",
              "    .dataframe tbody tr th {\n",
              "        vertical-align: top;\n",
              "    }\n",
              "\n",
              "    .dataframe thead th {\n",
              "        text-align: right;\n",
              "    }\n",
              "</style>\n",
              "<table border=\"1\" class=\"dataframe\">\n",
              "  <thead>\n",
              "    <tr style=\"text-align: right;\">\n",
              "      <th></th>\n",
              "      <th>Nama Restaurant</th>\n",
              "      <th>Tipe_1</th>\n",
              "      <th>Rating</th>\n",
              "      <th>Price</th>\n",
              "      <th>Daerah</th>\n",
              "      <th>sum_count_word</th>\n",
              "    </tr>\n",
              "  </thead>\n",
              "  <tbody>\n",
              "  </tbody>\n",
              "</table>\n",
              "</div>\n",
              "      <button class=\"colab-df-convert\" onclick=\"convertToInteractive('df-a283a2c4-3f8a-483c-8e01-8f725eb7d5d3')\"\n",
              "              title=\"Convert this dataframe to an interactive table.\"\n",
              "              style=\"display:none;\">\n",
              "        \n",
              "  <svg xmlns=\"http://www.w3.org/2000/svg\" height=\"24px\"viewBox=\"0 0 24 24\"\n",
              "       width=\"24px\">\n",
              "    <path d=\"M0 0h24v24H0V0z\" fill=\"none\"/>\n",
              "    <path d=\"M18.56 5.44l.94 2.06.94-2.06 2.06-.94-2.06-.94-.94-2.06-.94 2.06-2.06.94zm-11 1L8.5 8.5l.94-2.06 2.06-.94-2.06-.94L8.5 2.5l-.94 2.06-2.06.94zm10 10l.94 2.06.94-2.06 2.06-.94-2.06-.94-.94-2.06-.94 2.06-2.06.94z\"/><path d=\"M17.41 7.96l-1.37-1.37c-.4-.4-.92-.59-1.43-.59-.52 0-1.04.2-1.43.59L10.3 9.45l-7.72 7.72c-.78.78-.78 2.05 0 2.83L4 21.41c.39.39.9.59 1.41.59.51 0 1.02-.2 1.41-.59l7.78-7.78 2.81-2.81c.8-.78.8-2.07 0-2.86zM5.41 20L4 18.59l7.72-7.72 1.47 1.35L5.41 20z\"/>\n",
              "  </svg>\n",
              "      </button>\n",
              "      \n",
              "  <style>\n",
              "    .colab-df-container {\n",
              "      display:flex;\n",
              "      flex-wrap:wrap;\n",
              "      gap: 12px;\n",
              "    }\n",
              "\n",
              "    .colab-df-convert {\n",
              "      background-color: #E8F0FE;\n",
              "      border: none;\n",
              "      border-radius: 50%;\n",
              "      cursor: pointer;\n",
              "      display: none;\n",
              "      fill: #1967D2;\n",
              "      height: 32px;\n",
              "      padding: 0 0 0 0;\n",
              "      width: 32px;\n",
              "    }\n",
              "\n",
              "    .colab-df-convert:hover {\n",
              "      background-color: #E2EBFA;\n",
              "      box-shadow: 0px 1px 2px rgba(60, 64, 67, 0.3), 0px 1px 3px 1px rgba(60, 64, 67, 0.15);\n",
              "      fill: #174EA6;\n",
              "    }\n",
              "\n",
              "    [theme=dark] .colab-df-convert {\n",
              "      background-color: #3B4455;\n",
              "      fill: #D2E3FC;\n",
              "    }\n",
              "\n",
              "    [theme=dark] .colab-df-convert:hover {\n",
              "      background-color: #434B5C;\n",
              "      box-shadow: 0px 1px 3px 1px rgba(0, 0, 0, 0.15);\n",
              "      filter: drop-shadow(0px 1px 2px rgba(0, 0, 0, 0.3));\n",
              "      fill: #FFFFFF;\n",
              "    }\n",
              "  </style>\n",
              "\n",
              "      <script>\n",
              "        const buttonEl =\n",
              "          document.querySelector('#df-a283a2c4-3f8a-483c-8e01-8f725eb7d5d3 button.colab-df-convert');\n",
              "        buttonEl.style.display =\n",
              "          google.colab.kernel.accessAllowed ? 'block' : 'none';\n",
              "\n",
              "        async function convertToInteractive(key) {\n",
              "          const element = document.querySelector('#df-a283a2c4-3f8a-483c-8e01-8f725eb7d5d3');\n",
              "          const dataTable =\n",
              "            await google.colab.kernel.invokeFunction('convertToInteractive',\n",
              "                                                     [key], {});\n",
              "          if (!dataTable) return;\n",
              "\n",
              "          const docLinkHtml = 'Like what you see? Visit the ' +\n",
              "            '<a target=\"_blank\" href=https://colab.research.google.com/notebooks/data_table.ipynb>data table notebook</a>'\n",
              "            + ' to learn more about interactive tables.';\n",
              "          element.innerHTML = '';\n",
              "          dataTable['output_type'] = 'display_data';\n",
              "          await google.colab.output.renderOutput(dataTable, element);\n",
              "          const docLink = document.createElement('div');\n",
              "          docLink.innerHTML = docLinkHtml;\n",
              "          element.appendChild(docLink);\n",
              "        }\n",
              "      </script>\n",
              "    </div>\n",
              "  </div>\n",
              "  "
            ]
          },
          "metadata": {},
          "execution_count": 58
        }
      ]
    },
    {
      "cell_type": "markdown",
      "source": [
        "Kita bisa melihat bahwa model yang kita buat telah berhasil melakukan rekomendasi terhadap user baru."
      ],
      "metadata": {
        "id": "rirZyk25gLq_"
      }
    },
    {
      "cell_type": "markdown",
      "source": [
        "Refrences :      \n",
        "https://github.com/rafifaditio/Product_Review_Text_Summarization/blob/main/Product%20Review%20Summarization.ipynb"
      ],
      "metadata": {
        "id": "rpj7eyLXApxn"
      }
    }
  ]
}